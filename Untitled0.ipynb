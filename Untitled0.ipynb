{
  "nbformat": 4,
  "nbformat_minor": 0,
  "metadata": {
    "colab": {
      "name": "Untitled0.ipynb",
      "provenance": [],
      "collapsed_sections": [],
      "authorship_tag": "ABX9TyNFvqUWgQQuiKaaW/q1KB7H",
      "include_colab_link": true
    },
    "kernelspec": {
      "name": "python3",
      "display_name": "Python 3"
    }
  },
  "cells": [
    {
      "cell_type": "markdown",
      "metadata": {
        "id": "view-in-github",
        "colab_type": "text"
      },
      "source": [
        "<a href=\"https://colab.research.google.com/github/Jimin980921/Do-it_DeepLearning/blob/master/Untitled0.ipynb\" target=\"_parent\"><img src=\"https://colab.research.google.com/assets/colab-badge.svg\" alt=\"Open In Colab\"/></a>"
      ]
    },
    {
      "cell_type": "code",
      "metadata": {
        "id": "FhUX9HS2svme",
        "colab_type": "code",
        "colab": {}
      },
      "source": [
        "import numpy as np\n",
        "x=np.array([[1,2,3],[4,5,6],[7,8,9]])\n",
        "w=np.array([[2,0],[0,0]])\n"
      ],
      "execution_count": 0,
      "outputs": []
    },
    {
      "cell_type": "code",
      "metadata": {
        "id": "GXFPyXuEoPYN",
        "colab_type": "code",
        "colab": {
          "base_uri": "https://localhost:8080/",
          "height": 63
        },
        "outputId": "be40dbf9-b877-4447-c40e-0abfcb3e60d8"
      },
      "source": [
        "import tensorflow as tf\n",
        "tf.enable_eager_execution()\n",
        "x_4d=x.astype(np.float).reshape(1,3,3,1)\n",
        "w_4d=w.reshape(2,2,1,1)"
      ],
      "execution_count": 2,
      "outputs": [
        {
          "output_type": "display_data",
          "data": {
            "text/html": [
              "<p style=\"color: red;\">\n",
              "The default version of TensorFlow in Colab will soon switch to TensorFlow 2.x.<br>\n",
              "We recommend you <a href=\"https://www.tensorflow.org/guide/migrate\" target=\"_blank\">upgrade</a> now \n",
              "or ensure your notebook will continue to use TensorFlow 1.x via the <code>%tensorflow_version 1.x</code> magic:\n",
              "<a href=\"https://colab.research.google.com/notebooks/tensorflow_version.ipynb\" target=\"_blank\">more info</a>.</p>\n"
            ],
            "text/plain": [
              "<IPython.core.display.HTML object>"
            ]
          },
          "metadata": {
            "tags": []
          }
        }
      ]
    },
    {
      "cell_type": "code",
      "metadata": {
        "id": "zSkkASPosuia",
        "colab_type": "code",
        "colab": {}
      },
      "source": [
        "c_out=tf.nn.conv2d(x_4d,w_4d,strides=1,padding='SAME')\n",
        "#결과값으로 tensor객체를 반환. 다차원배열을 텐서라고 부름. tensor객체의 numpy()메서드를 사용하면 텐서를 배열로 변환가능"
      ],
      "execution_count": 0,
      "outputs": []
    },
    {
      "cell_type": "code",
      "metadata": {
        "id": "ckpO2kZwuTtU",
        "colab_type": "code",
        "colab": {
          "base_uri": "https://localhost:8080/",
          "height": 69
        },
        "outputId": "a94a1c79-518b-4519-b6f4-7ba53ee8f823"
      },
      "source": [
        "#배치차원과 컬러차원을 제거하고 (3,3)크기로 변환하여 출력\n",
        "from scipy.signal import convolve2d\n",
        "from scipy.signal import convolve\n",
        "from scipy.signal import correlate\n",
        "from scipy.signal import correlate2d\n",
        "c_out.numpy().reshape(3,3)\n",
        "#4차원배열 출력"
      ],
      "execution_count": 4,
      "outputs": [
        {
          "output_type": "execute_result",
          "data": {
            "text/plain": [
              "array([[ 2.,  4.,  6.],\n",
              "       [ 8., 10., 12.],\n",
              "       [14., 16., 18.]])"
            ]
          },
          "metadata": {
            "tags": []
          },
          "execution_count": 4
        }
      ]
    },
    {
      "cell_type": "code",
      "metadata": {
        "id": "nTUE5Z9Iwita",
        "colab_type": "code",
        "colab": {}
      },
      "source": [
        "#최대풀링, 평균풀링\n",
        "x=np.array([[1,2,3,4],[5,6,7,8],[9,10,11,12],[13,14,15,16]])\n",
        "x=x.reshape(1,4,4,1)"
      ],
      "execution_count": 0,
      "outputs": []
    },
    {
      "cell_type": "code",
      "metadata": {
        "id": "tD-odafQ0RUh",
        "colab_type": "code",
        "colab": {
          "base_uri": "https://localhost:8080/",
          "height": 52
        },
        "outputId": "a9164a15-7947-47ed-d695-087ff8b1dc4a"
      },
      "source": [
        "#max_Pool2d함수로 최대풀링 수행. 풀링크기(보통 2X2)를 ksize,스트라이드크기(보통 풀링의 한 모서리크기)는 strides변수에 대입\n",
        "#max_pool2d가 반환한 tensor객체를 numpy()메서드로 변환해줌.  \n",
        "p_out=tf.nn.max_pool2d(x,ksize=2,strides=2,padding='VALID')\n",
        "p_out.numpy().reshape(2,2)"
      ],
      "execution_count": 8,
      "outputs": [
        {
          "output_type": "execute_result",
          "data": {
            "text/plain": [
              "array([[ 6,  8],\n",
              "       [14, 16]])"
            ]
          },
          "metadata": {
            "tags": []
          },
          "execution_count": 8
        }
      ]
    },
    {
      "cell_type": "code",
      "metadata": {
        "id": "i9RUeKJm1iGX",
        "colab_type": "code",
        "colab": {}
      },
      "source": [
        ""
      ],
      "execution_count": 0,
      "outputs": []
    }
  ]
}