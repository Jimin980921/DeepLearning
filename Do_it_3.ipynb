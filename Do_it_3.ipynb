{
  "nbformat": 4,
  "nbformat_minor": 0,
  "metadata": {
    "colab": {
      "name": "Do it_3.ipynb",
      "provenance": [],
      "collapsed_sections": [],
      "authorship_tag": "ABX9TyNPSW3lgbzr5A2FLRBVu3Ba",
      "include_colab_link": true
    },
    "kernelspec": {
      "name": "python3",
      "display_name": "Python 3"
    }
  },
  "cells": [
    {
      "cell_type": "markdown",
      "metadata": {
        "id": "view-in-github",
        "colab_type": "text"
      },
      "source": [
        "<a href=\"https://colab.research.google.com/github/Jimin980921/Do-it_DeepLearning/blob/master/Do_it_3.ipynb\" target=\"_parent\"><img src=\"https://colab.research.google.com/assets/colab-badge.svg\" alt=\"Open In Colab\"/></a>"
      ]
    },
    {
      "cell_type": "markdown",
      "metadata": {
        "id": "Sa0zPEI9Pvne",
        "colab_type": "text"
      },
      "source": [
        "## Do it 딥러닝 입문 3-1강 실습"
      ]
    },
    {
      "cell_type": "code",
      "metadata": {
        "id": "mWRBbEVrPYMv",
        "colab_type": "code",
        "colab": {}
      },
      "source": [
        "#데이터 준비\n",
        "from sklearn.datasets import load_diabetes\n",
        "diabetes=load_diabetes()  #diabetes는 Bunch클래스"
      ],
      "execution_count": 0,
      "outputs": []
    },
    {
      "cell_type": "code",
      "metadata": {
        "id": "xR7oZtcjPqEH",
        "colab_type": "code",
        "outputId": "9a5b06d2-0da5-472a-9bef-01729f0406dd",
        "colab": {
          "base_uri": "https://localhost:8080/",
          "height": 34
        }
      },
      "source": [
        "#diabetes의 속성에 data,target 속성에는 입력과 타깃데이터가 넘파이배열로 저장되어있음. 442행(샘플-환자) 10열(샘플특성-키,몸무게...), 442행 1열\n",
        "print(diabetes.data.shape,diabetes.target.shape)"
      ],
      "execution_count": 6,
      "outputs": [
        {
          "output_type": "stream",
          "text": [
            "(442, 10) (442,)\n"
          ],
          "name": "stdout"
        }
      ]
    },
    {
      "cell_type": "code",
      "metadata": {
        "id": "G29_lPpkQdoU",
        "colab_type": "code",
        "outputId": "472388e6-4959-40c9-aec4-97f3506648b6",
        "colab": {
          "base_uri": "https://localhost:8080/",
          "height": 122
        }
      },
      "source": [
        "diabetes.data[0:3]   #입력"
      ],
      "execution_count": 7,
      "outputs": [
        {
          "output_type": "execute_result",
          "data": {
            "text/plain": [
              "array([[ 0.03807591,  0.05068012,  0.06169621,  0.02187235, -0.0442235 ,\n",
              "        -0.03482076, -0.04340085, -0.00259226,  0.01990842, -0.01764613],\n",
              "       [-0.00188202, -0.04464164, -0.05147406, -0.02632783, -0.00844872,\n",
              "        -0.01916334,  0.07441156, -0.03949338, -0.06832974, -0.09220405],\n",
              "       [ 0.08529891,  0.05068012,  0.04445121, -0.00567061, -0.04559945,\n",
              "        -0.03419447, -0.03235593, -0.00259226,  0.00286377, -0.02593034]])"
            ]
          },
          "metadata": {
            "tags": []
          },
          "execution_count": 7
        }
      ]
    },
    {
      "cell_type": "code",
      "metadata": {
        "id": "bCbXtEa-RB7J",
        "colab_type": "code",
        "outputId": "558a5835-21ee-4001-d1c6-cf6ef6cd9775",
        "colab": {
          "base_uri": "https://localhost:8080/",
          "height": 34
        }
      },
      "source": [
        "diabetes.target[:3]  #타깃"
      ],
      "execution_count": 8,
      "outputs": [
        {
          "output_type": "execute_result",
          "data": {
            "text/plain": [
              "array([151.,  75., 141.])"
            ]
          },
          "metadata": {
            "tags": []
          },
          "execution_count": 8
        }
      ]
    },
    {
      "cell_type": "code",
      "metadata": {
        "id": "Tnfej5s_RSvs",
        "colab_type": "code",
        "outputId": "29eb1c19-f8cc-4003-d92d-842755f65c9e",
        "colab": {
          "base_uri": "https://localhost:8080/",
          "height": 699
        }
      },
      "source": [
        "import matplotlib.pyplot as plt\n",
        "plt.scatter(diabetes.data[:,2],diabetes.target) #2번째 특성만 사용해서 그래프 표현\n",
        "plt.xlabel('2번째특성')\n",
        "plt.ylabel('환자')\n",
        "plt.show()"
      ],
      "execution_count": 9,
      "outputs": [
        {
          "output_type": "stream",
          "text": [
            "/usr/local/lib/python3.6/dist-packages/matplotlib/backends/backend_agg.py:211: RuntimeWarning: Glyph 48264 missing from current font.\n",
            "  font.set_text(s, 0.0, flags=flags)\n",
            "/usr/local/lib/python3.6/dist-packages/matplotlib/backends/backend_agg.py:211: RuntimeWarning: Glyph 51704 missing from current font.\n",
            "  font.set_text(s, 0.0, flags=flags)\n",
            "/usr/local/lib/python3.6/dist-packages/matplotlib/backends/backend_agg.py:211: RuntimeWarning: Glyph 53945 missing from current font.\n",
            "  font.set_text(s, 0.0, flags=flags)\n",
            "/usr/local/lib/python3.6/dist-packages/matplotlib/backends/backend_agg.py:211: RuntimeWarning: Glyph 49457 missing from current font.\n",
            "  font.set_text(s, 0.0, flags=flags)\n",
            "/usr/local/lib/python3.6/dist-packages/matplotlib/backends/backend_agg.py:180: RuntimeWarning: Glyph 48264 missing from current font.\n",
            "  font.set_text(s, 0, flags=flags)\n",
            "/usr/local/lib/python3.6/dist-packages/matplotlib/backends/backend_agg.py:180: RuntimeWarning: Glyph 51704 missing from current font.\n",
            "  font.set_text(s, 0, flags=flags)\n",
            "/usr/local/lib/python3.6/dist-packages/matplotlib/backends/backend_agg.py:180: RuntimeWarning: Glyph 53945 missing from current font.\n",
            "  font.set_text(s, 0, flags=flags)\n",
            "/usr/local/lib/python3.6/dist-packages/matplotlib/backends/backend_agg.py:180: RuntimeWarning: Glyph 49457 missing from current font.\n",
            "  font.set_text(s, 0, flags=flags)\n",
            "/usr/local/lib/python3.6/dist-packages/matplotlib/backends/backend_agg.py:211: RuntimeWarning: Glyph 54872 missing from current font.\n",
            "  font.set_text(s, 0.0, flags=flags)\n",
            "/usr/local/lib/python3.6/dist-packages/matplotlib/backends/backend_agg.py:211: RuntimeWarning: Glyph 51088 missing from current font.\n",
            "  font.set_text(s, 0.0, flags=flags)\n",
            "/usr/local/lib/python3.6/dist-packages/matplotlib/backends/backend_agg.py:180: RuntimeWarning: Glyph 54872 missing from current font.\n",
            "  font.set_text(s, 0, flags=flags)\n",
            "/usr/local/lib/python3.6/dist-packages/matplotlib/backends/backend_agg.py:180: RuntimeWarning: Glyph 51088 missing from current font.\n",
            "  font.set_text(s, 0, flags=flags)\n"
          ],
          "name": "stderr"
        },
        {
          "output_type": "display_data",
          "data": {
            "image/png": "[encoded data removed]",
            "text/plain": [
              "<Figure size 432x288 with 1 Axes>"
            ]
          },
          "metadata": {
            "tags": []
          }
        }
      ]
    },
    {
      "cell_type": "code",
      "metadata": {
        "id": "S9szNRZtSuut",
        "colab_type": "code",
        "colab": {}
      },
      "source": [
        "x=diabetes.data[:,2]\n",
        "y=diabetes.target"
      ],
      "execution_count": 0,
      "outputs": []
    },
    {
      "cell_type": "markdown",
      "metadata": {
        "id": "d-RyxhHDTjQU",
        "colab_type": "text"
      },
      "source": [
        "## **경사하강법**"
      ]
    },
    {
      "cell_type": "code",
      "metadata": {
        "id": "CocI6Kk1Top_",
        "colab_type": "code",
        "colab": {}
      },
      "source": [
        "\n",
        "#w,b 초기화\n",
        "w=1.0\n",
        "b=1.0"
      ],
      "execution_count": 0,
      "outputs": []
    },
    {
      "cell_type": "code",
      "metadata": {
        "id": "IzPo4AyaTwjZ",
        "colab_type": "code",
        "outputId": "76acce40-bde0-4338-aed4-e187c35f088a",
        "colab": {
          "base_uri": "https://localhost:8080/",
          "height": 52
        }
      },
      "source": [
        "y_hat=x[0]*w+b\n",
        "print(x[0]) #첫번째환자의 2번째 특성\n",
        "print(y_hat)  # 151과 너무 다름"
      ],
      "execution_count": 12,
      "outputs": [
        {
          "output_type": "stream",
          "text": [
            "0.0616962065186885\n",
            "1.0616962065186886\n"
          ],
          "name": "stdout"
        }
      ]
    },
    {
      "cell_type": "code",
      "metadata": {
        "id": "AUBu6IXHUBJD",
        "colab_type": "code",
        "outputId": "8299babc-36ae-4ec7-ef05-9bdee2100243",
        "colab": {
          "base_uri": "https://localhost:8080/",
          "height": 34
        }
      },
      "source": [
        "print(y[0])"
      ],
      "execution_count": 13,
      "outputs": [
        {
          "output_type": "stream",
          "text": [
            "151.0\n"
          ],
          "name": "stdout"
        }
      ]
    },
    {
      "cell_type": "code",
      "metadata": {
        "id": "6INe10CHUCSs",
        "colab_type": "code",
        "outputId": "886aad46-1892-4cc9-edc4-c4af88db99d8",
        "colab": {
          "base_uri": "https://localhost:8080/",
          "height": 34
        }
      },
      "source": [
        "#w값조절해 예측값 바꾸기\n",
        "w_inc=w+0.1\n",
        "y_hat_inc=x[0]*w_inc+b\n",
        "print(y_hat_inc) #151과 너무 다름"
      ],
      "execution_count": 14,
      "outputs": [
        {
          "output_type": "stream",
          "text": [
            "1.0678658271705574\n"
          ],
          "name": "stdout"
        }
      ]
    },
    {
      "cell_type": "code",
      "metadata": {
        "id": "3R0U-tPlUq05",
        "colab_type": "code",
        "outputId": "61f79a85-2c4f-48ff-d26a-01a0793f05a9",
        "colab": {
          "base_uri": "https://localhost:8080/",
          "height": 34
        }
      },
      "source": [
        "#w값 저정한 후, 예측값증가정도 확인하기\n",
        "w_rate=(y_hat_inc-y_hat)/(w_inc-w)\n",
        "print(w_rate)  #x[0]와 값이 같음"
      ],
      "execution_count": 15,
      "outputs": [
        {
          "output_type": "stream",
          "text": [
            "0.061696206518688734\n"
          ],
          "name": "stdout"
        }
      ]
    },
    {
      "cell_type": "code",
      "metadata": {
        "id": "w39palaDVM5K",
        "colab_type": "code",
        "colab": {
          "base_uri": "https://localhost:8080/",
          "height": 34
        },
        "outputId": "f0b8b5dc-971a-44d4-b5db-470a7a242173"
      },
      "source": [
        "#가중치 w를 업데이트 하는방법\n",
        "w_new=w+w_rate\n",
        "w_new"
      ],
      "execution_count": 16,
      "outputs": [
        {
          "output_type": "execute_result",
          "data": {
            "text/plain": [
              "1.0616962065186888"
            ]
          },
          "metadata": {
            "tags": []
          },
          "execution_count": 16
        }
      ]
    },
    {
      "cell_type": "code",
      "metadata": {
        "id": "kLsPeXQZotT8",
        "colab_type": "code",
        "colab": {
          "base_uri": "https://localhost:8080/",
          "height": 34
        },
        "outputId": "d59185a1-71e1-486b-93ee-36bc7b10c62f"
      },
      "source": [
        "#변화율로 절편 업데이트\n",
        "b_inc=b+0.1\n",
        "y_hat_inc=x[0]*w+b_inc\n",
        "print(y_hat_inc)"
      ],
      "execution_count": 17,
      "outputs": [
        {
          "output_type": "stream",
          "text": [
            "1.1616962065186887\n"
          ],
          "name": "stdout"
        }
      ]
    },
    {
      "cell_type": "code",
      "metadata": {
        "id": "TJxQ7mC6pItd",
        "colab_type": "code",
        "colab": {
          "base_uri": "https://localhost:8080/",
          "height": 34
        },
        "outputId": "7a27a629-e49d-410f-f79a-705da2d2c5f8"
      },
      "source": [
        "#절편증가율\n",
        "b_rate=(y_hat_inc-y_hat)/(b_inc-b)\n",
        "b_rate"
      ],
      "execution_count": 19,
      "outputs": [
        {
          "output_type": "execute_result",
          "data": {
            "text/plain": [
              "1.0"
            ]
          },
          "metadata": {
            "tags": []
          },
          "execution_count": 19
        }
      ]
    },
    {
      "cell_type": "code",
      "metadata": {
        "id": "vcp-wryhpS_-",
        "colab_type": "code",
        "colab": {
          "base_uri": "https://localhost:8080/",
          "height": 34
        },
        "outputId": "1446c719-4f80-4be0-96bb-13c25c1a83fa"
      },
      "source": [
        "#b의 변화율이 1이기때문에 단순히 1 더하기\n",
        "b_new=b+1\n",
        "b_new"
      ],
      "execution_count": 20,
      "outputs": [
        {
          "output_type": "execute_result",
          "data": {
            "text/plain": [
              "2.0"
            ]
          },
          "metadata": {
            "tags": []
          },
          "execution_count": 20
        }
      ]
    },
    {
      "cell_type": "markdown",
      "metadata": {
        "id": "jDz5rxhHqr3b",
        "colab_type": "text"
      },
      "source": [
        "# **오차역전파**\n",
        "오차 역전파로 가중치와 절편을 더 적절하게 업데이트 가능\n",
        "\n",
        "오차 역전파: y_hat과 y의 차이를 이용하여 w,b를 업데이트\n"
      ]
    },
    {
      "cell_type": "code",
      "metadata": {
        "id": "fp688mXPquA_",
        "colab_type": "code",
        "colab": {
          "base_uri": "https://localhost:8080/",
          "height": 34
        },
        "outputId": "816140ee-8660-4a57-b74c-7c2a905cadc6"
      },
      "source": [
        "#1. 오차와 변화율을 곱하여 가중치 업데이트하기\n",
        "err=y[0]-y_hat\n",
        "w_new=w+w_rate*err\n",
        "b_new=b+b_rate*err\n",
        "print(w_new,b_new)"
      ],
      "execution_count": 21,
      "outputs": [
        {
          "output_type": "stream",
          "text": [
            "10.250624555904514 150.9383037934813\n"
          ],
          "name": "stdout"
        }
      ]
    },
    {
      "cell_type": "code",
      "metadata": {
        "id": "uFnO6fo1tEO4",
        "colab_type": "code",
        "colab": {
          "base_uri": "https://localhost:8080/",
          "height": 34
        },
        "outputId": "f676f2f5-9f2a-446a-9ec3-f1b8a1107f0c"
      },
      "source": [
        "#2.w_rate를 x[1]로 갱신\n",
        "y_hat=x[1]*w_new+b_new\n",
        "w_rate=x[1]\n",
        "err=y[1]-y_hat\n",
        "b_new=b_new+b_rate*err\n",
        "w_new=w_new+w_rate*err\n",
        "print(b_new,w_new)"
      ],
      "execution_count": 22,
      "outputs": [
        {
          "output_type": "stream",
          "text": [
            "75.52764127612664 14.132317616381767\n"
          ],
          "name": "stdout"
        }
      ]
    },
    {
      "cell_type": "code",
      "metadata": {
        "id": "xDWQSD8bwGdp",
        "colab_type": "code",
        "colab": {
          "base_uri": "https://localhost:8080/",
          "height": 34
        },
        "outputId": "8f0a3770-0c10-4aba-ffca-91384186fdcd"
      },
      "source": [
        "for x_i,y_i in zip(x,y):   #zip함수는 여러개 배열에서 동시에 요소를 하나씩 꺼내줌.\n",
        "  y_hat=x_i*w+b\n",
        "  err=y_i-y_hat\n",
        "  w_rate=x_i\n",
        "  w=w+w_rate*err\n",
        "  b=b+b_rate*err\n",
        "print(w,b)"
      ],
      "execution_count": 23,
      "outputs": [
        {
          "output_type": "stream",
          "text": [
            "587.8654539985689 99.40935564531424\n"
          ],
          "name": "stdout"
        }
      ]
    },
    {
      "cell_type": "code",
      "metadata": {
        "id": "-zEm9yO7wlAR",
        "colab_type": "code",
        "colab": {
          "base_uri": "https://localhost:8080/",
          "height": 279
        },
        "outputId": "21a53a6e-be2e-437d-bcfe-d1fc8f576000"
      },
      "source": [
        "plt.scatter(x,y)\n",
        "pt1=(-0.1,-0.1*w+b)\n",
        "pt2=(0.15,0.15*w+b)\n",
        "plt.plot([pt1[0],pt2[0]],[pt1[1],pt2[1]])  #?\n",
        "plt.xlabel('x')\n",
        "plt.ylabel('y')\n",
        "plt.show()"
      ],
      "execution_count": 29,
      "outputs": [
        {
          "output_type": "display_data",
          "data": {
            "image/png": "[encoded data removed]",
            "text/plain": [
              "<Figure size 432x288 with 1 Axes>"
            ]
          },
          "metadata": {
            "tags": []
          }
        }
      ]
    },
    {
      "cell_type": "code",
      "metadata": {
        "id": "wnIsi2X7xlp4",
        "colab_type": "code",
        "colab": {
          "base_uri": "https://localhost:8080/",
          "height": 34
        },
        "outputId": "3781be89-6fe0-4798-8573-e29c6f9648e7"
      },
      "source": [
        "#여러 에포크 반복하기\n",
        "for i in range(0,100):\n",
        "  for x_i,y_i in zip(x,y):\n",
        "    y_hat=x_i*w+b\n",
        "    err=y_i-y_hat\n",
        "    w_rate=x_i\n",
        "    w=w+w_rate*err\n",
        "    b=b+b_rate*err\n",
        "print(w,b)"
      ],
      "execution_count": 31,
      "outputs": [
        {
          "output_type": "stream",
          "text": [
            "913.5973364345905 123.39414383177204\n"
          ],
          "name": "stdout"
        }
      ]
    },
    {
      "cell_type": "code",
      "metadata": {
        "id": "eKMDk02DzO25",
        "colab_type": "code",
        "colab": {
          "base_uri": "https://localhost:8080/",
          "height": 279
        },
        "outputId": "e32eabf8-6030-4f45-ac69-d5c4bcaef1bc"
      },
      "source": [
        "plt.scatter(x,y)\n",
        "pt1=(-0.1,-0.1*w+b)\n",
        "pt2=(0.15,0.15*w+b)\n",
        "plt.plot([pt1[0],pt2[0]],[pt1[1],pt2[1]])  #?\n",
        "plt.xlabel('x')\n",
        "plt.ylabel('y')\n",
        "plt.show()"
      ],
      "execution_count": 32,
      "outputs": [
        {
          "output_type": "display_data",
          "data": {
            "image/png": "[encoded data removed]",
            "text/plain": [
              "<Figure size 432x288 with 1 Axes>"
            ]
          },
          "metadata": {
            "tags": []
          }
        }
      ]
    },
    {
      "cell_type": "code",
      "metadata": {
        "id": "gP2cBpg0zz1t",
        "colab_type": "code",
        "colab": {
          "base_uri": "https://localhost:8080/",
          "height": 34
        },
        "outputId": "e4f281ad-e9e3-4577-e897-9eb9722e25e1"
      },
      "source": [
        "#모델예측하기\n",
        "x_new=0.18\n",
        "y_pred=x_new*w+b\n",
        "y_pred"
      ],
      "execution_count": 33,
      "outputs": [
        {
          "output_type": "execute_result",
          "data": {
            "text/plain": [
              "287.8416643899983"
            ]
          },
          "metadata": {
            "tags": []
          },
          "execution_count": 33
        }
      ]
    },
    {
      "cell_type": "code",
      "metadata": {
        "id": "W4aOU1S20FHV",
        "colab_type": "code",
        "colab": {
          "base_uri": "https://localhost:8080/",
          "height": 279
        },
        "outputId": "86b66b8e-cf0c-4799-af99-c8c761a46912"
      },
      "source": [
        "plt.scatter(x,y)\n",
        "plt.scatter(x_new,y_pred)\n",
        "plt.xlabel('x')\n",
        "plt.ylabel('y')\n",
        "plt.show()"
      ],
      "execution_count": 34,
      "outputs": [
        {
          "output_type": "display_data",
          "data": {
            "image/png": "[encoded data removed]",
            "text/plain": [
              "<Figure size 432x288 with 1 Axes>"
            ]
          },
          "metadata": {
            "tags": []
          }
        }
      ]
    },
    {
      "cell_type": "code",
      "metadata": {
        "id": "Xd9Jrrrg0SDJ",
        "colab_type": "code",
        "colab": {}
      },
      "source": [
        "class Neuron:\n",
        "  def init(self):\n",
        "    self.w=1.0\n",
        "    self.b=1.0\n",
        "  \n",
        "  def forpass(self,x):\n",
        "    y_hat=x*self.w+self.b\n",
        "    return y_hat\n",
        "  \n",
        "  def backprop(self,x,err):\n",
        "    w_grad=x*err\n",
        "    b_grad=1*err\n",
        "    return w_grad,b_grad\n",
        "\n",
        "  def fit(self,x,y,epochs=100):\n",
        "    for i in range(epochs):\n",
        "      for x_i,y_i in zip(x,y):\n",
        "        y_hat=self.forpass(x_i)\n",
        "        err=y_i-y_hat\n",
        "        w_grad,b_grad=self.backprop(x_i,err)\n",
        "        self.w+=w_grad\n",
        "        self.b+=b_grad\n",
        "\n",
        "\n",
        "  \n",
        "\n"
      ],
      "execution_count": 0,
      "outputs": []
    },
    {
      "cell_type": "code",
      "metadata": {
        "id": "i09h_4Yw-YEb",
        "colab_type": "code",
        "colab": {
          "base_uri": "https://localhost:8080/",
          "height": 332
        },
        "outputId": "6c2c805f-2cd4-4497-fdf5-f57c798ce109"
      },
      "source": [
        "  neuron=Neuron()\n",
        "  neuron.fit(x,y)"
      ],
      "execution_count": 42,
      "outputs": [
        {
          "output_type": "error",
          "ename": "AttributeError",
          "evalue": "ignored",
          "traceback": [
            "\u001b[0;31m---------------------------------------------------------------------------\u001b[0m",
            "\u001b[0;31mAttributeError\u001b[0m                            Traceback (most recent call last)",
            "\u001b[0;32m<ipython-input-42-d9afdda12f10>\u001b[0m in \u001b[0;36m<module>\u001b[0;34m()\u001b[0m\n\u001b[1;32m      1\u001b[0m \u001b[0mneuron\u001b[0m\u001b[0;34m=\u001b[0m\u001b[0mNeuron\u001b[0m\u001b[0;34m(\u001b[0m\u001b[0;34m)\u001b[0m\u001b[0;34m\u001b[0m\u001b[0;34m\u001b[0m\u001b[0m\n\u001b[0;32m----> 2\u001b[0;31m \u001b[0mneuron\u001b[0m\u001b[0;34m.\u001b[0m\u001b[0mfit\u001b[0m\u001b[0;34m(\u001b[0m\u001b[0mx\u001b[0m\u001b[0;34m,\u001b[0m\u001b[0my\u001b[0m\u001b[0;34m)\u001b[0m\u001b[0;34m\u001b[0m\u001b[0;34m\u001b[0m\u001b[0m\n\u001b[0m",
            "\u001b[0;32m<ipython-input-41-64ce5a8fe531>\u001b[0m in \u001b[0;36mfit\u001b[0;34m(self, x, y, epochs)\u001b[0m\n\u001b[1;32m     16\u001b[0m     \u001b[0;32mfor\u001b[0m \u001b[0mi\u001b[0m \u001b[0;32min\u001b[0m \u001b[0mrange\u001b[0m\u001b[0;34m(\u001b[0m\u001b[0mepochs\u001b[0m\u001b[0;34m)\u001b[0m\u001b[0;34m:\u001b[0m\u001b[0;34m\u001b[0m\u001b[0;34m\u001b[0m\u001b[0m\n\u001b[1;32m     17\u001b[0m       \u001b[0;32mfor\u001b[0m \u001b[0mx_i\u001b[0m\u001b[0;34m,\u001b[0m\u001b[0my_i\u001b[0m \u001b[0;32min\u001b[0m \u001b[0mzip\u001b[0m\u001b[0;34m(\u001b[0m\u001b[0mx\u001b[0m\u001b[0;34m,\u001b[0m\u001b[0my\u001b[0m\u001b[0;34m)\u001b[0m\u001b[0;34m:\u001b[0m\u001b[0;34m\u001b[0m\u001b[0;34m\u001b[0m\u001b[0m\n\u001b[0;32m---> 18\u001b[0;31m         \u001b[0my_hat\u001b[0m\u001b[0;34m=\u001b[0m\u001b[0mself\u001b[0m\u001b[0;34m.\u001b[0m\u001b[0mforpass\u001b[0m\u001b[0;34m(\u001b[0m\u001b[0mx_i\u001b[0m\u001b[0;34m)\u001b[0m\u001b[0;34m\u001b[0m\u001b[0;34m\u001b[0m\u001b[0m\n\u001b[0m\u001b[1;32m     19\u001b[0m         \u001b[0merr\u001b[0m\u001b[0;34m=\u001b[0m\u001b[0my_i\u001b[0m\u001b[0;34m-\u001b[0m\u001b[0my_hat\u001b[0m\u001b[0;34m\u001b[0m\u001b[0;34m\u001b[0m\u001b[0m\n\u001b[1;32m     20\u001b[0m         \u001b[0mw_grad\u001b[0m\u001b[0;34m,\u001b[0m\u001b[0mb_grad\u001b[0m\u001b[0;34m=\u001b[0m\u001b[0mself\u001b[0m\u001b[0;34m.\u001b[0m\u001b[0mbackprop\u001b[0m\u001b[0;34m(\u001b[0m\u001b[0mx_i\u001b[0m\u001b[0;34m,\u001b[0m\u001b[0merr\u001b[0m\u001b[0;34m)\u001b[0m\u001b[0;34m\u001b[0m\u001b[0;34m\u001b[0m\u001b[0m\n",
            "\u001b[0;32m<ipython-input-41-64ce5a8fe531>\u001b[0m in \u001b[0;36mforpass\u001b[0;34m(self, x)\u001b[0m\n\u001b[1;32m      5\u001b[0m \u001b[0;34m\u001b[0m\u001b[0m\n\u001b[1;32m      6\u001b[0m   \u001b[0;32mdef\u001b[0m \u001b[0mforpass\u001b[0m\u001b[0;34m(\u001b[0m\u001b[0mself\u001b[0m\u001b[0;34m,\u001b[0m\u001b[0mx\u001b[0m\u001b[0;34m)\u001b[0m\u001b[0;34m:\u001b[0m\u001b[0;34m\u001b[0m\u001b[0;34m\u001b[0m\u001b[0m\n\u001b[0;32m----> 7\u001b[0;31m     \u001b[0my_hat\u001b[0m\u001b[0;34m=\u001b[0m\u001b[0mx\u001b[0m\u001b[0;34m*\u001b[0m\u001b[0mself\u001b[0m\u001b[0;34m.\u001b[0m\u001b[0mw\u001b[0m\u001b[0;34m+\u001b[0m\u001b[0mself\u001b[0m\u001b[0;34m.\u001b[0m\u001b[0mb\u001b[0m\u001b[0;34m\u001b[0m\u001b[0;34m\u001b[0m\u001b[0m\n\u001b[0m\u001b[1;32m      8\u001b[0m     \u001b[0;32mreturn\u001b[0m \u001b[0my_hat\u001b[0m\u001b[0;34m\u001b[0m\u001b[0;34m\u001b[0m\u001b[0m\n\u001b[1;32m      9\u001b[0m \u001b[0;34m\u001b[0m\u001b[0m\n",
            "\u001b[0;31mAttributeError\u001b[0m: 'Neuron' object has no attribute 'w'"
          ]
        }
      ]
    },
    {
      "cell_type": "code",
      "metadata": {
        "id": "esQcpeNh_zbG",
        "colab_type": "code",
        "colab": {}
      },
      "source": [
        ""
      ],
      "execution_count": 0,
      "outputs": []
    }
  ]
}