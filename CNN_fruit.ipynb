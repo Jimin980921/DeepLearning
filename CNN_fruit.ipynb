{
 "cells": [
  {
   "cell_type": "code",
   "execution_count": 37,
   "metadata": {},
   "outputs": [],
   "source": [
    "import numpy as np\n",
    "import pandas as pd\n",
    "import tensorflow as tf\n",
    "import matplotlib.pyplot as plt\n",
    "import os\n",
    "import cv2\n",
    "\n",
    "from keras.utils import to_categorical\n",
    "from keras.layers import Dense, Conv2D, Flatten, MaxPool2D, Dropout\n",
    "from keras.models import Sequential\n",
    "from sklearn.model_selection import train_test_split\n",
    "\n",
    "train_path='C:/Users/jmlee/Desktop/Jimin/data_study/CNN_fruit/dataset/train_set'\n",
    "test_path='C:/Users/jmlee/Desktop/Jimin/data_study/CNN_fruit/dataset/test_set'"
   ]
  },
  {
   "cell_type": "code",
   "execution_count": 84,
   "metadata": {},
   "outputs": [],
   "source": [
    "from PIL import Image\n",
    "#훈련데이터 불러와서 resize하고 저장\n",
    "X_train=[]\n",
    "for f in os.listdir(train_path):\n",
    "    if f.split('.')[1] =='jpg':\n",
    "        img = cv2.imread(train_path+'/'+f)\n",
    "        img = cv2.resize(img,(200,200))\n",
    "        img=  cv2.cvtColor(img, cv2.COLOR_BGR2RGB) \n",
    "#         cv2.imwrite(f,img)   #ipynb파일위치에 저장됨.\n",
    "        X_train.append(img)\n",
    "\n",
    "#라벨링\n",
    "title=[]\n",
    "train_label=[]\n",
    "for i in os.listdir(train_path):\n",
    "    if(i[0]=='a'):\n",
    "        train_label.append(0)\n",
    "    elif(i[0]=='b'):\n",
    "        train_label.append(1)\n",
    "    elif(i[0]=='o'):\n",
    "        train_label.append(2)\n",
    "    elif(i[0]=='m'):\n",
    "        train_label.append(3)"
   ]
  },
  {
   "cell_type": "code",
   "execution_count": 85,
   "metadata": {},
   "outputs": [],
   "source": [
    "#이미지를 array로\n",
    "X_train=np.array(X_train)"
   ]
  },
  {
   "cell_type": "code",
   "execution_count": 86,
   "metadata": {},
   "outputs": [],
   "source": [
    "#원-핫 인코딩\n",
    "from keras.utils import np_utils\n",
    "train_label= np_utils.to_categorical(train_label)"
   ]
  },
  {
   "cell_type": "code",
   "execution_count": 87,
   "metadata": {},
   "outputs": [],
   "source": [
    "#훈련, 검증데이터 나누기\n",
    "x_train, x_val, y_train, y_val=train_test_split(X_train, train_label, random_state=1)"
   ]
  },
  {
   "cell_type": "code",
   "execution_count": null,
   "metadata": {},
   "outputs": [],
   "source": [
    "# label=np.array(train_label)\n",
    "# type(train_label)"
   ]
  },
  {
   "cell_type": "code",
   "execution_count": 88,
   "metadata": {
    "scrolled": false
   },
   "outputs": [
    {
     "data": {
      "text/plain": [
       "(232, 200, 200, 3)"
      ]
     },
     "execution_count": 88,
     "metadata": {},
     "output_type": "execute_result"
    }
   ],
   "source": [
    "X_train.shape #첫번째 이미지 정보"
   ]
  },
  {
   "cell_type": "code",
   "execution_count": 89,
   "metadata": {},
   "outputs": [
    {
     "data": {
      "text/plain": [
       "(232, 4)"
      ]
     },
     "execution_count": 89,
     "metadata": {},
     "output_type": "execute_result"
    }
   ],
   "source": [
    "label.shape"
   ]
  },
  {
   "cell_type": "code",
   "execution_count": 90,
   "metadata": {},
   "outputs": [
    {
     "data": {
      "text/plain": [
       "numpy.ndarray"
      ]
     },
     "execution_count": 90,
     "metadata": {},
     "output_type": "execute_result"
    }
   ],
   "source": [
    "type(label)\n",
    "type(X_train)"
   ]
  },
  {
   "cell_type": "code",
   "execution_count": 91,
   "metadata": {},
   "outputs": [],
   "source": [
    "from PIL import Image\n",
    "#테스트데이터 불러와서 resize하고 저장\n",
    "X_test=[]\n",
    "for f in os.listdir(test_path):\n",
    "    if f.split('.')[1] =='jpg':\n",
    "        img = cv2.imread(test_path+'/'+f)\n",
    "        img = cv2.resize(img,(200,200))\n",
    "        img=  cv2.cvtColor(img, cv2.COLOR_BGR2RGB) \n",
    "#         cv2.imwrite(f,img)   #ipynb파일위치에 저장됨.\n",
    "        X_test.append(img)\n",
    "\n",
    "#라벨링\n",
    "title=[]\n",
    "test_label=[]\n",
    "for i in os.listdir(test_path):\n",
    "    if(i[0]=='a'):\n",
    "        test_label.append(0)\n",
    "    elif(i[0]=='b'):\n",
    "        test_label.append(1)\n",
    "    elif(i[0]=='o'):\n",
    "        test_label.append(2)\n",
    "    elif(i[0]=='m'):\n",
    "        test_label.append(3)"
   ]
  },
  {
   "cell_type": "code",
   "execution_count": 102,
   "metadata": {},
   "outputs": [],
   "source": [
    "#배열로 바꾸기\n",
    "X_test=np.array(X_test)\n",
    "test_label=np.array(test_label)"
   ]
  },
  {
   "cell_type": "code",
   "execution_count": 93,
   "metadata": {},
   "outputs": [],
   "source": [
    "#CNN\n",
    "from keras.models import Sequential\n",
    "from keras.layers import Convolution2D\n",
    "from keras.layers import MaxPooling2D\n",
    "from keras.layers import Flatten\n",
    "from keras.layers import Dense\n",
    "\n",
    "classifier=Sequential()\n",
    "\n",
    "classifier.add(Conv2D(32,(3,3),input_shape=(200,200,3),activation='relu'))\n",
    "#필러 갯수, 필러 열, 필러 행, input이미지(x,y,채널),활성화함수\n",
    "\n",
    "classifier.add(MaxPooling2D(pool_size=(2,2)))\n",
    "\n",
    "classifier.add(Conv2D(32,(2,2),activation='relu'))\n",
    "classifier.add(MaxPooling2D(pool_size=(2,2)))\n",
    "\n",
    "classifier.add(Flatten())\n",
    "#2차원을 1차원으로\n",
    "\n",
    "#완전 연결\n",
    "classifier.add(Dense(units=128,activation='relu'))\n",
    "#(activation,units)\n",
    "#출력 가중치 차원, 활성화 함수\n",
    "\n",
    "classifier.add(Dense(units=4,activation='softmax'))\n",
    "\n",
    "#CNN 컴파일\n",
    "classifier.compile(optimizer='adam',loss='categorical_crossentropy',metrics=['accuracy'])"
   ]
  },
  {
   "cell_type": "code",
   "execution_count": 94,
   "metadata": {},
   "outputs": [
    {
     "name": "stdout",
     "output_type": "stream",
     "text": [
      "Model: \"sequential_15\"\n",
      "_________________________________________________________________\n",
      "Layer (type)                 Output Shape              Param #   \n",
      "=================================================================\n",
      "conv2d_29 (Conv2D)           (None, 198, 198, 32)      896       \n",
      "_________________________________________________________________\n",
      "max_pooling2d_29 (MaxPooling (None, 99, 99, 32)        0         \n",
      "_________________________________________________________________\n",
      "conv2d_30 (Conv2D)           (None, 98, 98, 32)        4128      \n",
      "_________________________________________________________________\n",
      "max_pooling2d_30 (MaxPooling (None, 49, 49, 32)        0         \n",
      "_________________________________________________________________\n",
      "flatten_15 (Flatten)         (None, 76832)             0         \n",
      "_________________________________________________________________\n",
      "dense_29 (Dense)             (None, 128)               9834624   \n",
      "_________________________________________________________________\n",
      "dense_30 (Dense)             (None, 4)                 516       \n",
      "=================================================================\n",
      "Total params: 9,840,164\n",
      "Trainable params: 9,840,164\n",
      "Non-trainable params: 0\n",
      "_________________________________________________________________\n"
     ]
    }
   ],
   "source": [
    "classifier.summary()"
   ]
  },
  {
   "cell_type": "code",
   "execution_count": 95,
   "metadata": {},
   "outputs": [
    {
     "name": "stdout",
     "output_type": "stream",
     "text": [
      "Train on 232 samples, validate on 58 samples\n",
      "Epoch 1/40\n",
      "232/232 [==============================] - 8s 33ms/step - loss: 1780.3208 - accuracy: 0.2241 - val_loss: 230.0941 - val_accuracy: 0.4310\n",
      "Epoch 2/40\n",
      "232/232 [==============================] - 8s 36ms/step - loss: 152.8984 - accuracy: 0.6164 - val_loss: 120.3627 - val_accuracy: 0.5690\n",
      "Epoch 3/40\n",
      "232/232 [==============================] - 8s 33ms/step - loss: 64.1337 - accuracy: 0.7112 - val_loss: 16.9717 - val_accuracy: 0.7759\n",
      "Epoch 4/40\n",
      "232/232 [==============================] - 8s 34ms/step - loss: 13.7751 - accuracy: 0.7328 - val_loss: 2.8419 - val_accuracy: 0.8621\n",
      "Epoch 5/40\n",
      "232/232 [==============================] - 8s 33ms/step - loss: 1.6874 - accuracy: 0.8362 - val_loss: 0.5237 - val_accuracy: 0.9138\n",
      "Epoch 6/40\n",
      "232/232 [==============================] - 8s 37ms/step - loss: 0.4845 - accuracy: 0.8922 - val_loss: 0.2417 - val_accuracy: 0.9483\n",
      "Epoch 7/40\n",
      "232/232 [==============================] - 8s 35ms/step - loss: 0.4106 - accuracy: 0.9440 - val_loss: 0.0289 - val_accuracy: 1.0000\n",
      "Epoch 8/40\n",
      "232/232 [==============================] - 8s 33ms/step - loss: 0.3286 - accuracy: 0.9655 - val_loss: 0.1332 - val_accuracy: 0.9655\n",
      "Epoch 9/40\n",
      "232/232 [==============================] - 8s 33ms/step - loss: 0.1373 - accuracy: 0.9612 - val_loss: 0.0175 - val_accuracy: 1.0000\n",
      "Epoch 10/40\n",
      "232/232 [==============================] - 9s 38ms/step - loss: 0.0308 - accuracy: 0.9957 - val_loss: 0.0098 - val_accuracy: 1.0000\n",
      "Epoch 11/40\n",
      "232/232 [==============================] - 8s 33ms/step - loss: 0.0154 - accuracy: 1.0000 - val_loss: 0.0076 - val_accuracy: 1.0000\n",
      "Epoch 12/40\n",
      "232/232 [==============================] - 9s 37ms/step - loss: 0.0122 - accuracy: 1.0000 - val_loss: 0.0048 - val_accuracy: 1.0000\n",
      "Epoch 13/40\n",
      "232/232 [==============================] - 9s 37ms/step - loss: 0.0076 - accuracy: 1.0000 - val_loss: 0.0029 - val_accuracy: 1.0000\n",
      "Epoch 14/40\n",
      "232/232 [==============================] - 8s 35ms/step - loss: 0.0045 - accuracy: 1.0000 - val_loss: 0.0015 - val_accuracy: 1.0000\n",
      "Epoch 15/40\n",
      "232/232 [==============================] - 8s 35ms/step - loss: 0.0025 - accuracy: 1.0000 - val_loss: 7.0555e-04 - val_accuracy: 1.0000\n",
      "Epoch 16/40\n",
      "232/232 [==============================] - 8s 33ms/step - loss: 0.0015 - accuracy: 1.0000 - val_loss: 3.8803e-04 - val_accuracy: 1.0000\n",
      "Epoch 17/40\n",
      "232/232 [==============================] - 8s 36ms/step - loss: 9.1161e-04 - accuracy: 1.0000 - val_loss: 2.3523e-04 - val_accuracy: 1.0000\n",
      "Epoch 18/40\n",
      "232/232 [==============================] - 10s 43ms/step - loss: 5.9168e-04 - accuracy: 1.0000 - val_loss: 1.5428e-04 - val_accuracy: 1.0000\n",
      "Epoch 19/40\n",
      "232/232 [==============================] - 9s 39ms/step - loss: 4.5967e-04 - accuracy: 1.0000 - val_loss: 1.1177e-04 - val_accuracy: 1.0000\n",
      "Epoch 20/40\n",
      "232/232 [==============================] - 8s 36ms/step - loss: 3.6204e-04 - accuracy: 1.0000 - val_loss: 8.3107e-05 - val_accuracy: 1.0000\n",
      "Epoch 21/40\n",
      "232/232 [==============================] - 8s 36ms/step - loss: 2.7516e-04 - accuracy: 1.0000 - val_loss: 5.7953e-05 - val_accuracy: 1.0000\n",
      "Epoch 22/40\n",
      "232/232 [==============================] - 10s 42ms/step - loss: 2.3176e-04 - accuracy: 1.0000 - val_loss: 4.2801e-05 - val_accuracy: 1.0000\n",
      "Epoch 23/40\n",
      "232/232 [==============================] - 8s 36ms/step - loss: 1.9442e-04 - accuracy: 1.0000 - val_loss: 3.5021e-05 - val_accuracy: 1.0000\n",
      "Epoch 24/40\n",
      "232/232 [==============================] - 9s 37ms/step - loss: 1.6553e-04 - accuracy: 1.0000 - val_loss: 3.0378e-05 - val_accuracy: 1.0000\n",
      "Epoch 25/40\n",
      "232/232 [==============================] - 8s 36ms/step - loss: 1.4927e-04 - accuracy: 1.0000 - val_loss: 2.6642e-05 - val_accuracy: 1.0000\n",
      "Epoch 26/40\n",
      "232/232 [==============================] - 8s 35ms/step - loss: 1.3525e-04 - accuracy: 1.0000 - val_loss: 2.3901e-05 - val_accuracy: 1.0000\n",
      "Epoch 27/40\n",
      "232/232 [==============================] - 9s 40ms/step - loss: 1.2491e-04 - accuracy: 1.0000 - val_loss: 2.0501e-05 - val_accuracy: 1.0000\n",
      "Epoch 28/40\n",
      "232/232 [==============================] - 8s 36ms/step - loss: 1.1406e-04 - accuracy: 1.0000 - val_loss: 1.7329e-05 - val_accuracy: 1.0000\n",
      "Epoch 29/40\n",
      "232/232 [==============================] - 8s 36ms/step - loss: 1.0461e-04 - accuracy: 1.0000 - val_loss: 1.4768e-05 - val_accuracy: 1.0000\n",
      "Epoch 30/40\n",
      "232/232 [==============================] - 10s 41ms/step - loss: 9.7414e-05 - accuracy: 1.0000 - val_loss: 1.2874e-05 - val_accuracy: 1.0000\n",
      "Epoch 31/40\n",
      "232/232 [==============================] - 9s 38ms/step - loss: 8.9892e-05 - accuracy: 1.0000 - val_loss: 1.1464e-05 - val_accuracy: 1.0000\n",
      "Epoch 32/40\n",
      "232/232 [==============================] - 8s 37ms/step - loss: 8.1698e-05 - accuracy: 1.0000 - val_loss: 1.0401e-05 - val_accuracy: 1.0000\n",
      "Epoch 33/40\n",
      "232/232 [==============================] - 9s 38ms/step - loss: 7.4957e-05 - accuracy: 1.0000 - val_loss: 8.9074e-06 - val_accuracy: 1.0000\n",
      "Epoch 34/40\n",
      "232/232 [==============================] - 11s 47ms/step - loss: 6.8153e-05 - accuracy: 1.0000 - val_loss: 7.2180e-06 - val_accuracy: 1.0000\n",
      "Epoch 35/40\n",
      "232/232 [==============================] - 9s 37ms/step - loss: 6.2575e-05 - accuracy: 1.0000 - val_loss: 6.2089e-06 - val_accuracy: 1.0000\n",
      "Epoch 36/40\n",
      "232/232 [==============================] - 9s 39ms/step - loss: 5.8433e-05 - accuracy: 1.0000 - val_loss: 5.6026e-06 - val_accuracy: 1.0000\n",
      "Epoch 37/40\n",
      "232/232 [==============================] - 8s 32ms/step - loss: 5.4905e-05 - accuracy: 1.0000 - val_loss: 5.0888e-06 - val_accuracy: 1.0000\n",
      "Epoch 38/40\n",
      "232/232 [==============================] - 8s 33ms/step - loss: 5.2137e-05 - accuracy: 1.0000 - val_loss: 4.6305e-06 - val_accuracy: 1.0000\n",
      "Epoch 39/40\n",
      "232/232 [==============================] - 8s 33ms/step - loss: 4.7380e-05 - accuracy: 1.0000 - val_loss: 4.2873e-06 - val_accuracy: 1.0000\n",
      "Epoch 40/40\n",
      "232/232 [==============================] - 8s 33ms/step - loss: 4.3274e-05 - accuracy: 1.0000 - val_loss: 4.0016e-06 - val_accuracy: 1.0000\n"
     ]
    }
   ],
   "source": [
    "#모델 훈련\n",
    "history=classifier.fit(X_train,label,epochs=40,validation_data=(x_val, y_val))"
   ]
  },
  {
   "cell_type": "code",
   "execution_count": 96,
   "metadata": {},
   "outputs": [
    {
     "data": {
      "image/png": "[encoded data removed]",
      "text/plain": [
       "<Figure size 432x288 with 1 Axes>"
      ]
     },
     "metadata": {
      "needs_background": "light"
     },
     "output_type": "display_data"
    }
   ],
   "source": [
    "plt.plot(history.history['accuracy'])\n",
    "plt.plot(history.history['val_accuracy'])\n",
    "plt.title('model accuracy')\n",
    "plt.ylabel('accuracy')\n",
    "plt.xlabel('epoch')\n",
    "plt.legend(['train', 'test'], loc='upper left')\n",
    "plt.show()"
   ]
  },
  {
   "cell_type": "code",
   "execution_count": 97,
   "metadata": {},
   "outputs": [
    {
     "data": {
      "image/png": "[encoded data removed]",
      "text/plain": [
       "<Figure size 432x288 with 1 Axes>"
      ]
     },
     "metadata": {
      "needs_background": "light"
     },
     "output_type": "display_data"
    }
   ],
   "source": [
    "# summarize history for loss\n",
    "plt.plot(history.history['loss'])\n",
    "plt.plot(history.history['val_loss'])\n",
    "plt.title('model loss')\n",
    "plt.ylabel('loss')\n",
    "plt.xlabel('epoch')\n",
    "plt.legend(['train', 'test'], loc='upper left')\n",
    "plt.show()"
   ]
  },
  {
   "cell_type": "code",
   "execution_count": 100,
   "metadata": {},
   "outputs": [
    {
     "name": "stdout",
     "output_type": "stream",
     "text": [
      "58/58 [==============================] - 1s 9ms/step\n",
      "val_loss: 4.0016328308285725e-06\n",
      "val_acc: 1.0\n"
     ]
    }
   ],
   "source": [
    "# Evaluating model on validation data\n",
    "val_loss, val_acc = classifier.evaluate(x_val,y_val)\n",
    "print(\"val_loss: \"+str(val_loss))\n",
    "print(\"val_acc: \"+str(val_acc))"
   ]
  },
  {
   "cell_type": "code",
   "execution_count": 103,
   "metadata": {},
   "outputs": [
    {
     "name": "stdout",
     "output_type": "stream",
     "text": [
      "<class 'numpy.ndarray'>\n",
      "(60, 200, 200, 3)\n",
      "<class 'numpy.ndarray'>\n",
      "(60,)\n"
     ]
    }
   ],
   "source": [
    "# Evaluating model on test data\n",
    "print(type(X_test))\n",
    "print(X_test.shape)\n",
    "print(type(test_label))\n",
    "print(test_label.shape)"
   ]
  },
  {
   "cell_type": "code",
   "execution_count": 105,
   "metadata": {},
   "outputs": [
    {
     "name": "stdout",
     "output_type": "stream",
     "text": [
      "[0]\n"
     ]
    }
   ],
   "source": [
    "print(test_label[0:1])"
   ]
  },
  {
   "cell_type": "code",
   "execution_count": 130,
   "metadata": {},
   "outputs": [],
   "source": [
    "predict=classifier.predict(X_test)\n",
    "predict_result=[]\n",
    "predict_label=[]\n",
    "output = { 0:'apple',1:'banana',2:'mixed',3:'orange'}\n",
    "\n",
    "for i in range(len(X_test)):\n",
    "    predict_result.append(output[np.argmax(predict[i])])"
   ]
  },
  {
   "cell_type": "code",
   "execution_count": 131,
   "metadata": {},
   "outputs": [
    {
     "data": {
      "text/plain": [
       "'mixed'"
      ]
     },
     "execution_count": 131,
     "metadata": {},
     "output_type": "execute_result"
    }
   ],
   "source": [
    "len(predict_result)\n",
    "predict_result[59]"
   ]
  },
  {
   "cell_type": "code",
   "execution_count": 132,
   "metadata": {},
   "outputs": [],
   "source": [
    "for i in range(len(predict_result)):\n",
    "    if(predict_result[i]=='apple'):\n",
    "        predict_label.append(0)\n",
    "    elif(predict_result[i]=='banana'):\n",
    "        predict_label.append(1)\n",
    "    elif(predict_result[i]=='orange'):\n",
    "        predict_label.append(2)\n",
    "    elif(predict_result[i]=='mixed'):\n",
    "        predict_label.append(3)"
   ]
  },
  {
   "cell_type": "code",
   "execution_count": 133,
   "metadata": {},
   "outputs": [
    {
     "name": "stdout",
     "output_type": "stream",
     "text": [
      "[0 0 0 0 0 0 0 0 0 0 0 0 0 0 0 0 0 0 0 1 1 1 1 1 1 1 1 1 1 1 1 1 1 1 1 1 1\n",
      " 3 3 3 3 3 2 2 2 2 2 2 2 2 2 2 2 2 2 2 2 2 2 2]\n",
      "\n",
      "\n",
      "[0, 0, 0, 0, 0, 0, 0, 0, 0, 0, 0, 0, 0, 2, 0, 1, 0, 0, 1, 1, 1, 1, 3, 1, 3, 3, 1, 3, 3, 1, 0, 1, 3, 1, 1, 1, 0, 3, 3, 1, 1, 0, 3, 3, 3, 3, 3, 3, 3, 3, 3, 1, 3, 1, 1, 3, 3, 3, 3, 3]\n"
     ]
    }
   ],
   "source": [
    "print(test_label)\n",
    "print(\"\\n\")\n",
    "print(predict_label)"
   ]
  },
  {
   "cell_type": "code",
   "execution_count": 134,
   "metadata": {},
   "outputs": [
    {
     "data": {
      "text/plain": [
       "60"
      ]
     },
     "execution_count": 134,
     "metadata": {},
     "output_type": "execute_result"
    }
   ],
   "source": [
    "len(test_label)"
   ]
  },
  {
   "cell_type": "code",
   "execution_count": 135,
   "metadata": {},
   "outputs": [
    {
     "data": {
      "text/plain": [
       "60"
      ]
     },
     "execution_count": 135,
     "metadata": {},
     "output_type": "execute_result"
    }
   ],
   "source": [
    "len(predict_label)"
   ]
  },
  {
   "cell_type": "code",
   "execution_count": 136,
   "metadata": {},
   "outputs": [
    {
     "name": "stdout",
     "output_type": "stream",
     "text": [
      "0.4666666666666667\n"
     ]
    }
   ],
   "source": [
    "print(np.mean(np.array(test_label)==np.array(predict_label)))"
   ]
  },
  {
   "cell_type": "code",
   "execution_count": null,
   "metadata": {},
   "outputs": [],
   "source": []
  }
 ],
 "metadata": {
  "kernelspec": {
   "display_name": "Python 3",
   "language": "python",
   "name": "python3"
  },
  "language_info": {
   "codemirror_mode": {
    "name": "ipython",
    "version": 3
   },
   "file_extension": ".py",
   "mimetype": "text/x-python",
   "name": "python",
   "nbconvert_exporter": "python",
   "pygments_lexer": "ipython3",
   "version": "3.7.6"
  }
 },
 "nbformat": 4,
 "nbformat_minor": 2
}
