{
  "nbformat": 4,
  "nbformat_minor": 0,
  "metadata": {
    "colab": {
      "name": "Do it_5.ipynb",
      "provenance": [],
      "authorship_tag": "ABX9TyMNYSg4rF/12qI2jQ7+NCaj",
      "include_colab_link": true
    },
    "kernelspec": {
      "name": "python3",
      "display_name": "Python 3"
    }
  },
  "cells": [
    {
      "cell_type": "markdown",
      "metadata": {
        "id": "view-in-github",
        "colab_type": "text"
      },
      "source": [
        "<a href=\"https://colab.research.google.com/github/Jimin980921/Do-it_DeepLearning/blob/master/Do_it_5.ipynb\" target=\"_parent\"><img src=\"https://colab.research.google.com/assets/colab-badge.svg\" alt=\"Open In Colab\"/></a>"
      ]
    },
    {
      "cell_type": "markdown",
      "metadata": {
        "id": "G3YuKo5x92m2",
        "colab_type": "text"
      },
      "source": [
        "# 1. 그레디언트 업데이트 수식에 패널티 항 반영하기\n",
        "\n",
        "L1,L2 규제의 강도를 조절하는 매개변수 l1,l2를 추가하고, 기본값은 0"
      ]
    },
    {
      "cell_type": "code",
      "metadata": {
        "id": "z-CFzKnN-D9V",
        "colab_type": "code",
        "colab": {}
      },
      "source": [
        "def init(self,learning_rate=0.1,l1=0,l2=0):\n",
        "  self.w=None\n",
        "  self.b=None\n",
        "  self.losses=[]\n",
        "  self.val_losses=[]\n",
        "  self.w_history=[]\n",
        "  self.lr=learning_rate\n",
        "  self.l1=l1\n",
        "  self.l2=l2"
      ],
      "execution_count": 0,
      "outputs": []
    },
    {
      "cell_type": "code",
      "metadata": {
        "id": "KkTEnKbx-o09",
        "colab_type": "code",
        "colab": {}
      },
      "source": [
        "def fit(self,x,y,epochs=100,x_val=None,y_val=None):\n",
        "  self.w=np.ones(x.shapes[1])\n",
        "  self.b=0\n",
        "  self.w_history.append(self.w.copy())  #가중치 기록\n",
        "  np.random.seed(42)\n",
        "  for i in range(epochs):\n",
        "    loss=0\n",
        "    indexes=np.random.permutation(np.arrange(len(x)))\n",
        "    for i in indexes:\n",
        "      z=self.forpass(x[i])\n",
        "      a=self.activation(z)\n",
        "      err=-(y[i]-a)\n",
        "      w_grad,b_grad=self.backprop(x[i],err)\n",
        "      #그레디언트에서 패널티 항의 미분값을 더함\n",
        "      w_grad+=self.l1*np.sign(self.w)+self.l2*self.w\n",
        "      self.w-=self.lr*w_grad #가중치 업데이트\n",
        "      self.b-=b_grad\n",
        "\n",
        "      self.w_history.append(self.w.copy()) #가중치 기록\n",
        "      a=np.clip(a,1e-10,1-1e-10)\n",
        "      loss+=-(y[i]*np.log(a)+(1-y[i])*np.log(1-a))\n",
        "    #에포크마다 평균 손실 기록\n",
        "    self.losses.append(loss/len(y)+self.reg_loss())\n",
        "    #검증세트에대한 손실 계산\n",
        "    self.update_val_loss(x_val,y_val)\n"
      ],
      "execution_count": 0,
      "outputs": []
    },
    {
      "cell_type": "markdown",
      "metadata": {
        "id": "V88t0ounCwmW",
        "colab_type": "text"
      },
      "source": [
        "# 3.로지스틱 손실 함수 계산에 패널티 항 추가하기"
      ]
    },
    {
      "cell_type": "code",
      "metadata": {
        "id": "fKpKIV3XAg03",
        "colab_type": "code",
        "colab": {}
      },
      "source": [
        "def reg_loss(self):\n",
        "  return self.l1*np.sum(np.abs(self.w))+self.l2/2*np.sum(self.w**2)"
      ],
      "execution_count": 0,
      "outputs": []
    },
    {
      "cell_type": "code",
      "metadata": {
        "id": "ucEzSNJyDS3c",
        "colab_type": "code",
        "colab": {}
      },
      "source": [
        "def update_val_loss(self,x_val,y_val):\n",
        "  if x_val is None:\n",
        "    return\n",
        "    val_loss=0\n",
        "    for i in range(len(x_val)):\n",
        "      z=self.forpass(x_val[i])\n",
        "      a=self.activation(z)\n",
        "      val_loss+=-(y_val[i]*np.log(a)+(1-y_val[i])*np.log(1-a))\n",
        "    self.val_losses.append(val_loss/len(y_val)+self.reg_loss())"
      ],
      "execution_count": 0,
      "outputs": []
    },
    {
      "cell_type": "code",
      "metadata": {
        "id": "56SQYlW9Iy5I",
        "colab_type": "code",
        "colab": {}
      },
      "source": [
        "import numpy as np\n",
        "from sklearn.datasets import load_breast_cancer\n",
        "from sklearn.model_selection import train_test_split\n",
        "cancer=load_breast_cancer()\n",
        "x=cancer.data\n",
        "y=cancer.target\n",
        "x_train_all,x_test,y_train_all,y_test=train_test_split(x,y,stratify=y,test_size=0.2,random_state=42)\n",
        "\n",
        "x_train,x_val,y_train,y_val=train_test_split(x_train_all,y_train_all,stratify=y_train_all,test_size=0.2,random_state=42)\n",
        "#데이터 표준화\n",
        "train_mean=np.mean(x_train,axis=0)\n",
        "train_std=np.std(x_train,axis=0)\n",
        "x_train_scaled=(x_train-train_mean)/train_std\n",
        "\n",
        "val_mean=np.mean(x_val,axis=0)\n",
        "val_std=np.std(x_val,axis=0)\n",
        "x_val_scaled=(x_val-val_mean)/val_std"
      ],
      "execution_count": 0,
      "outputs": []
    },
    {
      "cell_type": "code",
      "metadata": {
        "id": "dH-Qqq-VF2Pi",
        "colab_type": "code",
        "colab": {}
      },
      "source": [
        "class SingleLayer:\n",
        "  def init(self,learning_rate=0.1,l1=0,l2=0):\n",
        "    self.w=None\n",
        "    self.b=None\n",
        "    self.losses=[]\n",
        "    self.val_losses=[]\n",
        "    self.w_history=[]\n",
        "    self.lr=learning_rate\n",
        "    self.l1=l1\n",
        "    self.l2=l2\n",
        "  \n",
        "  def forpass(self,x):\n",
        "    z=np.sum(x*self.w)+self.b\n",
        "    return z\n",
        "  \n",
        "  def backprop(self,x,err):\n",
        "    w_grad=x*err\n",
        "    b_grad=1*err\n",
        "    return w_grad,b_grad\n",
        "\n",
        "  def activation(self,z):\n",
        "    a=1/(1+np.exp(-z))\n",
        "    return a\n",
        "  \n",
        "  def add_bias(self,x):\n",
        "    return np.c_[np.ones((x.shape[0],1)),x]  #행렬 맨 앞에 1로 채워진 열 백터를 추가함.\n",
        "\n",
        "  def fit(self,x,y,epochs=100,x_val=None,y_val=None):\n",
        "    self.w=np.ones(x.shapes[1])\n",
        "    self.b=0\n",
        "    self.w_history.append(self.w.copy())  #가중치 기록\n",
        "    np.random.seed(42)\n",
        "    for i in range(epochs):\n",
        "      loss=0\n",
        "      indexes=np.random.permutation(np.arrange(len(x)))\n",
        "      for i in indexes:\n",
        "        z=self.forpass(x[i])\n",
        "        a=self.activation(z)\n",
        "        err=-(y[i]-a)\n",
        "        w_grad,b_grad=self.backprop(x[i],err)\n",
        "        #그레디언트에서 패널티 항의 미분값을 더함\n",
        "        w_grad+=self.l1*np.sign(self.w)+self.l2*self.w\n",
        "        self.w-=self.lr*w_grad #가중치 업데이트\n",
        "        self.b-=b_grad\n",
        "\n",
        "        self.w_history.append(self.w.copy()) #가중치 기록\n",
        "        a=np.clip(a,1e-10,1-1e-10)\n",
        "        loss+=-(y[i]*np.log(a)+(1-y[i])*np.log(1-a))\n",
        "      #에포크마다 평균 손실 기록\n",
        "      self.losses.append(loss/len(y)+self.reg_loss())\n",
        "      #검증세트에대한 손실 계산\n",
        "      self.update_val_loss(x_val,y_val)\n",
        "\n",
        "  def predict(self,x):\n",
        "    z=[self.forpass(x_i) for x_i in x]\n",
        "    return np.array(z)>0\n",
        "\n",
        "  def score(self,x,y):\n",
        "    return np.mean(self.predict(x)==y)\n",
        "\n",
        "  def update_val_loss(self,x_val,y_val):\n",
        "    if x_val is None:\n",
        "      return \n",
        "      val_loss=0\n",
        "    for i in range(len(x_val)):\n",
        "      z=self.forpass(x_val[i])\n",
        "      a=self.activation(z)\n",
        "      val_loss+=-(y_val[i]*np.log(a)+(1-y_val[i])*np.log(1-a))\n",
        "    self.val_losses.append(val_loss/len(y_val)+self.reg_loss())\n",
        "\n",
        "  def reg_loss(self):\n",
        "    return self.l1*np.sum(np.abs(self.w))+self.l2/2*np.sum(self.w**2)"
      ],
      "execution_count": 0,
      "outputs": []
    },
    {
      "cell_type": "markdown",
      "metadata": {
        "id": "kBcYfeo6EKWp",
        "colab_type": "text"
      },
      "source": [
        "# 5.cancer데이터 세트에 L1규제 적용"
      ]
    },
    {
      "cell_type": "code",
      "metadata": {
        "id": "URBiTZc4EFdB",
        "colab_type": "code",
        "colab": {
          "base_uri": "https://localhost:8080/",
          "height": 241
        },
        "outputId": "3052ae9a-d19a-4a55-faf0-c4abeedf7041"
      },
      "source": [
        "l1_list=[0.0001,0.001,0.01]\n",
        "\n",
        "for l1 in l1_list:\n",
        "  lyr=SingleLayer\n",
        "  lyr.fit(x_train_scaled,y_train,x_val=x_val_scaled,y_val=y_val)\n",
        "\n",
        "  plt.plot(lyr.losses)\n",
        "  plt.plot(lyr.val_losses)\n",
        "  plt.title('Learning Curve (l1={})'.format(l1))\n",
        "  plt.xlabel('epoch')\n",
        "  plt.ylabel('loss')\n",
        "  plt.legend(['train_loss','val_loss'])\n",
        "  plt.ylim(0,0.3)\n",
        "  plt.show()\n",
        "\n",
        "  plt.plot(lyr.w,'bo')\n",
        "  plt.title('Weight (l1={})'.format(l1))\n",
        "  plt.xlabel('weight')\n",
        "  plt.ylabel('value')\n",
        "  plt.ylim(-4,4)\n",
        "  plt.show()"
      ],
      "execution_count": 33,
      "outputs": [
        {
          "output_type": "error",
          "ename": "TypeError",
          "evalue": "ignored",
          "traceback": [
            "\u001b[0;31m---------------------------------------------------------------------------\u001b[0m",
            "\u001b[0;31mTypeError\u001b[0m                                 Traceback (most recent call last)",
            "\u001b[0;32m<ipython-input-33-8402c55dc806>\u001b[0m in \u001b[0;36m<module>\u001b[0;34m()\u001b[0m\n\u001b[1;32m      3\u001b[0m \u001b[0;32mfor\u001b[0m \u001b[0ml1\u001b[0m \u001b[0;32min\u001b[0m \u001b[0ml1_list\u001b[0m\u001b[0;34m:\u001b[0m\u001b[0;34m\u001b[0m\u001b[0;34m\u001b[0m\u001b[0m\n\u001b[1;32m      4\u001b[0m   \u001b[0mlyr\u001b[0m\u001b[0;34m=\u001b[0m\u001b[0mSingleLayer\u001b[0m\u001b[0;34m\u001b[0m\u001b[0;34m\u001b[0m\u001b[0m\n\u001b[0;32m----> 5\u001b[0;31m   \u001b[0mlyr\u001b[0m\u001b[0;34m.\u001b[0m\u001b[0mfit\u001b[0m\u001b[0;34m(\u001b[0m\u001b[0mx_train_scaled\u001b[0m\u001b[0;34m,\u001b[0m\u001b[0my_train\u001b[0m\u001b[0;34m,\u001b[0m\u001b[0mx_val\u001b[0m\u001b[0;34m=\u001b[0m\u001b[0mx_val_scaled\u001b[0m\u001b[0;34m,\u001b[0m\u001b[0my_val\u001b[0m\u001b[0;34m=\u001b[0m\u001b[0my_val\u001b[0m\u001b[0;34m)\u001b[0m\u001b[0;34m\u001b[0m\u001b[0;34m\u001b[0m\u001b[0m\n\u001b[0m\u001b[1;32m      6\u001b[0m \u001b[0;34m\u001b[0m\u001b[0m\n\u001b[1;32m      7\u001b[0m   \u001b[0mplt\u001b[0m\u001b[0;34m.\u001b[0m\u001b[0mplot\u001b[0m\u001b[0;34m(\u001b[0m\u001b[0mlyr\u001b[0m\u001b[0;34m.\u001b[0m\u001b[0mlosses\u001b[0m\u001b[0;34m)\u001b[0m\u001b[0;34m\u001b[0m\u001b[0;34m\u001b[0m\u001b[0m\n",
            "\u001b[0;31mTypeError\u001b[0m: fit() missing 1 required positional argument: 'y'"
          ]
        }
      ]
    },
    {
      "cell_type": "code",
      "metadata": {
        "id": "TQqUqWHGHaQY",
        "colab_type": "code",
        "colab": {}
      },
      "source": [
        ""
      ],
      "execution_count": 0,
      "outputs": []
    }
  ]
}