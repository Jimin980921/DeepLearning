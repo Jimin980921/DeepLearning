{
  "nbformat": 4,
  "nbformat_minor": 0,
  "metadata": {
    "colab": {
      "name": "Do it_6.ipynb",
      "provenance": [],
      "authorship_tag": "ABX9TyN8Q7oeaSWa2mTA04AIDIym",
      "include_colab_link": true
    },
    "kernelspec": {
      "name": "python3",
      "display_name": "Python 3"
    }
  },
  "cells": [
    {
      "cell_type": "markdown",
      "metadata": {
        "id": "view-in-github",
        "colab_type": "text"
      },
      "source": [
        "<a href=\"https://colab.research.google.com/github/Jimin980921/Do-it_DeepLearning/blob/master/Do_it_6.ipynb\" target=\"_parent\"><img src=\"https://colab.research.google.com/assets/colab-badge.svg\" alt=\"Open In Colab\"/></a>"
      ]
    },
    {
      "cell_type": "markdown",
      "metadata": {
        "id": "TMCxtLRTBxCR",
        "colab_type": "text"
      },
      "source": [
        "# SingleLayer 클래스에 배치 경사 하강법 사용하기"
      ]
    },
    {
      "cell_type": "code",
      "metadata": {
        "id": "WPgnLPJTBr6I",
        "colab_type": "code",
        "colab": {}
      },
      "source": [
        "import numpy as np\n",
        "import matplotlib.pyplot as plt \n",
        "from sklearn.datasets import load_breast_cancer\n",
        "from sklearn.model_selection import train_test_split\n",
        "\n",
        "cancer=load_breast_cancer()\n",
        "x=cancer.data\n",
        "y=cancer.target\n",
        "x_train_all,x_test,y_train_all,y_test=train_test_split(x,y,stratify=y,test_size=0.2,random_state=42)\n",
        "x_train,x_val,y_train,y_val=train_test_split(x_train_all,y_train_all,stratify=y_train_all,test_size=0.2,random_state=42)"
      ],
      "execution_count": 0,
      "outputs": []
    },
    {
      "cell_type": "code",
      "metadata": {
        "id": "J2xxJCYSCxNl",
        "colab_type": "code",
        "colab": {
          "base_uri": "https://localhost:8080/",
          "height": 35
        },
        "outputId": "f856fa0f-e0de-4683-e830-f609aeef08eb"
      },
      "source": [
        "print(x_train.shape,x_val.shape)"
      ],
      "execution_count": 3,
      "outputs": [
        {
          "output_type": "stream",
          "text": [
            "(364, 30) (91, 30)\n"
          ],
          "name": "stdout"
        }
      ]
    },
    {
      "cell_type": "markdown",
      "metadata": {
        "id": "BkqcVn3pDZav",
        "colab_type": "text"
      },
      "source": [
        "# **그레디언트 계산**\n",
        "\n",
        "그레디언트=오차,입력데이터의 곱"
      ]
    },
    {
      "cell_type": "markdown",
      "metadata": {
        "id": "n0TWD07zDuTT",
        "colab_type": "text"
      },
      "source": [
        "# forpass(),backprop()메서드에 배치 경사 하강법 적용"
      ]
    },
    {
      "cell_type": "code",
      "metadata": {
        "id": "NWXhSoZ2IP8k",
        "colab_type": "code",
        "colab": {}
      },
      "source": [
        "def imit(self,learning_rate=0.1,l1=0,l2=0):\n",
        "  self.w=None\n",
        "  self.b=None\n",
        "  self.losses=[]\n",
        "  self.val_losses=[]\n",
        "  self.w_history=[]\n",
        "  self.lr=learning_rate\n",
        "  self.l1=l1\n",
        "  self.l2=l2\n"
      ],
      "execution_count": 0,
      "outputs": []
    },
    {
      "cell_type": "code",
      "metadata": {
        "id": "3GyNJZmPC7ZK",
        "colab_type": "code",
        "colab": {}
      },
      "source": [
        "def forpass(self,x):\n",
        "  z=np.dot(x,self.w)+self.b\n",
        "  return z\n",
        "\n",
        "def backprop(self,x,err):\n",
        "  m=len(x)\n",
        "  w_grad=np.dot(x.T,err)/m  #행렬곱셈을 적용한 결과가 그레디언트의 합이므로 전체 샘플 개수로 나눠서 구함\n",
        "  b_grad=np.sum(err)/m\n",
        "  return x_grad,b_grad\n",
        "\n",
        "def activation(self,z):\n",
        "  a=1/(1+np.exp(-z))\n",
        "  return a\n",
        "  "
      ],
      "execution_count": 0,
      "outputs": []
    },
    {
      "cell_type": "markdown",
      "metadata": {
        "id": "TwOUzYlyFBw0",
        "colab_type": "text"
      },
      "source": [
        "# **fit메서드**\n",
        "\n",
        "전체샘플을 한꺼번에 계산하기때문에 for문 삭제"
      ]
    },
    {
      "cell_type": "code",
      "metadata": {
        "id": "1-26S6PWFAl4",
        "colab_type": "code",
        "colab": {}
      },
      "source": [
        "def fit(self,x,y,ephocs=100,x_val=None,y_val=None):\n",
        "  y=y.reshape(-1,1)   #타깃을 열 벡터로 바꿉니다.\n",
        "  y_val=y_val.reshape(-1,1)\n",
        "  m=len(x)\n",
        "  self.w=np.ones((x.shape[1],1))\n",
        "  self.b=0\n",
        "  self.w_history.appen(self.w.copy())\n",
        "\n",
        "  for i in range(epochs):\n",
        "    z=self.forpass(x)\n",
        "    a=self.activation(z)\n",
        "    err=-(y-a)\n",
        "    w_grad,b_grad=self.backprop(x,err)\n",
        "    w_grad+=(self.l1*np.sign(self.w)+self.l2*self.w)/m\n",
        "\n",
        "    #가중치와 절편 업데이트\n",
        "    self.w-=self.lr*w_grad\n",
        "    self.b-=self.lr*b_grad\n",
        "    #가중치 기록\n",
        "    self.w_history.append(self.w.copy())\n",
        "    a=np.clip(a,1e-10,1-1e-10)\n",
        "    #로그손실,규제 손실 더해서 리스트에 추가\n",
        "    loss=np.sum(-(y*np.log(a)+(1-y)*np.log(1-a)))\n",
        "    self.losses.append((loss+self.reg_loss())/m)\n",
        "    #검증세트에대한 손실 계산\n",
        "    self.update_val_loss(x_val,y_val)\n"
      ],
      "execution_count": 0,
      "outputs": []
    },
    {
      "cell_type": "code",
      "metadata": {
        "id": "DB8rXfN2GiAj",
        "colab_type": "code",
        "colab": {}
      },
      "source": [
        "def predict(self,x):\n",
        "  z=self.forpass(x)\n",
        "  return z>0\n",
        "\n",
        "def update_val_loss(self,x_val,y_val):\n",
        "  z=self.forpass(x_val)\n",
        "  a=self.activation(z)\n",
        "  a=np.clip(a,1e-10,1-1e-10)\n",
        "  val_loss=np.sum(-(y_val*np.log(a)+(1-y_val)*np.log(1-a)))\n",
        "  self.val_losses.append((val_loss+self.reg_loss())/len(y_val))"
      ],
      "execution_count": 0,
      "outputs": []
    },
    {
      "cell_type": "code",
      "metadata": {
        "id": "MjGErOiVIIL4",
        "colab_type": "code",
        "colab": {}
      },
      "source": [
        "def score(self,x,y):\n",
        "  return np.mean(self.predict(x)==y.reshape(-1,1))\n",
        "\n",
        "def reg_loss(self): #가중치에 규제를 정함.\n",
        "  return self.l1*np.sum(np.abs(self.w))+self.l2/2*np.sum(self.w**2)"
      ],
      "execution_count": 0,
      "outputs": []
    },
    {
      "cell_type": "code",
      "metadata": {
        "id": "SuswZKR3JdEy",
        "colab_type": "code",
        "colab": {}
      },
      "source": [
        ""
      ],
      "execution_count": 0,
      "outputs": []
    }
  ]
}