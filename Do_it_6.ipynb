{
  "nbformat": 4,
  "nbformat_minor": 0,
  "metadata": {
    "colab": {
      "name": "Do it_6.ipynb",
      "provenance": [],
      "collapsed_sections": [],
      "authorship_tag": "ABX9TyPNBnQkdnfoBtxEBFQ5tsJh",
      "include_colab_link": true
    },
    "kernelspec": {
      "name": "python3",
      "display_name": "Python 3"
    }
  },
  "cells": [
    {
      "cell_type": "markdown",
      "metadata": {
        "id": "view-in-github",
        "colab_type": "text"
      },
      "source": [
        "<a href=\"https://colab.research.google.com/github/Jimin980921/Do-it_DeepLearning/blob/master/Do_it_6.ipynb\" target=\"_parent\"><img src=\"https://colab.research.google.com/assets/colab-badge.svg\" alt=\"Open In Colab\"/></a>"
      ]
    },
    {
      "cell_type": "markdown",
      "metadata": {
        "id": "TMCxtLRTBxCR",
        "colab_type": "text"
      },
      "source": [
        "# SingleLayer 클래스에 배치 경사 하강법 사용하기"
      ]
    },
    {
      "cell_type": "code",
      "metadata": {
        "id": "WPgnLPJTBr6I",
        "colab_type": "code",
        "colab": {}
      },
      "source": [
        "import numpy as np\n",
        "import matplotlib.pyplot as plt \n",
        "from sklearn.datasets import load_breast_cancer\n",
        "from sklearn.model_selection import train_test_split\n",
        "\n",
        "cancer=load_breast_cancer()\n",
        "x=cancer.data\n",
        "y=cancer.target\n",
        "x_train_all,x_test,y_train_all,y_test=train_test_split(x,y,stratify=y,test_size=0.2,random_state=42)\n",
        "x_train,x_val,y_train,y_val=train_test_split(x_train_all,y_train_all,stratify=y_train_all,test_size=0.2,random_state=42)"
      ],
      "execution_count": 0,
      "outputs": []
    },
    {
      "cell_type": "code",
      "metadata": {
        "id": "J2xxJCYSCxNl",
        "colab_type": "code",
        "outputId": "19e27735-9e82-4c01-cda4-eeaa15d2cda6",
        "colab": {
          "base_uri": "https://localhost:8080/",
          "height": 35
        }
      },
      "source": [
        "print(x_train.shape,x_val.shape)"
      ],
      "execution_count": 0,
      "outputs": [
        {
          "output_type": "stream",
          "text": [
            "(364, 30) (91, 30)\n"
          ],
          "name": "stdout"
        }
      ]
    },
    {
      "cell_type": "markdown",
      "metadata": {
        "id": "BkqcVn3pDZav",
        "colab_type": "text"
      },
      "source": [
        "# **그레디언트 계산**\n",
        "\n",
        "그레디언트=오차,입력데이터의 곱"
      ]
    },
    {
      "cell_type": "markdown",
      "metadata": {
        "id": "n0TWD07zDuTT",
        "colab_type": "text"
      },
      "source": [
        "# forpass(),backprop()메서드에 배치 경사 하강법 적용"
      ]
    },
    {
      "cell_type": "code",
      "metadata": {
        "id": "NWXhSoZ2IP8k",
        "colab_type": "code",
        "colab": {}
      },
      "source": [
        "def init(self,learning_rate=0.1,l1=0,l2=0):\n",
        "  self.w=None\n",
        "  self.b=None\n",
        "  self.losses=[]\n",
        "  self.val_losses=[]\n",
        "  self.w_history=[]\n",
        "  self.lr=learning_rate\n",
        "  self.l1=l1\n",
        "  self.l2=l2\n"
      ],
      "execution_count": 0,
      "outputs": []
    },
    {
      "cell_type": "code",
      "metadata": {
        "id": "3GyNJZmPC7ZK",
        "colab_type": "code",
        "colab": {}
      },
      "source": [
        "def forpass(self,x):\n",
        "  z=np.dot(x,self.w)+self.b\n",
        "  return z\n",
        "\n",
        "def backprop(self,x,err):\n",
        "  m=len(x)\n",
        "  w_grad=np.dot(x.T,err)/m  #행렬곱셈을 적용한 결과가 그레디언트의 합이므로 전체 샘플 개수로 나눠서 구함\n",
        "  b_grad=np.sum(err)/m\n",
        "  return x_grad,b_grad\n",
        "\n",
        "def activation(self,z):\n",
        "  a=1/(1+np.exp(-z))\n",
        "  return a\n",
        "  "
      ],
      "execution_count": 0,
      "outputs": []
    },
    {
      "cell_type": "markdown",
      "metadata": {
        "id": "TwOUzYlyFBw0",
        "colab_type": "text"
      },
      "source": [
        "# **fit메서드**\n",
        "\n",
        "전체샘플을 한꺼번에 계산하기때문에 for문 삭제"
      ]
    },
    {
      "cell_type": "code",
      "metadata": {
        "id": "1-26S6PWFAl4",
        "colab_type": "code",
        "colab": {}
      },
      "source": [
        "def fit(self,x,y,ephocs=100,x_val=None,y_val=None):\n",
        "  y=y.reshape(-1,1)   #타깃을 열 벡터로 바꿉니다.\n",
        "  y_val=y_val.reshape(-1,1)\n",
        "  m=len(x)\n",
        "  self.w=np.ones((x.shape[1],1))\n",
        "  self.b=0\n",
        "  self.w_history.appen(self.w.copy())\n",
        "\n",
        "  for i in range(epochs):\n",
        "    z=self.forpass(x)\n",
        "    a=self.activation(z)\n",
        "    err=-(y-a)\n",
        "    w_grad,b_grad=self.backprop(x,err)\n",
        "    w_grad+=(self.l1*np.sign(self.w)+self.l2*self.w)/m\n",
        "\n",
        "    #가중치와 절편 업데이트\n",
        "    self.w-=self.lr*w_grad\n",
        "    self.b-=self.lr*b_grad\n",
        "    #가중치 기록\n",
        "    self.w_history.append(self.w.copy())\n",
        "    a=np.clip(a,1e-10,1-1e-10)\n",
        "    #로그손실,규제 손실 더해서 리스트에 추가\n",
        "    loss=np.sum(-(y*np.log(a)+(1-y)*np.log(1-a)))\n",
        "    self.losses.append((loss+self.reg_loss())/m)\n",
        "    #검증세트에대한 손실 계산\n",
        "    self.update_val_loss(x_val,y_val)\n"
      ],
      "execution_count": 0,
      "outputs": []
    },
    {
      "cell_type": "code",
      "metadata": {
        "id": "DB8rXfN2GiAj",
        "colab_type": "code",
        "colab": {}
      },
      "source": [
        "def predict(self,x):\n",
        "  z=self.forpass(x)\n",
        "  return z>0\n",
        "\n",
        "def update_val_loss(self,x_val,y_val):\n",
        "  z=self.forpass(x_val)\n",
        "  a=self.activation(z)\n",
        "  a=np.clip(a,1e-10,1-1e-10)\n",
        "  val_loss=np.sum(-(y_val*np.log(a)+(1-y_val)*np.log(1-a)))\n",
        "  self.val_losses.append((val_loss+self.reg_loss())/len(y_val))"
      ],
      "execution_count": 0,
      "outputs": []
    },
    {
      "cell_type": "code",
      "metadata": {
        "id": "MjGErOiVIIL4",
        "colab_type": "code",
        "colab": {}
      },
      "source": [
        "def score(self,x,y):\n",
        "  return np.mean(self.predict(x)==y.reshape(-1,1))\n",
        "\n",
        "def reg_loss(self): #가중치에 규제를 정함.\n",
        "  return self.l1*np.sum(np.abs(self.w))+self.l2/2*np.sum(self.w**2)"
      ],
      "execution_count": 0,
      "outputs": []
    },
    {
      "cell_type": "markdown",
      "metadata": {
        "id": "_n4ZNhAsSlWa",
        "colab_type": "text"
      },
      "source": [
        "# 합치기"
      ]
    },
    {
      "cell_type": "code",
      "metadata": {
        "id": "iJItF3CcRFip",
        "colab_type": "code",
        "colab": {}
      },
      "source": [
        "class SingleLayer:\n",
        "  def __init__(self,learning_rate=0.1,l1=0,l2=0):\n",
        "    self.w=None\n",
        "    self.b=None\n",
        "    self.losses=[]\n",
        "    self.val_losses=[]\n",
        "    self.w_history =[]\n",
        "    self.lr=learning_rate\n",
        "    self.l1=l1\n",
        "    self.l2=l2\n",
        "\n",
        "  def forpass(self,x):\n",
        "    z=np.dot(x,self.w)+self.b\n",
        "    return z\n",
        "\n",
        "  def backprop(self,x,err):\n",
        "    m=len(x)\n",
        "    w_grad=np.dot(x.T,err)/m  #행렬곱셈을 적용한 결과가 그레디언트의 합이므로 전체 샘플 개수로 나눠서 구함\n",
        "    b_grad=np.sum(err)/m\n",
        "    return w_grad,b_grad\n",
        "\n",
        "  def activation(self,z):\n",
        "    a=1/(1+np.exp(-z))\n",
        "    return a\n",
        "\n",
        "  def fit(self,x,y,epochs=100,x_val=None,y_val=None):\n",
        "    y=y.reshape(-1,1)   #타깃을 열 벡터로 바꿉니다.\n",
        "    y_val=y_val.reshape(-1,1)\n",
        "    m=len(x)\n",
        "    self.w=np.ones((x.shape[1],1))\n",
        "    self.b=0\n",
        "    self.w_history.append(self.w.copy())\n",
        "\n",
        "    for i in range(epochs):\n",
        "      z=self.forpass(x)\n",
        "      a=self.activation(z)\n",
        "      err=-(y-a)\n",
        "      w_grad,b_grad=self.backprop(x,err)\n",
        "      w_grad+=(self.l1*np.sign(self.w)+self.l2*self.w)/m\n",
        "\n",
        "      #가중치와 절편 업데이트\n",
        "      self.w-=self.lr*w_grad\n",
        "      self.b-=self.lr*b_grad\n",
        "      #가중치 기록\n",
        "      self.w_history.append(self.w.copy())\n",
        "      a=np.clip(a,1e-10,1-1e-10)\n",
        "     #로그손실,규제 손실 더해서 리스트에 추가\n",
        "      loss=np.sum(-(y*np.log(a)+(1-y)*np.log(1-a)))\n",
        "      self.losses.append((loss+self.reg_loss())/m)\n",
        "      #검증세트에대한 손실 계산\n",
        "      self.update_val_loss(x_val,y_val)\n",
        "\n",
        "  def predict(self,x):\n",
        "    z=self.forpass(x)\n",
        "    return z>0\n",
        "\n",
        "  def update_val_loss(self,x_val,y_val):\n",
        "    z=self.forpass(x_val)\n",
        "    a=self.activation(z)\n",
        "    a=np.clip(a,1e-10,1-1e-10)\n",
        "    val_loss=np.sum(-(y_val*np.log(a)+(1-y_val)*np.log(1-a)))\n",
        "    self.val_losses.append((val_loss+self.reg_loss())/len(y_val))\n",
        "\n",
        "  def score(self,x,y):\n",
        "    return np.mean(self.predict(x)==y.reshape(-1,1))\n",
        "\n",
        "  def reg_loss(self): #가중치에 규제를 정함.\n",
        "    return self.l1*np.sum(np.abs(self.w))+self.l2/2*np.sum(self.w**2)"
      ],
      "execution_count": 0,
      "outputs": []
    },
    {
      "cell_type": "markdown",
      "metadata": {
        "id": "Zyi05oM4Pr-7",
        "colab_type": "text"
      },
      "source": [
        "# 훈련 데이터 표준화 전처리"
      ]
    },
    {
      "cell_type": "code",
      "metadata": {
        "id": "SuswZKR3JdEy",
        "colab_type": "code",
        "colab": {}
      },
      "source": [
        "import numpy as np\n",
        "import matplotlib.pyplot as plt\n",
        "from sklearn.preprocessing import StandardScaler\n",
        "\n",
        "scaler=StandardScaler()\n",
        "scaler.fit(x_train)\n",
        "x_train_scaled=scaler.transform(x_train)\n",
        "x_val_scaled=scaler.transform(x_val)"
      ],
      "execution_count": 0,
      "outputs": []
    },
    {
      "cell_type": "code",
      "metadata": {
        "id": "z7EJ-4bBQ_DQ",
        "colab_type": "code",
        "outputId": "8a691d08-b15a-4701-8f65-139c963f4ced",
        "colab": {
          "base_uri": "https://localhost:8080/",
          "height": 34
        }
      },
      "source": [
        "single_layer=SingleLayer(l2=0.01)\n",
        "single_layer.fit(x_train_scaled,y_train,x_val=x_val_scaled,y_val=y_val,epochs=10000)\n",
        "single_layer.score(x_val_scaled,y_val)\n"
      ],
      "execution_count": 6,
      "outputs": [
        {
          "output_type": "execute_result",
          "data": {
            "text/plain": [
              "0.978021978021978"
            ]
          },
          "metadata": {
            "tags": []
          },
          "execution_count": 6
        }
      ]
    },
    {
      "cell_type": "code",
      "metadata": {
        "id": "_BWB2OmnTpcK",
        "colab_type": "code",
        "outputId": "8f905100-f69c-4374-a593-645a72a72d68",
        "colab": {
          "base_uri": "https://localhost:8080/",
          "height": 283
        }
      },
      "source": [
        "plt.ylim(0,0.3)\n",
        "plt.plot(single_layer.losses)\n",
        "plt.plot(single_layer.val_losses)\n",
        "plt.xlabel('epochs')\n",
        "plt.ylabel('loss')\n",
        "plt.legend(['train loss','val_loss'])\n",
        "plt.show()"
      ],
      "execution_count": 7,
      "outputs": [
        {
          "output_type": "display_data",
          "data": {
            "image/png": "[encoded data removed]",
            "text/plain": [
              "<Figure size 432x288 with 1 Axes>"
            ]
          },
          "metadata": {
            "tags": []
          }
        }
      ]
    },
    {
      "cell_type": "code",
      "metadata": {
        "id": "hsHRORhK2zgE",
        "colab_type": "code",
        "colab": {
          "base_uri": "https://localhost:8080/",
          "height": 279
        },
        "outputId": "bafd0359-1417-4acd-ebac-9ce81ebd49ef"
      },
      "source": [
        "w2=[]\n",
        "w3=[]\n",
        "\n",
        "for w in single_layer.w_history:\n",
        "  w2.append(w[2])\n",
        "  w3.append(w[3])\n",
        "plt.plot(w2,w3)\n",
        "plt.plot(w2[-1],w3[-1],'ro')\n",
        "plt.xlabel('w[2]')\n",
        "plt.ylabel('w[3]')\n",
        "plt.show()\n"
      ],
      "execution_count": 8,
      "outputs": [
        {
          "output_type": "display_data",
          "data": {
            "image/png": "[encoded data removed]",
            "text/plain": [
              "<Figure size 432x288 with 1 Axes>"
            ]
          },
          "metadata": {
            "tags": []
          }
        }
      ]
    },
    {
      "cell_type": "code",
      "metadata": {
        "id": "tw1TC3yE2zds",
        "colab_type": "code",
        "colab": {}
      },
      "source": [
        ""
      ],
      "execution_count": 0,
      "outputs": []
    },
    {
      "cell_type": "code",
      "metadata": {
        "id": "CjFc8wIk29yC",
        "colab_type": "code",
        "colab": {}
      },
      "source": [
        ""
      ],
      "execution_count": 0,
      "outputs": []
    }
  ]
}