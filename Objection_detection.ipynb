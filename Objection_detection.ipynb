{
 "cells": [
  {
   "cell_type": "code",
   "execution_count": 1,
   "metadata": {},
   "outputs": [],
   "source": [
    "#패키지 선언\n",
    "import tensorflow as tf\n",
    "import tensorflow_hub as hub\n",
    "#tensorflow-hub: 다양한 Pre-Trained 모델을 모듈(Module) 형태를 손쉽게 사용할 수 있고, Pre-Trained 모델을 내가 풀고자하는 문제에 Fine-Tuning해서 최소한의 노력으로 실제문제를 해결할 수 있음.\n",
    "import matplotlib.pyplot as plt\n",
    "import tempfile\n",
    "from six.moves.urllib.request import urlopen\n",
    "from six import BytesIO\n",
    "import numpy as np\n",
    "from PIL import Image\n",
    "from PIL import ImageColor\n",
    "from PIL import ImageDraw\n",
    "from PIL import ImageFont\n",
    "from PIL import ImageOps\n",
    "import time\n",
    "import os"
   ]
  },
  {
   "cell_type": "code",
   "execution_count": 2,
   "metadata": {},
   "outputs": [],
   "source": [
    "#이미지 그리는 함수\n",
    "def display_image(image):\n",
    "    fig = plt.figure(figsize=(10, 8))\n",
    "    plt.grid(False)\n",
    "    plt.axis('off')\n",
    "    plt.imshow(image)"
   ]
  },
  {
   "cell_type": "code",
   "execution_count": 10,
   "metadata": {},
   "outputs": [],
   "source": [
    "#이미지 박스 그려주는 함수\n",
    "def draw_bounding_box_on_image(image, ymin, xmin, ymax,xmax, color, font, \n",
    "                               thickness=4,display_str_list=()):\n",
    "\n",
    "# 이미지에 경계상자 그리기\n",
    "    draw = ImageDraw.Draw(image)\n",
    "    im_width, im_height = image.size #이미지 원사이즈\n",
    "    (left, right, top, bottom) = (xmin * im_width, xmax * im_width,\n",
    "                                ymin * im_height, ymax * im_height)\n",
    "    draw.line([(left, top), (left, bottom), (right, bottom), (right, top),(left, top)],width=thickness, fill=color)\n",
    "    \n",
    "# 이미지 상단에 글자넣기\n",
    "# 만약 박스이미지가 이미지를 초과하면 하단에 글씨를 넣음.\n",
    "\n",
    "    #display_str_list에 있는 text의 사이즈[1]를 가져와서 display_str_heights에 저장\n",
    "    display_str_heights = [font.getsize(ds)[1] for ds in display_str_list]\n",
    "\n",
    "    # 각각의 디스플레이마다 상단과 하단의 여백을 0.05로 설정함.\n",
    "    total_display_str_height = (1 + 2 * 0.05) * sum(display_str_heights)\n",
    "\n",
    "    if top > total_display_str_height:\n",
    "        text_bottom = top\n",
    "\n",
    "    else:\n",
    "        text_bottom = bottom + total_display_str_height\n",
    "        \n",
    "    for display_str in display_str_list[::-1]:\n",
    "        \n",
    "        #font.getsize: text 사이즈를 가져옴.\n",
    "        text_width, text_height = font.getsize(display_str)\n",
    "        margin = np.ceil(0.05 * text_height)\n",
    "        draw.rectangle([(left, text_bottom - text_height - 2 * margin),\n",
    "                        (left + text_width, text_bottom)],fill=color)\n",
    "\n",
    "        draw.text((left + margin, text_bottom - text_height - margin),\n",
    "                  display_str,fill=\"black\",font=font)\n",
    "\n",
    "        text_bottom -= text_height - 2 * margin"
   ]
  },
  {
   "cell_type": "code",
   "execution_count": 11,
   "metadata": {},
   "outputs": [],
   "source": [
    "#박스 그리기\n",
    "\n",
    "def draw_boxes(image, boxes, class_names, scores, max_boxes=10, min_score=0.1):\n",
    "    colors = list(ImageColor.colormap.values())\n",
    "\n",
    "# 폰트 지정\n",
    "\n",
    "    try:\n",
    "        font = ImageFont.truetype(\"/usr/share/fonts/truetype/liberation/LiberationSansNarrow-Regular.ttf\",25)\n",
    "\n",
    "    except:\n",
    "            print(\"Font not found, using default font.\")\n",
    "            \n",
    "    font = ImageFont.load_default()\n",
    "\n",
    "\n",
    "\n",
    "    for i in range(min(boxes.shape[0], max_boxes)):\n",
    "        if scores[i] >= min_score: #최소의 값 이상인 값 찾기\n",
    "            ymin, xmin, ymax, xmax = tuple(boxes[i]) #박스 좌표값 \n",
    "            display_str = \"{}: {}%\".format(class_names[i].decode(\"ascii\"),int(100 * scores[i]))\n",
    "            color = colors[hash(class_names[i]) % len(colors)]\n",
    "            image_pil = Image.fromarray(np.uint8(image)).convert(\"RGB\")\n",
    "            draw_bounding_box_on_image(image_pil,ymin,xmin,ymax,xmax,color,font,display_str_list=[display_str])\n",
    "            np.copyto(image, np.array(image_pil))\n",
    "\n",
    "    return image"
   ]
  },
  {
   "cell_type": "code",
   "execution_count": null,
   "metadata": {},
   "outputs": [],
   "source": [
    "#미리 학습된 모델인 inception_resnet_v2를 불러옴\n",
    "module_handle = \"https://tfhub.dev/google/faster_rcnn/openimages_v4/inception_resnet_v2/1\" \n",
    "\n",
    "detector = hub.load(module_handle).signatures['default']"
   ]
  },
  {
   "cell_type": "code",
   "execution_count": null,
   "metadata": {},
   "outputs": [],
   "source": []
  }
 ],
 "metadata": {
  "kernelspec": {
   "display_name": "Python 3",
   "language": "python",
   "name": "python3"
  },
  "language_info": {
   "codemirror_mode": {
    "name": "ipython",
    "version": 3
   },
   "file_extension": ".py",
   "mimetype": "text/x-python",
   "name": "python",
   "nbconvert_exporter": "python",
   "pygments_lexer": "ipython3",
   "version": "3.7.6"
  }
 },
 "nbformat": 4,
 "nbformat_minor": 4
}
