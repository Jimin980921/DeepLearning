{
  "nbformat": 4,
  "nbformat_minor": 0,
  "metadata": {
    "colab": {
      "name": "Do it_8.ipynb",
      "provenance": [],
      "collapsed_sections": [],
      "authorship_tag": "ABX9TyOJIOaUZWZoB0mGan2eV/T2",
      "include_colab_link": true
    },
    "kernelspec": {
      "name": "python3",
      "display_name": "Python 3"
    }
  },
  "cells": [
    {
      "cell_type": "markdown",
      "metadata": {
        "id": "view-in-github",
        "colab_type": "text"
      },
      "source": [
        "<a href=\"https://colab.research.google.com/github/Jimin980921/Do-it_DeepLearning/blob/master/Do_it_8.ipynb\" target=\"_parent\"><img src=\"https://colab.research.google.com/assets/colab-badge.svg\" alt=\"Open In Colab\"/></a>"
      ]
    },
    {
      "cell_type": "code",
      "metadata": {
        "id": "FhUX9HS2svme",
        "colab_type": "code",
        "colab": {}
      },
      "source": [
        "import numpy as np\n",
        "x=np.array([[1,2,3],[4,5,6],[7,8,9]])\n",
        "w=np.array([[2,0],[0,0]])\n"
      ],
      "execution_count": 0,
      "outputs": []
    },
    {
      "cell_type": "code",
      "metadata": {
        "id": "GXFPyXuEoPYN",
        "colab_type": "code",
        "colab": {
          "base_uri": "https://localhost:8080/",
          "height": 63
        },
        "outputId": "be40dbf9-b877-4447-c40e-0abfcb3e60d8"
      },
      "source": [
        "import tensorflow as tf\n",
        "tf.enable_eager_execution()\n",
        "x_4d=x.astype(np.float).reshape(1,3,3,1)\n",
        "w_4d=w.reshape(2,2,1,1)"
      ],
      "execution_count": 2,
      "outputs": [
        {
          "output_type": "display_data",
          "data": {
            "text/html": [
              "<p style=\"color: red;\">\n",
              "The default version of TensorFlow in Colab will soon switch to TensorFlow 2.x.<br>\n",
              "We recommend you <a href=\"https://www.tensorflow.org/guide/migrate\" target=\"_blank\">upgrade</a> now \n",
              "or ensure your notebook will continue to use TensorFlow 1.x via the <code>%tensorflow_version 1.x</code> magic:\n",
              "<a href=\"https://colab.research.google.com/notebooks/tensorflow_version.ipynb\" target=\"_blank\">more info</a>.</p>\n"
            ],
            "text/plain": [
              "<IPython.core.display.HTML object>"
            ]
          },
          "metadata": {
            "tags": []
          }
        }
      ]
    },
    {
      "cell_type": "markdown",
      "metadata": {
        "id": "sgR6rObH_hWz",
        "colab_type": "text"
      },
      "source": [
        "# 합성곱"
      ]
    },
    {
      "cell_type": "code",
      "metadata": {
        "id": "zSkkASPosuia",
        "colab_type": "code",
        "colab": {}
      },
      "source": [
        "c_out=tf.nn.conv2d(x_4d,w_4d,strides=1,padding='SAME')\n",
        "#결과값으로 tensor객체를 반환. 다차원배열을 텐서라고 부름. tensor객체의 numpy()메서드를 사용하면 텐서를 배열로 변환가능"
      ],
      "execution_count": 0,
      "outputs": []
    },
    {
      "cell_type": "code",
      "metadata": {
        "id": "ckpO2kZwuTtU",
        "colab_type": "code",
        "colab": {
          "base_uri": "https://localhost:8080/",
          "height": 69
        },
        "outputId": "a94a1c79-518b-4519-b6f4-7ba53ee8f823"
      },
      "source": [
        "#배치차원과 컬러차원을 제거하고 (3,3)크기로 변환하여 출력\n",
        "from scipy.signal import convolve2d\n",
        "from scipy.signal import convolve\n",
        "from scipy.signal import correlate\n",
        "from scipy.signal import correlate2d\n",
        "c_out.numpy().reshape(3,3)\n",
        "#4차원배열 출력"
      ],
      "execution_count": 4,
      "outputs": [
        {
          "output_type": "execute_result",
          "data": {
            "text/plain": [
              "array([[ 2.,  4.,  6.],\n",
              "       [ 8., 10., 12.],\n",
              "       [14., 16., 18.]])"
            ]
          },
          "metadata": {
            "tags": []
          },
          "execution_count": 4
        }
      ]
    },
    {
      "cell_type": "code",
      "metadata": {
        "id": "nTUE5Z9Iwita",
        "colab_type": "code",
        "colab": {}
      },
      "source": [
        "#최대풀링, 평균풀링\n",
        "x=np.array([[1,2,3,4],[5,6,7,8],[9,10,11,12],[13,14,15,16]])\n",
        "x=x.reshape(1,4,4,1)"
      ],
      "execution_count": 0,
      "outputs": []
    },
    {
      "cell_type": "code",
      "metadata": {
        "id": "tD-odafQ0RUh",
        "colab_type": "code",
        "colab": {
          "base_uri": "https://localhost:8080/",
          "height": 52
        },
        "outputId": "a9164a15-7947-47ed-d695-087ff8b1dc4a"
      },
      "source": [
        "#max_Pool2d함수로 최대풀링 수행. 풀링크기(보통 2X2)를 ksize,스트라이드크기(보통 풀링의 한 모서리크기)는 strides변수에 대입\n",
        "#max_pool2d가 반환한 tensor객체를 numpy()메서드로 변환해줌.  \n",
        "p_out=tf.nn.max_pool2d(x,ksize=2,strides=2,padding='VALID')\n",
        "p_out.numpy().reshape(2,2)"
      ],
      "execution_count": 8,
      "outputs": [
        {
          "output_type": "execute_result",
          "data": {
            "text/plain": [
              "array([[ 6,  8],\n",
              "       [14, 16]])"
            ]
          },
          "metadata": {
            "tags": []
          },
          "execution_count": 8
        }
      ]
    },
    {
      "cell_type": "markdown",
      "metadata": {
        "id": "OgC0fT0C54hL",
        "colab_type": "text"
      },
      "source": [
        "# RELU 함수"
      ]
    },
    {
      "cell_type": "code",
      "metadata": {
        "id": "otjWqjA253_n",
        "colab_type": "code",
        "colab": {}
      },
      "source": [
        "#0보다 크면 자기자신, 0보다 작으면 0 출력\n",
        "def relu(x):\n",
        "  return np.maximum(x,0)"
      ],
      "execution_count": 0,
      "outputs": []
    },
    {
      "cell_type": "code",
      "metadata": {
        "id": "i9RUeKJm1iGX",
        "colab_type": "code",
        "colab": {
          "base_uri": "https://localhost:8080/",
          "height": 34
        },
        "outputId": "1e4b6e30-71a0-4a4c-fc86-0a490e2133d4"
      },
      "source": [
        "x=np.array([-1,2,-3,4,-5])\n",
        "relu(x)\n"
      ],
      "execution_count": 10,
      "outputs": [
        {
          "output_type": "execute_result",
          "data": {
            "text/plain": [
              "array([0, 2, 0, 4, 0])"
            ]
          },
          "metadata": {
            "tags": []
          },
          "execution_count": 10
        }
      ]
    },
    {
      "cell_type": "code",
      "metadata": {
        "id": "jhOe--iI6ZEz",
        "colab_type": "code",
        "colab": {
          "base_uri": "https://localhost:8080/",
          "height": 34
        },
        "outputId": "14716c5b-0feb-47fc-9027-0f3821aa5c71"
      },
      "source": [
        "#텐서플로가 제공하는 렐루함수\n",
        "#tensor객체로 반환하므로 화면에 출력하려면 넘파이로 변환해야함.\n",
        "r_out=tf.nn.relu(x)\n",
        "r_out.numpy()\n"
      ],
      "execution_count": 11,
      "outputs": [
        {
          "output_type": "execute_result",
          "data": {
            "text/plain": [
              "array([0, 2, 0, 4, 0])"
            ]
          },
          "metadata": {
            "tags": []
          },
          "execution_count": 11
        }
      ]
    },
    {
      "cell_type": "markdown",
      "metadata": {
        "id": "4OHIheT9-_iq",
        "colab_type": "text"
      },
      "source": [
        "# 합성곱 신경망을 생성 및 훈련"
      ]
    },
    {
      "cell_type": "code",
      "metadata": {
        "id": "Jyvu0guG6uuR",
        "colab_type": "code",
        "colab": {}
      },
      "source": [
        "class ConvolutionNetwork:\n",
        "\n",
        "  def init(self,n_kernels=10,units=10,batch_size=32,learning_rate=0.1):\n",
        "    self.n_kernels=n_kernels\n",
        "    self.kernel_size=3\n",
        "    self.optimizer=None\n",
        "    self.conv_w=None  #가중치\n",
        "    self.conv_b=None  #절편\n",
        "    self.units=units  #?\n",
        "    self.batch_size=batch_size  #?\n",
        "    self.w1=None\n",
        "    self.b1=None\n",
        "    self.w2=None\n",
        "    self.b2=None\n",
        "    self.a1=None\n",
        "    self.losses=[]\n",
        "    self.val_losses=[]\n",
        "    self.lr=learning_rate\n",
        "\n",
        "  def forpass(self,x):\n",
        "    #합성곱 연산\n",
        "    c_out=tf.nn.conv2d(x,self.conv_w,strides=1,padding='SAME')+self.conv_b\n",
        "    #렐루 활성화함수\n",
        "    r_out=tf.nn.relu(c_out)\n",
        "    #2*2최대 풀링적용\n",
        "    p_out=tf.nn.max_pool2d(r_out,ksize=2,strides=2,padding='VALID')\n",
        "    #첫번째 배치 차원 제외하고 일렬로 펼침\n",
        "    f_out=tf.reshape(p_out,[x.shape[0],-1])\n",
        "    z1=tf.matmul(f_out,self.w1)+self.b1  #완전연결층의 첫번째 선형식계산\n",
        "    a1=tf.nn.relu(z1) #활성화함수적용\n",
        "    z2=tf.matmul(a1,self.w1)+self.b2 #두번째 선형식계산\n",
        "    return z2  #활성화함수는 안함?\n",
        "\n",
        "  def init_weights(self,input_shape,n_classes):  #가중치 초기화\n",
        "    g=tf.initialize.glorot_uniform() #올바른 최적점을 시작으로 할 수 있게 도와주는 가중치 초기화 함수\n",
        "    self.conv_w=tf.Variable(g((3,3,1,self.n_kernels)))\n",
        "    self.conv_b=tf.Variable(np.zeros(self.n_kernels),dtype=float)\n",
        "    n_features=14*14*self.n_kernels  #?\n",
        "    self.w1=tf.Variable(g((n_features,self.units)))     #??\n",
        "    self.b1=tf.Variable(np.zeros(self.units),dtype=float)\n",
        "    self.w2=tf.Variable(g((self.units,n_classes)))\n",
        "    self.b2=tf.Variable(np.zeros(n_classes),d_type=float)\n",
        "\n",
        "  def fit(self,x,y,epochs=100,x_val=None,y_val=None):\n",
        "    self.init_weights(x.shape,y.shape[1])  #은닉층의 가중치, 츨력층의 가중치 초기화\n",
        "    self.optimizer=tf.optimizers.SGD(learning_rate=self.lr)    #?\n",
        "\n",
        "    for i in range(epochs):\n",
        "      print('에포크',i, end=' ')\n",
        "      #제네레이터 함수에서 반환한 미니배치 순환\n",
        "      batch_losses=[]\n",
        "      for x_batch,y_batch in self.get_batch(x,y):\n",
        "        print('.',end='')\n",
        "        self.training(x_batch,y_batch)\n",
        "        #배치 손실 기록\n",
        "        batch_losses.append(self.get_loss(x_batch,y_batch))\n",
        "      print()\n",
        "      self.losses.append(np.mean(batch_losses))  #배치손실평균\n",
        "      self.val_losses.append(self.get_loss(x_val,y_val))  #검증세트에대한 손실 저장\n",
        "\n",
        "    def get_batch(self,x,y):  #미니배치 제너레이터 함수\n",
        "      bins=len(x)//self.batch_size\n",
        "      #인덱스 섞기\n",
        "      indexs=np.random.permutation(np.arrange(len(x)))\n",
        "      x=x[indexes]\n",
        "      y=y[indexes]\n",
        "      for i in range(bins):\n",
        "        start=self.batch_size*i   \n",
        "        end=self.batch_size*(i+1) \n",
        "        yield x[start:end],y[start,end]\n",
        "\n",
        "    def training(self,x,y):  #무슨과정?\n",
        "      m=len(x) #샘플갯수저장\n",
        "      with tf.GradientTape() as tape:\n",
        "        z=self.forpass(x)   #정방향계산수행\n",
        "        #손실계산\n",
        "        loss=tf.nn.softmax_cross_entropy_with_logits(y,z)   #?\n",
        "        loss=tf.reduce_mean(loss)\n",
        "\n",
        "      weights_list=[self.conv_w,self.conv_b,self.w1,self.b1,self.w2,self.b2]\n",
        "      #가중치에대한 그레디언트 계산\n",
        "      grads=tape.gradient(loss,weights_list)\n",
        "      #가중치 업데이트\n",
        "      self.optimizer.apply_gradient(zip(grads,weights_list))\n",
        "\n",
        "    def predict(self,x):\n",
        "      z=self.forpass(x)\n",
        "      return np.argmax(z.numpy(),axis=1)  #가장큰값의 인덱스 반환\n",
        "\n",
        "    def score(self,x,y):\n",
        "      return np.mean(self.predict(x)==np.argmax(y,axis=1))   #y값과 비교\n",
        "\n",
        "    def get_loss(self,x,y):\n",
        "      z=self.forpass(x)\n",
        "      #손실계산해서 저장\n",
        "      loss=tf.reduce_mean(tf.nn.softmax_cross_entropy_with_logits(y,z))   #?????\n",
        "      return loss.numpy()\n",
        "\n"
      ],
      "execution_count": 0,
      "outputs": []
    },
    {
      "cell_type": "code",
      "metadata": {
        "id": "g_wfiEbiLU3s",
        "colab_type": "code",
        "colab": {
          "base_uri": "https://localhost:8080/",
          "height": 157
        },
        "outputId": "922235d7-8ec6-4ae6-f1f3-d2955f6a6671"
      },
      "source": [
        "#데이터 세트 불러오기\n",
        "(x_train_all,y_train_all),(x_test,y_test)=tf.keras.datasets.fashion_mnist.load_data()"
      ],
      "execution_count": 15,
      "outputs": [
        {
          "output_type": "stream",
          "text": [
            "Downloading data from https://storage.googleapis.com/tensorflow/tf-keras-datasets/train-labels-idx1-ubyte.gz\n",
            "32768/29515 [=================================] - 0s 0us/step\n",
            "Downloading data from https://storage.googleapis.com/tensorflow/tf-keras-datasets/train-images-idx3-ubyte.gz\n",
            "26427392/26421880 [==============================] - 0s 0us/step\n",
            "Downloading data from https://storage.googleapis.com/tensorflow/tf-keras-datasets/t10k-labels-idx1-ubyte.gz\n",
            "8192/5148 [===============================================] - 0s 0us/step\n",
            "Downloading data from https://storage.googleapis.com/tensorflow/tf-keras-datasets/t10k-images-idx3-ubyte.gz\n",
            "4423680/4422102 [==============================] - 0s 0us/step\n"
          ],
          "name": "stdout"
        }
      ]
    },
    {
      "cell_type": "code",
      "metadata": {
        "id": "w49I73RRLkfD",
        "colab_type": "code",
        "colab": {}
      },
      "source": [
        "#훈련데이터를 훈련세트와 검증세트로 나누기\n",
        "from sklearn.model_selection import train_test_split\n",
        "x_train,x_val,y_train,y_val=train_test_split(x_train_all,y_train_all,stratify=y_train_all,test_size=0.2,random_state=42)\n"
      ],
      "execution_count": 0,
      "outputs": []
    },
    {
      "cell_type": "code",
      "metadata": {
        "id": "GpJCvEciMGur",
        "colab_type": "code",
        "colab": {}
      },
      "source": [
        "#타깃을 원-핫 인코딩으로 변환\n",
        "y_train_encoded=tf.keras.utils.to_categorical(y_train)\n",
        "y_val_encoded=tf.keras.utils.to_categorical(y_val)"
      ],
      "execution_count": 0,
      "outputs": []
    },
    {
      "cell_type": "code",
      "metadata": {
        "id": "GcnKMXxIMYTC",
        "colab_type": "code",
        "colab": {}
      },
      "source": [
        "#입력데이터 준비\n",
        "x_train=x_train.reshape(-1,28,28,1)\n",
        "x_val=x_val.reshape(-1,28,28,1)"
      ],
      "execution_count": 0,
      "outputs": []
    },
    {
      "cell_type": "code",
      "metadata": {
        "id": "uYZLw1CZMstY",
        "colab_type": "code",
        "colab": {
          "base_uri": "https://localhost:8080/",
          "height": 34
        },
        "outputId": "1cbb2c35-e95a-46a1-afb0-f24008fa5e91"
      },
      "source": [
        "x_train.shape"
      ],
      "execution_count": 20,
      "outputs": [
        {
          "output_type": "execute_result",
          "data": {
            "text/plain": [
              "(48000, 28, 28, 1)"
            ]
          },
          "metadata": {
            "tags": []
          },
          "execution_count": 20
        }
      ]
    },
    {
      "cell_type": "code",
      "metadata": {
        "id": "lKgkPF3aM09D",
        "colab_type": "code",
        "colab": {}
      },
      "source": [
        "#입력데이터 표준화 전처리\n",
        "x_train=x_train/255  #픽셀은 0-255사이값으로 표현. 경사하강법 사용을 위해 255로 나눠줌(0-1)\n",
        "x_val=x_val/255\n"
      ],
      "execution_count": 0,
      "outputs": []
    },
    {
      "cell_type": "code",
      "metadata": {
        "id": "sBHju0mBNQIl",
        "colab_type": "code",
        "colab": {
          "base_uri": "https://localhost:8080/",
          "height": 186
        },
        "outputId": "ed0b202f-1862-4f4e-f3d5-0d82a07eed7e"
      },
      "source": [
        "#모델 훈련하기\n",
        "cn=ConvolutionNetwork(n_kernels=10,units=100,batch_size=128,learning_rate=0.01)\n",
        "cn.fit(x_train,y_train_encoded,x_val=x_val,y_val=y_val_encoded,epochs=20)  "
      ],
      "execution_count": 22,
      "outputs": [
        {
          "output_type": "error",
          "ename": "TypeError",
          "evalue": "ignored",
          "traceback": [
            "\u001b[0;31m---------------------------------------------------------------------------\u001b[0m",
            "\u001b[0;31mTypeError\u001b[0m                                 Traceback (most recent call last)",
            "\u001b[0;32m<ipython-input-22-7f0ca846ace7>\u001b[0m in \u001b[0;36m<module>\u001b[0;34m()\u001b[0m\n\u001b[0;32m----> 1\u001b[0;31m \u001b[0mcn\u001b[0m\u001b[0;34m=\u001b[0m\u001b[0mConvolutionNetwork\u001b[0m\u001b[0;34m(\u001b[0m\u001b[0mn_kernels\u001b[0m\u001b[0;34m=\u001b[0m\u001b[0;36m10\u001b[0m\u001b[0;34m,\u001b[0m\u001b[0munits\u001b[0m\u001b[0;34m=\u001b[0m\u001b[0;36m100\u001b[0m\u001b[0;34m,\u001b[0m\u001b[0mbatch_size\u001b[0m\u001b[0;34m=\u001b[0m\u001b[0;36m128\u001b[0m\u001b[0;34m,\u001b[0m\u001b[0mlearning_rate\u001b[0m\u001b[0;34m=\u001b[0m\u001b[0;36m0.01\u001b[0m\u001b[0;34m)\u001b[0m\u001b[0;34m\u001b[0m\u001b[0;34m\u001b[0m\u001b[0m\n\u001b[0m\u001b[1;32m      2\u001b[0m \u001b[0mcn\u001b[0m\u001b[0;34m.\u001b[0m\u001b[0mfit\u001b[0m\u001b[0;34m(\u001b[0m\u001b[0mx_train\u001b[0m\u001b[0;34m,\u001b[0m\u001b[0my_train_encoded\u001b[0m\u001b[0;34m,\u001b[0m\u001b[0mx_val\u001b[0m\u001b[0;34m=\u001b[0m\u001b[0mx_val\u001b[0m\u001b[0;34m,\u001b[0m\u001b[0my_val\u001b[0m\u001b[0;34m=\u001b[0m\u001b[0my_val_encoded\u001b[0m\u001b[0;34m,\u001b[0m\u001b[0mepochs\u001b[0m\u001b[0;34m=\u001b[0m\u001b[0;36m20\u001b[0m\u001b[0;34m)\u001b[0m\u001b[0;34m\u001b[0m\u001b[0;34m\u001b[0m\u001b[0m\n",
            "\u001b[0;31mTypeError\u001b[0m: object() takes no parameters"
          ]
        }
      ]
    },
    {
      "cell_type": "code",
      "metadata": {
        "id": "eLL6Z4eQNp8x",
        "colab_type": "code",
        "colab": {}
      },
      "source": [
        ""
      ],
      "execution_count": 0,
      "outputs": []
    }
  ]
}