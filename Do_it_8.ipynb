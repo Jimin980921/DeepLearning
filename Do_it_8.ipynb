{
  "nbformat": 4,
  "nbformat_minor": 0,
  "metadata": {
    "colab": {
      "name": "Do it_8.ipynb",
      "provenance": [],
      "collapsed_sections": [],
      "authorship_tag": "ABX9TyOAddyjGA2oFs87v2/c6VCy",
      "include_colab_link": true
    },
    "kernelspec": {
      "name": "python3",
      "display_name": "Python 3"
    }
  },
  "cells": [
    {
      "cell_type": "markdown",
      "metadata": {
        "id": "view-in-github",
        "colab_type": "text"
      },
      "source": [
        "<a href=\"https://colab.research.google.com/github/Jimin980921/Do-it_DeepLearning/blob/master/Do_it_8.ipynb\" target=\"_parent\"><img src=\"https://colab.research.google.com/assets/colab-badge.svg\" alt=\"Open In Colab\"/></a>"
      ]
    },
    {
      "cell_type": "code",
      "metadata": {
        "id": "FhUX9HS2svme",
        "colab_type": "code",
        "colab": {}
      },
      "source": [
        "import numpy as np\n",
        "x=np.array([[1,2,3],[4,5,6],[7,8,9]])\n",
        "w=np.array([[2,0],[0,0]])\n"
      ],
      "execution_count": 0,
      "outputs": []
    },
    {
      "cell_type": "code",
      "metadata": {
        "id": "GXFPyXuEoPYN",
        "colab_type": "code",
        "outputId": "5647a6c3-e49a-427e-c56c-c40f2ce6b361",
        "colab": {
          "base_uri": "https://localhost:8080/",
          "height": 80
        }
      },
      "source": [
        "import tensorflow as tf\n",
        "tf.enable_eager_execution()\n",
        "x_4d=x.astype(np.float).reshape(1,3,3,1)\n",
        "w_4d=w.reshape(2,2,1,1)"
      ],
      "execution_count": 2,
      "outputs": [
        {
          "output_type": "display_data",
          "data": {
            "text/html": [
              "<p style=\"color: red;\">\n",
              "The default version of TensorFlow in Colab will soon switch to TensorFlow 2.x.<br>\n",
              "We recommend you <a href=\"https://www.tensorflow.org/guide/migrate\" target=\"_blank\">upgrade</a> now \n",
              "or ensure your notebook will continue to use TensorFlow 1.x via the <code>%tensorflow_version 1.x</code> magic:\n",
              "<a href=\"https://colab.research.google.com/notebooks/tensorflow_version.ipynb\" target=\"_blank\">more info</a>.</p>\n"
            ],
            "text/plain": [
              "<IPython.core.display.HTML object>"
            ]
          },
          "metadata": {
            "tags": []
          }
        }
      ]
    },
    {
      "cell_type": "markdown",
      "metadata": {
        "id": "sgR6rObH_hWz",
        "colab_type": "text"
      },
      "source": [
        "# 합성곱"
      ]
    },
    {
      "cell_type": "code",
      "metadata": {
        "id": "zSkkASPosuia",
        "colab_type": "code",
        "colab": {}
      },
      "source": [
        "c_out=tf.nn.conv2d(x_4d,w_4d,strides=1,padding='SAME')\n",
        "#결과값으로 tensor객체를 반환. 다차원배열을 텐서라고 부름. tensor객체의 numpy()메서드를 사용하면 텐서를 배열로 변환가능"
      ],
      "execution_count": 0,
      "outputs": []
    },
    {
      "cell_type": "code",
      "metadata": {
        "id": "ckpO2kZwuTtU",
        "colab_type": "code",
        "outputId": "0d2bd9d1-84aa-4baa-8379-5208ef6d587d",
        "colab": {
          "base_uri": "https://localhost:8080/",
          "height": 69
        }
      },
      "source": [
        "#배치차원과 컬러차원을 제거하고 (3,3)크기로 변환하여 출력\n",
        "from scipy.signal import convolve2d\n",
        "from scipy.signal import convolve\n",
        "from scipy.signal import correlate\n",
        "from scipy.signal import correlate2d\n",
        "c_out.numpy().reshape(3,3)\n",
        "#4차원배열 출력"
      ],
      "execution_count": 4,
      "outputs": [
        {
          "output_type": "execute_result",
          "data": {
            "text/plain": [
              "array([[ 2.,  4.,  6.],\n",
              "       [ 8., 10., 12.],\n",
              "       [14., 16., 18.]])"
            ]
          },
          "metadata": {
            "tags": []
          },
          "execution_count": 4
        }
      ]
    },
    {
      "cell_type": "code",
      "metadata": {
        "id": "nTUE5Z9Iwita",
        "colab_type": "code",
        "colab": {}
      },
      "source": [
        "#최대풀링, 평균풀링\n",
        "x=np.array([[1,2,3,4],[5,6,7,8],[9,10,11,12],[13,14,15,16]])\n",
        "x=x.reshape(1,4,4,1)"
      ],
      "execution_count": 0,
      "outputs": []
    },
    {
      "cell_type": "code",
      "metadata": {
        "id": "tD-odafQ0RUh",
        "colab_type": "code",
        "outputId": "c086b47e-3dd0-4321-b448-9e7ab74ac990",
        "colab": {
          "base_uri": "https://localhost:8080/",
          "height": 52
        }
      },
      "source": [
        "#max_Pool2d함수로 최대풀링 수행. 풀링크기(보통 2X2)를 ksize,스트라이드크기(보통 풀링의 한 모서리크기)는 strides변수에 대입\n",
        "#max_pool2d가 반환한 tensor객체를 numpy()메서드로 변환해줌.  \n",
        "p_out=tf.nn.max_pool2d(x,ksize=2,strides=2,padding='VALID')\n",
        "p_out.numpy().reshape(2,2)"
      ],
      "execution_count": 6,
      "outputs": [
        {
          "output_type": "execute_result",
          "data": {
            "text/plain": [
              "array([[ 6,  8],\n",
              "       [14, 16]])"
            ]
          },
          "metadata": {
            "tags": []
          },
          "execution_count": 6
        }
      ]
    },
    {
      "cell_type": "markdown",
      "metadata": {
        "id": "OgC0fT0C54hL",
        "colab_type": "text"
      },
      "source": [
        "# RELU 함수"
      ]
    },
    {
      "cell_type": "code",
      "metadata": {
        "id": "otjWqjA253_n",
        "colab_type": "code",
        "colab": {}
      },
      "source": [
        "#0보다 크면 자기자신, 0보다 작으면 0 출력\n",
        "def relu(x):\n",
        "  return np.maximum(x,0)"
      ],
      "execution_count": 0,
      "outputs": []
    },
    {
      "cell_type": "code",
      "metadata": {
        "id": "i9RUeKJm1iGX",
        "colab_type": "code",
        "outputId": "11f49188-f99e-4f6e-e653-6235cc481a04",
        "colab": {
          "base_uri": "https://localhost:8080/",
          "height": 34
        }
      },
      "source": [
        "x=np.array([-1,2,-3,4,-5])\n",
        "relu(x)\n"
      ],
      "execution_count": 8,
      "outputs": [
        {
          "output_type": "execute_result",
          "data": {
            "text/plain": [
              "array([0, 2, 0, 4, 0])"
            ]
          },
          "metadata": {
            "tags": []
          },
          "execution_count": 8
        }
      ]
    },
    {
      "cell_type": "code",
      "metadata": {
        "id": "jhOe--iI6ZEz",
        "colab_type": "code",
        "outputId": "b232793f-9f96-4475-8d08-714555613d9a",
        "colab": {
          "base_uri": "https://localhost:8080/",
          "height": 34
        }
      },
      "source": [
        "#텐서플로가 제공하는 렐루함수\n",
        "#tensor객체로 반환하므로 화면에 출력하려면 넘파이로 변환해야함.\n",
        "r_out=tf.nn.relu(x)\n",
        "r_out.numpy()\n"
      ],
      "execution_count": 9,
      "outputs": [
        {
          "output_type": "execute_result",
          "data": {
            "text/plain": [
              "array([0, 2, 0, 4, 0])"
            ]
          },
          "metadata": {
            "tags": []
          },
          "execution_count": 9
        }
      ]
    },
    {
      "cell_type": "markdown",
      "metadata": {
        "id": "4OHIheT9-_iq",
        "colab_type": "text"
      },
      "source": [
        "# 합성곱 신경망을 생성 및 훈련"
      ]
    },
    {
      "cell_type": "code",
      "metadata": {
        "id": "Jyvu0guG6uuR",
        "colab_type": "code",
        "colab": {}
      },
      "source": [
        "class ConvolutionNetwork:\n",
        "\n",
        "  def init(self,n_kernels=10,units=10,batch_size=32,learning_rate=0.1):\n",
        "    self.n_kernels=n_kernels\n",
        "    self.kernel_size=3\n",
        "    self.optimizer=None\n",
        "    self.conv_w=None  #가중치\n",
        "    self.conv_b=None  #절편\n",
        "    self.units=units  #은닉층 뉴런갯수\n",
        "    self.batch_size=batch_size  #배치크기\n",
        "    self.w1=None\n",
        "    self.b1=None\n",
        "    self.w2=None\n",
        "    self.b2=None\n",
        "    self.a1=None   #은닏층 활성화 출력\n",
        "    self.losses=[]\n",
        "    self.val_losses=[]\n",
        "    self.lr=learning_rate\n",
        "\n",
        "  def forpass(self,x):\n",
        "    #합성곱 연산\n",
        "    c_out=tf.nn.conv2d(x,self.conv_w,strides=1,padding='SAME')+self.conv_b\n",
        "    #렐루 활성화함수\n",
        "    r_out=tf.nn.relu(c_out)\n",
        "    #2*2최대 풀링적용\n",
        "    p_out=tf.nn.max_pool2d(r_out,ksize=2,strides=2,padding='VALID')\n",
        "    #첫번째 배치 차원 제외하고 일렬로 펼침\n",
        "    f_out=tf.reshape(p_out,[x.shape[0],-1])\n",
        "    z1=tf.matmul(f_out,self.w1)+self.b1  #완전연결층의 첫번째 선형식계산\n",
        "    a1=tf.nn.relu(z1) #활성화함수적용\n",
        "    z2=tf.matmul(a1,self.w2)+self.b2 #두번째 선형식계산\n",
        "    return z2  \n",
        "\n",
        "  def init_weights(self,input_shape,n_classes):  #가중치 초기화\n",
        "    g=tf.initializers.glorot_uniform() #올바른 최적점을 시작으로 할 수 있게 도와주는 가중치 초기화 함수\n",
        "    self.conv_w=tf.Variable(g((3,3,1,self.n_kernels)))\n",
        "    self.conv_b=tf.Variable(np.zeros(self.n_kernels),dtype=float)\n",
        "    n_features=14*14*self.n_kernels  #?\n",
        "    self.w1=tf.Variable(g((n_features,self.units)))     #??\n",
        "    self.b1=tf.Variable(np.zeros(self.units),dtype=float)\n",
        "    self.w2=tf.Variable(g((self.units,n_classes)))\n",
        "    self.b2=tf.Variable(np.zeros(n_classes),d_type=float)\n",
        "\n",
        "  def fit(self,x,y,epochs=100,x_val=None,y_val=None):\n",
        "    self.init_weights(x.shape,y.shape[1])  #은닉층의 가중치, 츨력층의 가중치 초기화\n",
        "    self.optimizer=tf.optimizers.SGD(learning_rate=self.lr)    #경사하강법\n",
        "\n",
        "    for i in range(epochs):\n",
        "      print('에포크',i, end=' ')\n",
        "      #제네레이터 함수에서 반환한 미니배치 순환\n",
        "      batch_losses=[]\n",
        "      for x_batch,y_batch in self.gen_batch(x,y):\n",
        "        print('.',end='')\n",
        "        self.training(x_batch,y_batch)\n",
        "        #배치 손실 기록\n",
        "        batch_losses.append(self.get_loss(x_batch,y_batch))\n",
        "      print()\n",
        "      self.losses.append(np.mean(batch_losses))  #배치손실평균\n",
        "      self.val_losses.append(self.get_loss(x_val,y_val))  #검증세트에대한 손실 저장\n",
        "\n",
        "    def gen_batch(self,x,y):  #미니배치 제너레이터 함수\n",
        "      bins=len(x)//self.batch_size\n",
        "      #인덱스 섞기\n",
        "      indexes=np.random.permutation(np.arrange(len(x)))\n",
        "      x=x[indexes]\n",
        "      y=y[indexes]\n",
        "      for i in range(bins):\n",
        "        start=self.batch_size*i   \n",
        "        end=self.batch_size*(i+1) \n",
        "        yield x[start:end],y[start:end]\n",
        "\n",
        "    def training(self,x,y):  #무슨과정?\n",
        "      m=len(x) #샘플갯수저장\n",
        "      with tf.GradientTape() as tape:   #자동미분법\n",
        "        z=self.forpass(x)   #정방향계산수행\n",
        "        #손실계산\n",
        "        loss=tf.nn.softmax_cross_entropy_with_logits(y,z)   #?\n",
        "        loss=tf.reduce_mean(loss)\n",
        "\n",
        "      weights_list=[self.conv_w,self.conv_b,self.w1,self.b1,self.w2,self.b2]\n",
        "      #가중치에대한 그레디언트 계산\n",
        "      grads=tape.gradient(loss,weights_list)  #자동미분(tape), 파라미터 왜?\n",
        "      #가중치 업데이트\n",
        "      self.optimizer.apply_gradients(zip(grads,weights_list))\n",
        "\n",
        "    def predict(self,x):\n",
        "      z=self.forpass(x)\n",
        "      return np.argmax(z.numpy(),axis=1)  #가장큰값의 인덱스 반환\n",
        "\n",
        "    def score(self,x,y):\n",
        "      return np.mean(self.predict(x)==np.argmax(y,axis=1))   #y값과 비교\n",
        "\n",
        "    def get_loss(self,x,y):\n",
        "      z=self.forpass(x)\n",
        "      #손실계산해서 저장\n",
        "      loss=tf.reduce_mean(tf.nn.softmax_cross_entropy_with_logits(y,z))   #?????\n",
        "      return loss.numpy()\n",
        "\n"
      ],
      "execution_count": 0,
      "outputs": []
    },
    {
      "cell_type": "code",
      "metadata": {
        "id": "g_wfiEbiLU3s",
        "colab_type": "code",
        "colab": {}
      },
      "source": [
        "#데이터 세트 불러오기\n",
        "(x_train_all,y_train_all),(x_test,y_test)=tf.keras.datasets.fashion_mnist.load_data()"
      ],
      "execution_count": 0,
      "outputs": []
    },
    {
      "cell_type": "code",
      "metadata": {
        "id": "w49I73RRLkfD",
        "colab_type": "code",
        "colab": {}
      },
      "source": [
        "#훈련데이터를 훈련세트와 검증세트로 나누기\n",
        "from sklearn.model_selection import train_test_split\n",
        "x_train,x_val,y_train,y_val=train_test_split(x_train_all,y_train_all,stratify=y_train_all,test_size=0.2,random_state=42)\n"
      ],
      "execution_count": 0,
      "outputs": []
    },
    {
      "cell_type": "code",
      "metadata": {
        "id": "GpJCvEciMGur",
        "colab_type": "code",
        "colab": {}
      },
      "source": [
        "#타깃을 원-핫 인코딩으로 변환\n",
        "y_train_encoded=tf.keras.utils.to_categorical(y_train)\n",
        "y_val_encoded=tf.keras.utils.to_categorical(y_val)"
      ],
      "execution_count": 0,
      "outputs": []
    },
    {
      "cell_type": "code",
      "metadata": {
        "id": "GcnKMXxIMYTC",
        "colab_type": "code",
        "colab": {}
      },
      "source": [
        "#입력데이터 준비\n",
        "x_train=x_train.reshape(-1,28,28,1)\n",
        "x_val=x_val.reshape(-1,28,28,1)"
      ],
      "execution_count": 0,
      "outputs": []
    },
    {
      "cell_type": "code",
      "metadata": {
        "id": "uYZLw1CZMstY",
        "colab_type": "code",
        "outputId": "4498f423-795a-4358-b587-1e621adbe738",
        "colab": {
          "base_uri": "https://localhost:8080/",
          "height": 34
        }
      },
      "source": [
        "x_train.shape"
      ],
      "execution_count": 23,
      "outputs": [
        {
          "output_type": "execute_result",
          "data": {
            "text/plain": [
              "(48000, 28, 28, 1)"
            ]
          },
          "metadata": {
            "tags": []
          },
          "execution_count": 23
        }
      ]
    },
    {
      "cell_type": "code",
      "metadata": {
        "id": "lKgkPF3aM09D",
        "colab_type": "code",
        "colab": {}
      },
      "source": [
        "#입력데이터 표준화 전처리\n",
        "x_train=x_train/255  #픽셀은 0-255사이값으로 표현. 경사하강법 사용을 위해 255로 나눠줌(0-1)\n",
        "x_val=x_val/255\n"
      ],
      "execution_count": 0,
      "outputs": []
    },
    {
      "cell_type": "code",
      "metadata": {
        "id": "sBHju0mBNQIl",
        "colab_type": "code",
        "outputId": "d78c18a1-cd3d-4157-8437-8fc7b0d8958a",
        "colab": {
          "base_uri": "https://localhost:8080/",
          "height": 186
        }
      },
      "source": [
        "#모델 훈련하기\n",
        "cn=ConvolutionNetwork(n_kernels=10,units=100,batch_size=128,learning_rate=0.01)\n",
        "cn.fit(x_train,y_train_encoded,x_val=x_val,y_val=y_val_encoded,epochs=20)  "
      ],
      "execution_count": 28,
      "outputs": [
        {
          "output_type": "error",
          "ename": "TypeError",
          "evalue": "ignored",
          "traceback": [
            "\u001b[0;31m---------------------------------------------------------------------------\u001b[0m",
            "\u001b[0;31mTypeError\u001b[0m                                 Traceback (most recent call last)",
            "\u001b[0;32m<ipython-input-28-7f0ca846ace7>\u001b[0m in \u001b[0;36m<module>\u001b[0;34m()\u001b[0m\n\u001b[0;32m----> 1\u001b[0;31m \u001b[0mcn\u001b[0m\u001b[0;34m=\u001b[0m\u001b[0mConvolutionNetwork\u001b[0m\u001b[0;34m(\u001b[0m\u001b[0mn_kernels\u001b[0m\u001b[0;34m=\u001b[0m\u001b[0;36m10\u001b[0m\u001b[0;34m,\u001b[0m\u001b[0munits\u001b[0m\u001b[0;34m=\u001b[0m\u001b[0;36m100\u001b[0m\u001b[0;34m,\u001b[0m\u001b[0mbatch_size\u001b[0m\u001b[0;34m=\u001b[0m\u001b[0;36m128\u001b[0m\u001b[0;34m,\u001b[0m\u001b[0mlearning_rate\u001b[0m\u001b[0;34m=\u001b[0m\u001b[0;36m0.01\u001b[0m\u001b[0;34m)\u001b[0m\u001b[0;34m\u001b[0m\u001b[0;34m\u001b[0m\u001b[0m\n\u001b[0m\u001b[1;32m      2\u001b[0m \u001b[0mcn\u001b[0m\u001b[0;34m.\u001b[0m\u001b[0mfit\u001b[0m\u001b[0;34m(\u001b[0m\u001b[0mx_train\u001b[0m\u001b[0;34m,\u001b[0m\u001b[0my_train_encoded\u001b[0m\u001b[0;34m,\u001b[0m\u001b[0mx_val\u001b[0m\u001b[0;34m=\u001b[0m\u001b[0mx_val\u001b[0m\u001b[0;34m,\u001b[0m\u001b[0my_val\u001b[0m\u001b[0;34m=\u001b[0m\u001b[0my_val_encoded\u001b[0m\u001b[0;34m,\u001b[0m\u001b[0mepochs\u001b[0m\u001b[0;34m=\u001b[0m\u001b[0;36m20\u001b[0m\u001b[0;34m)\u001b[0m\u001b[0;34m\u001b[0m\u001b[0;34m\u001b[0m\u001b[0m\n",
            "\u001b[0;31mTypeError\u001b[0m: object() takes no parameters"
          ]
        }
      ]
    },
    {
      "cell_type": "markdown",
      "metadata": {
        "id": "JJ5l7mPagnCc",
        "colab_type": "text"
      },
      "source": [
        "# 케라스로 합성곱 신경망"
      ]
    },
    {
      "cell_type": "code",
      "metadata": {
        "id": "eLL6Z4eQNp8x",
        "colab_type": "code",
        "colab": {
          "base_uri": "https://localhost:8080/",
          "height": 332
        },
        "outputId": "abb9b468-ee2d-44fd-d1b8-a78929312846"
      },
      "source": [
        "from tensorflow.keras.layers import Conv2D,MaxPooling2D,Flatten,Dense\n",
        "#합성곱층 쌓기\n",
        "conv1=tf.keras.Sequential()\n",
        "conv1.add(Conv2D(10,(3,3),activation='relu',padding='same',input_shape=(28,28,1)))\n",
        "#풀링층쌓기\n",
        "conv1.add(MaxPooling2D((2,2)))\n",
        "#완전연결층에 연결하도록 특성맵 펼치기\n",
        "conv1.add(Flatten())\n",
        "#완전연결층에 쌓기\n",
        "conv1.add(Dense(100,activation='relu'))\n",
        "conv1.add(Dense(10,activation='softmax'))\n",
        "\n",
        "#모델 구조 살펴보기\n",
        "conv1.summary()"
      ],
      "execution_count": 32,
      "outputs": [
        {
          "output_type": "stream",
          "text": [
            "Model: \"sequential_3\"\n",
            "_________________________________________________________________\n",
            "Layer (type)                 Output Shape              Param #   \n",
            "=================================================================\n",
            "conv2d_3 (Conv2D)            (None, 28, 28, 10)        100       \n",
            "_________________________________________________________________\n",
            "max_pooling2d (MaxPooling2D) (None, 14, 14, 10)        0         \n",
            "_________________________________________________________________\n",
            "flatten (Flatten)            (None, 1960)              0         \n",
            "_________________________________________________________________\n",
            "dense (Dense)                (None, 100)               196100    \n",
            "_________________________________________________________________\n",
            "dense_1 (Dense)              (None, 10)                1010      \n",
            "=================================================================\n",
            "Total params: 197,210\n",
            "Trainable params: 197,210\n",
            "Non-trainable params: 0\n",
            "_________________________________________________________________\n"
          ],
          "name": "stdout"
        }
      ]
    },
    {
      "cell_type": "code",
      "metadata": {
        "id": "nMXy_ZDwjez5",
        "colab_type": "code",
        "colab": {}
      },
      "source": [
        "#합성곱 신경망모델 훈련하기\n",
        "conv1.compile(optimizer='adam',loss='categorical_crossentropy',metrics=['accuracy'])"
      ],
      "execution_count": 0,
      "outputs": []
    },
    {
      "cell_type": "code",
      "metadata": {
        "id": "CbyFXq-mlCM1",
        "colab_type": "code",
        "colab": {
          "base_uri": "https://localhost:8080/",
          "height": 754
        },
        "outputId": "bac20f97-1046-4ad0-d8f4-00f2b791930a"
      },
      "source": [
        "history=conv1.fit(x_train,y_train_encoded,epochs=20,validation_data=(x_val,y_val_encoded))"
      ],
      "execution_count": 34,
      "outputs": [
        {
          "output_type": "stream",
          "text": [
            "Train on 48000 samples, validate on 12000 samples\n",
            "Epoch 1/20\n",
            "48000/48000 [==============================] - 22s 461us/sample - loss: 0.4730 - acc: 0.8317 - val_loss: 0.3405 - val_acc: 0.8818\n",
            "Epoch 2/20\n",
            "48000/48000 [==============================] - 22s 456us/sample - loss: 0.3220 - acc: 0.8839 - val_loss: 0.3042 - val_acc: 0.8901\n",
            "Epoch 3/20\n",
            "48000/48000 [==============================] - 22s 450us/sample - loss: 0.2716 - acc: 0.9002 - val_loss: 0.2842 - val_acc: 0.9017\n",
            "Epoch 4/20\n",
            "48000/48000 [==============================] - 21s 442us/sample - loss: 0.2392 - acc: 0.9129 - val_loss: 0.2463 - val_acc: 0.9133\n",
            "Epoch 5/20\n",
            "48000/48000 [==============================] - 21s 441us/sample - loss: 0.2103 - acc: 0.9223 - val_loss: 0.2508 - val_acc: 0.9111\n",
            "Epoch 6/20\n",
            "48000/48000 [==============================] - 22s 452us/sample - loss: 0.1885 - acc: 0.9294 - val_loss: 0.2447 - val_acc: 0.9162\n",
            "Epoch 7/20\n",
            "48000/48000 [==============================] - 21s 448us/sample - loss: 0.1697 - acc: 0.9374 - val_loss: 0.2403 - val_acc: 0.9182\n",
            "Epoch 8/20\n",
            "48000/48000 [==============================] - 21s 442us/sample - loss: 0.1517 - acc: 0.9439 - val_loss: 0.2591 - val_acc: 0.9111\n",
            "Epoch 9/20\n",
            "48000/48000 [==============================] - 21s 445us/sample - loss: 0.1380 - acc: 0.9503 - val_loss: 0.2583 - val_acc: 0.9135\n",
            "Epoch 10/20\n",
            "48000/48000 [==============================] - 21s 442us/sample - loss: 0.1233 - acc: 0.9548 - val_loss: 0.2670 - val_acc: 0.9158\n",
            "Epoch 11/20\n",
            "48000/48000 [==============================] - 21s 446us/sample - loss: 0.1102 - acc: 0.9594 - val_loss: 0.2715 - val_acc: 0.9132\n",
            "Epoch 12/20\n",
            "48000/48000 [==============================] - 21s 444us/sample - loss: 0.0971 - acc: 0.9650 - val_loss: 0.2743 - val_acc: 0.9143\n",
            "Epoch 13/20\n",
            "48000/48000 [==============================] - 21s 443us/sample - loss: 0.0880 - acc: 0.9671 - val_loss: 0.2776 - val_acc: 0.9173\n",
            "Epoch 14/20\n",
            "48000/48000 [==============================] - 21s 445us/sample - loss: 0.0783 - acc: 0.9717 - val_loss: 0.3086 - val_acc: 0.9141\n",
            "Epoch 15/20\n",
            "48000/48000 [==============================] - 21s 442us/sample - loss: 0.0723 - acc: 0.9735 - val_loss: 0.2998 - val_acc: 0.9162\n",
            "Epoch 16/20\n",
            "48000/48000 [==============================] - 21s 436us/sample - loss: 0.0612 - acc: 0.9790 - val_loss: 0.3265 - val_acc: 0.9140\n",
            "Epoch 17/20\n",
            "48000/48000 [==============================] - 22s 453us/sample - loss: 0.0564 - acc: 0.9803 - val_loss: 0.3428 - val_acc: 0.9139\n",
            "Epoch 18/20\n",
            "48000/48000 [==============================] - 21s 441us/sample - loss: 0.0500 - acc: 0.9824 - val_loss: 0.3418 - val_acc: 0.9146\n",
            "Epoch 19/20\n",
            "48000/48000 [==============================] - 21s 438us/sample - loss: 0.0445 - acc: 0.9840 - val_loss: 0.3854 - val_acc: 0.9118\n",
            "Epoch 20/20\n",
            "48000/48000 [==============================] - 21s 444us/sample - loss: 0.0424 - acc: 0.9850 - val_loss: 0.3985 - val_acc: 0.9118\n"
          ],
          "name": "stdout"
        }
      ]
    },
    {
      "cell_type": "code",
      "metadata": {
        "id": "ef32ybuqlb_G",
        "colab_type": "code",
        "colab": {
          "base_uri": "https://localhost:8080/",
          "height": 279
        },
        "outputId": "ce8ed1ee-2f70-4459-f826-9ced16575234"
      },
      "source": [
        "#손실그래프와 정확도 그래프 확인하기\n",
        "import matplotlib.pyplot as plt\n",
        "plt.plot(history.history['loss'])\n",
        "plt.plot(history.history['val_loss'])\n",
        "plt.ylabel('loss')\n",
        "plt.xlabel('epoch')\n",
        "plt.legend(['train_loss', 'val_loss'])\n",
        "plt.show()"
      ],
      "execution_count": 36,
      "outputs": [
        {
          "output_type": "display_data",
          "data": {
            "image/png": "[encoded data removed]",
            "text/plain": [
              "<Figure size 432x288 with 1 Axes>"
            ]
          },
          "metadata": {
            "tags": []
          }
        }
      ]
    },
    {
      "cell_type": "code",
      "metadata": {
        "id": "UavCyOSUnxC_",
        "colab_type": "code",
        "colab": {
          "base_uri": "https://localhost:8080/",
          "height": 279
        },
        "outputId": "436baaa7-1f02-48a0-add6-ebc6c169b997"
      },
      "source": [
        "plt.plot(history.history['acc'])\n",
        "plt.plot(history.history['val_acc'])\n",
        "plt.ylabel('loss')\n",
        "plt.xlabel('epoch')\n",
        "plt.legend(['train_acc', 'val_acc'])\n",
        "plt.show()"
      ],
      "execution_count": 38,
      "outputs": [
        {
          "output_type": "display_data",
          "data": {
            "image/png": "[encoded data removed]",
            "text/plain": [
              "<Figure size 432x288 with 1 Axes>"
            ]
          },
          "metadata": {
            "tags": []
          }
        }
      ]
    },
    {
      "cell_type": "code",
      "metadata": {
        "id": "MLtiCMMvn785",
        "colab_type": "code",
        "colab": {
          "base_uri": "https://localhost:8080/",
          "height": 52
        },
        "outputId": "98a5c7d0-c9e1-4c4c-f1ed-82b89c967981"
      },
      "source": [
        "#정확도\n",
        "loss,accuracy=conv1.evaluate(x_val,y_val_encoded,verbose=0)\n",
        "print(loss)\n",
        "print(accuracy)"
      ],
      "execution_count": 42,
      "outputs": [
        {
          "output_type": "stream",
          "text": [
            "0.3985147605802243\n",
            "0.91175\n"
          ],
          "name": "stdout"
        }
      ]
    },
    {
      "cell_type": "code",
      "metadata": {
        "id": "kl3WwjRBovYe",
        "colab_type": "code",
        "colab": {}
      },
      "source": [
        "#드롭아웃 적용하여 합성곱 신경망 구현\n",
        "from tensorflow.keras.layers import Dropout\n",
        "conv2=tf.keras.Sequential()\n",
        "conv2.add(Conv2D(10,(3,3),activation='relu',padding='same',input_shape=(28,28,1)))  #합성곱\n",
        "conv2.add(MaxPooling2D((2,2,)))  #풀링"
      ],
      "execution_count": 0,
      "outputs": []
    },
    {
      "cell_type": "code",
      "metadata": {
        "id": "v0FKU3uoqA5y",
        "colab_type": "code",
        "colab": {}
      },
      "source": [
        "conv2.add(Flatten())\n",
        "conv2.add(Dropout(0.5))  #드롭아웃\n",
        "conv2.add(Dense(100,activation='relu'))  #뉴런 100개\n",
        "conv2.add(Dense(10,activation='softmax'))  #뉴런 10개"
      ],
      "execution_count": 0,
      "outputs": []
    },
    {
      "cell_type": "code",
      "metadata": {
        "id": "yY5CiIuMqiap",
        "colab_type": "code",
        "colab": {
          "base_uri": "https://localhost:8080/",
          "height": 367
        },
        "outputId": "2b688a61-5419-4999-b7c5-f07e9fe02325"
      },
      "source": [
        "conv2.summary()"
      ],
      "execution_count": 47,
      "outputs": [
        {
          "output_type": "stream",
          "text": [
            "Model: \"sequential_4\"\n",
            "_________________________________________________________________\n",
            "Layer (type)                 Output Shape              Param #   \n",
            "=================================================================\n",
            "conv2d_4 (Conv2D)            (None, 28, 28, 10)        100       \n",
            "_________________________________________________________________\n",
            "max_pooling2d_1 (MaxPooling2 (None, 14, 14, 10)        0         \n",
            "_________________________________________________________________\n",
            "flatten_1 (Flatten)          (None, 1960)              0         \n",
            "_________________________________________________________________\n",
            "dropout (Dropout)            (None, 1960)              0         \n",
            "_________________________________________________________________\n",
            "dense_2 (Dense)              (None, 100)               196100    \n",
            "_________________________________________________________________\n",
            "dense_3 (Dense)              (None, 10)                1010      \n",
            "=================================================================\n",
            "Total params: 197,210\n",
            "Trainable params: 197,210\n",
            "Non-trainable params: 0\n",
            "_________________________________________________________________\n"
          ],
          "name": "stdout"
        }
      ]
    },
    {
      "cell_type": "code",
      "metadata": {
        "id": "2yCLcBYWqsnG",
        "colab_type": "code",
        "colab": {}
      },
      "source": [
        "conv2.compile(optimizer='adam', loss='categorical_crossentropy',\n",
        "              metrics=['accuracy'])"
      ],
      "execution_count": 0,
      "outputs": []
    },
    {
      "cell_type": "code",
      "metadata": {
        "id": "YcwC2m9gq6ai",
        "colab_type": "code",
        "colab": {
          "base_uri": "https://localhost:8080/",
          "height": 754
        },
        "outputId": "940bf55b-d129-4f83-b831-21887924b16f"
      },
      "source": [
        "history = conv2.fit(x_train, y_train_encoded, epochs=20, \n",
        "                    validation_data=(x_val, y_val_encoded))"
      ],
      "execution_count": 49,
      "outputs": [
        {
          "output_type": "stream",
          "text": [
            "Train on 48000 samples, validate on 12000 samples\n",
            "Epoch 1/20\n",
            "48000/48000 [==============================] - 24s 492us/sample - loss: 0.5219 - acc: 0.8113 - val_loss: 0.3686 - val_acc: 0.8669\n",
            "Epoch 2/20\n",
            "48000/48000 [==============================] - 24s 491us/sample - loss: 0.3773 - acc: 0.8649 - val_loss: 0.3235 - val_acc: 0.8807\n",
            "Epoch 3/20\n",
            "48000/48000 [==============================] - 23s 484us/sample - loss: 0.3341 - acc: 0.8790 - val_loss: 0.2830 - val_acc: 0.8997\n",
            "Epoch 4/20\n",
            "48000/48000 [==============================] - 23s 479us/sample - loss: 0.3086 - acc: 0.8867 - val_loss: 0.2645 - val_acc: 0.9067\n",
            "Epoch 5/20\n",
            "48000/48000 [==============================] - 23s 479us/sample - loss: 0.2881 - acc: 0.8946 - val_loss: 0.2592 - val_acc: 0.9089\n",
            "Epoch 6/20\n",
            "48000/48000 [==============================] - 23s 480us/sample - loss: 0.2724 - acc: 0.8980 - val_loss: 0.2487 - val_acc: 0.9119\n",
            "Epoch 7/20\n",
            "48000/48000 [==============================] - 23s 471us/sample - loss: 0.2612 - acc: 0.9019 - val_loss: 0.2450 - val_acc: 0.9125\n",
            "Epoch 8/20\n",
            "48000/48000 [==============================] - 22s 468us/sample - loss: 0.2531 - acc: 0.9051 - val_loss: 0.2651 - val_acc: 0.9032\n",
            "Epoch 9/20\n",
            "48000/48000 [==============================] - 22s 463us/sample - loss: 0.2394 - acc: 0.9095 - val_loss: 0.2406 - val_acc: 0.9146\n",
            "Epoch 10/20\n",
            "48000/48000 [==============================] - 22s 468us/sample - loss: 0.2340 - acc: 0.9136 - val_loss: 0.2308 - val_acc: 0.9179\n",
            "Epoch 11/20\n",
            "48000/48000 [==============================] - 22s 467us/sample - loss: 0.2247 - acc: 0.9156 - val_loss: 0.2370 - val_acc: 0.9146\n",
            "Epoch 12/20\n",
            "48000/48000 [==============================] - 22s 459us/sample - loss: 0.2174 - acc: 0.9171 - val_loss: 0.2326 - val_acc: 0.9166\n",
            "Epoch 13/20\n",
            "48000/48000 [==============================] - 22s 467us/sample - loss: 0.2110 - acc: 0.9197 - val_loss: 0.2284 - val_acc: 0.9186\n",
            "Epoch 14/20\n",
            "48000/48000 [==============================] - 22s 457us/sample - loss: 0.2078 - acc: 0.9218 - val_loss: 0.2324 - val_acc: 0.9178\n",
            "Epoch 15/20\n",
            "48000/48000 [==============================] - 22s 463us/sample - loss: 0.2035 - acc: 0.9225 - val_loss: 0.2353 - val_acc: 0.9172\n",
            "Epoch 16/20\n",
            "48000/48000 [==============================] - 23s 471us/sample - loss: 0.1977 - acc: 0.9252 - val_loss: 0.2380 - val_acc: 0.9168\n",
            "Epoch 17/20\n",
            "48000/48000 [==============================] - 22s 462us/sample - loss: 0.1942 - acc: 0.9254 - val_loss: 0.2371 - val_acc: 0.9174\n",
            "Epoch 18/20\n",
            "48000/48000 [==============================] - 22s 466us/sample - loss: 0.1877 - acc: 0.9293 - val_loss: 0.2348 - val_acc: 0.9208\n",
            "Epoch 19/20\n",
            "48000/48000 [==============================] - 22s 463us/sample - loss: 0.1858 - acc: 0.9298 - val_loss: 0.2274 - val_acc: 0.9223\n",
            "Epoch 20/20\n",
            "48000/48000 [==============================] - 23s 473us/sample - loss: 0.1787 - acc: 0.9316 - val_loss: 0.2410 - val_acc: 0.9176\n"
          ],
          "name": "stdout"
        }
      ]
    },
    {
      "cell_type": "code",
      "metadata": {
        "id": "wbgbVprHq-94",
        "colab_type": "code",
        "colab": {
          "base_uri": "https://localhost:8080/",
          "height": 279
        },
        "outputId": "ff01b9bb-8718-4457-9d0c-4240af36b734"
      },
      "source": [
        "#손실함수\n",
        "plt.plot(history.history['loss'])\n",
        "plt.plot(history.history['val_loss'])\n",
        "plt.ylabel('loss')\n",
        "plt.xlabel('epoch')\n",
        "plt.legend(['train_loss', 'val_loss'])\n",
        "plt.show()"
      ],
      "execution_count": 50,
      "outputs": [
        {
          "output_type": "display_data",
          "data": {
            "image/png": "[encoded data removed]",
            "text/plain": [
              "<Figure size 432x288 with 1 Axes>"
            ]
          },
          "metadata": {
            "tags": []
          }
        }
      ]
    },
    {
      "cell_type": "code",
      "metadata": {
        "id": "-c0Vx9CrrJRC",
        "colab_type": "code",
        "colab": {
          "base_uri": "https://localhost:8080/",
          "height": 279
        },
        "outputId": "39567df8-6fd1-4e6c-c355-870e568e930d"
      },
      "source": [
        "#정확도함수\n",
        "plt.plot(history.history['acc'])\n",
        "plt.plot(history.history['val_acc'])\n",
        "plt.ylabel('loss')\n",
        "plt.xlabel('epoch')\n",
        "plt.legend(['train_acc', 'val_acc'])\n",
        "plt.show()"
      ],
      "execution_count": 53,
      "outputs": [
        {
          "output_type": "display_data",
          "data": {
            "image/png": "[encoded data removed]",
            "text/plain": [
              "<Figure size 432x288 with 1 Axes>"
            ]
          },
          "metadata": {
            "tags": []
          }
        }
      ]
    },
    {
      "cell_type": "code",
      "metadata": {
        "id": "tNThDv3trPs6",
        "colab_type": "code",
        "colab": {
          "base_uri": "https://localhost:8080/",
          "height": 34
        },
        "outputId": "d7661b10-666b-4467-c39f-bfe014f00c29"
      },
      "source": [
        "#정확도\n",
        "loss, accuracy = conv2.evaluate(x_val, y_val_encoded, verbose=0)\n",
        "print(accuracy)"
      ],
      "execution_count": 52,
      "outputs": [
        {
          "output_type": "stream",
          "text": [
            "0.91758335\n"
          ],
          "name": "stdout"
        }
      ]
    },
    {
      "cell_type": "code",
      "metadata": {
        "id": "mHrkXZPDs9bt",
        "colab_type": "code",
        "colab": {}
      },
      "source": [
        ""
      ],
      "execution_count": 0,
      "outputs": []
    }
  ]
}