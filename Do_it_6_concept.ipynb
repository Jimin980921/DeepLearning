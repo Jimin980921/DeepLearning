{
  "nbformat": 4,
  "nbformat_minor": 0,
  "metadata": {
    "colab": {
      "name": "Do it_6 concept.ipynb",
      "provenance": [],
      "collapsed_sections": [],
      "authorship_tag": "ABX9TyOBFO01rsmMUJHLpNYP9jGQ",
      "include_colab_link": true
    },
    "kernelspec": {
      "name": "python3",
      "display_name": "Python 3"
    }
  },
  "cells": [
    {
      "cell_type": "markdown",
      "metadata": {
        "id": "view-in-github",
        "colab_type": "text"
      },
      "source": [
        "<a href=\"https://colab.research.google.com/github/Jimin980921/Do-it_DeepLearning/blob/master/Do_it_6_concept.ipynb\" target=\"_parent\"><img src=\"https://colab.research.google.com/assets/colab-badge.svg\" alt=\"Open In Colab\"/></a>"
      ]
    },
    {
      "cell_type": "code",
      "metadata": {
        "id": "4R0RimT0w3uJ",
        "colab_type": "code",
        "colab": {}
      },
      "source": [
        "import numpy as np\n",
        "x=np.array([1,2,3,4,5,6])\n",
        "w=np.array([0.1,0.2,0.3,0.4,0.5,0.6])\n",
        "z=np.sum(x*w)"
      ],
      "execution_count": 0,
      "outputs": []
    },
    {
      "cell_type": "code",
      "metadata": {
        "id": "3aAK_2j4xusJ",
        "colab_type": "code",
        "colab": {
          "base_uri": "https://localhost:8080/",
          "height": 35
        },
        "outputId": "573845bc-bfec-4f5e-fe88-082dc0d92c7f"
      },
      "source": [
        "z"
      ],
      "execution_count": 7,
      "outputs": [
        {
          "output_type": "execute_result",
          "data": {
            "text/plain": [
              "9.1"
            ]
          },
          "metadata": {
            "tags": []
          },
          "execution_count": 7
        }
      ]
    },
    {
      "cell_type": "code",
      "metadata": {
        "id": "OMLpsD9P4tdt",
        "colab_type": "code",
        "colab": {}
      },
      "source": [
        "z1=np.dot(x,w)"
      ],
      "execution_count": 0,
      "outputs": []
    },
    {
      "cell_type": "code",
      "metadata": {
        "id": "BfSegHPv4yl6",
        "colab_type": "code",
        "colab": {
          "base_uri": "https://localhost:8080/",
          "height": 35
        },
        "outputId": "e5784c4c-5906-4236-e251-7d586a0d6f1b"
      },
      "source": [
        "z1"
      ],
      "execution_count": 10,
      "outputs": [
        {
          "output_type": "execute_result",
          "data": {
            "text/plain": [
              "9.1"
            ]
          },
          "metadata": {
            "tags": []
          },
          "execution_count": 10
        }
      ]
    },
    {
      "cell_type": "code",
      "metadata": {
        "id": "-QI6fr50420f",
        "colab_type": "code",
        "colab": {}
      },
      "source": [
        "class SIngleLayer:\n",
        "  def init(self,learning_rate=0.1,l1=0,l2=0):\n",
        "    self.w=None\n",
        "    self.b=None\n",
        "    self.losses=[] #훈련손실저장\n",
        "    self.w_history=[] #가중치기록\n",
        "    self.val_losses=[] #검증손실저장\n",
        "    self.lr=learning_rate\n",
        "    self.l1=l1\n",
        "    self.l2=l2\n",
        "\n",
        "def forpass(self,w):\n",
        "  z=np,dot(x,self.w)+self.b\n",
        "  return z\n",
        "\n",
        "def backprop(self,x,err):\n",
        "  m=len(x) #미니배치\n",
        "  w_grad=np.dot(x.T,err) /m\n",
        "  b_grad=np.sum(err)/m\n",
        "  return w_grad,b_grad\n",
        "\n",
        "def activation(self,z):\n",
        "  a=1/(1+np.exp(-z))\n",
        "  return a\n",
        "\n",
        "def fit(self,x,y,epocjs=100,x_val=None,y_val=None):\n",
        "  y=y.reshape(-1,1)\n",
        "  y_val=y_val.reshape(-1,1)\n",
        "  m=len(x)\n",
        "  self.w=np.ones((x.shape[1],1))\n",
        "  self.b=0\n",
        "  self.w_history.append(self.w.copy())  #가중치 저장\n",
        "  for i in range(epochs):\n",
        "    z=self.forpass(x)\n",
        "    a=self.activation(z)\n",
        "    err-=-(y-a)  #차이\n",
        "    w_grad,b_grad=self.backprop(x,err)\n",
        "    w_grad+=(self.l1*np.sign(self.w)+self.l2*self.w)/m  #l1,l2규제 적용\n",
        "\n",
        "    self.w-=self.lr*w_grad  #학습률을 곱해서 w갱신\n",
        "    self.b-=self.lr*b_grad\n",
        "    self.w_history.append(self.w.copy())  #가중치 저장\n",
        "    a=np.clip(a,1e-10,1-1e-10)  #활성화 한 후 정규화\n",
        "\n",
        "    loss=np.sum(-(y*np.log(a)+(l-y)*np.log(1-a)))  #손실함수\n",
        "    self.losses.append((loss+self.reg_loss())/m)   #손실함수와 규제손실을 더하여 리스트 추가\n",
        "\n",
        "    #검증세트에대한 손실계산\n",
        "    self.update_val_loss(x_val,y_val)\n",
        "\n",
        "\n",
        "def predict(self,x):\n",
        "  z=self.forpass(x)\n",
        "  return z>0\n",
        "\n",
        "def score(self,x,y):\n",
        "  return np.mean(self.predict(x)==y.reshape(-1,1))\n",
        "\n",
        "def reg_loss(self):\n",
        "  return self.l1*np.sum(np.abs(self.w))+self.l2/2*np.sum(self.w**2)  #가중치 규제\n",
        "\n",
        "def update_val_loss(self,x_val,y_val):  #검증 손실 계산\n",
        "  z=self.forpass(x_val)    \n",
        "  a=self.activation(z)\n",
        "  a=np.clip(a,1e-10,1-1e-10)\n",
        "  #검증 손실계산\n",
        "  val_loss=np.sum(-(y_val*np.log(a)+(1-y_val)*np.log(1-a)))\n",
        "  #규제를 더해서 리스트에 추가\n",
        "  self.val_losses.append((val_loss+self.reg_loss())/len(y_val))"
      ],
      "execution_count": 0,
      "outputs": []
    },
    {
      "cell_type": "code",
      "metadata": {
        "id": "IQM8uoLrEKAE",
        "colab_type": "code",
        "colab": {}
      },
      "source": [
        ""
      ],
      "execution_count": 0,
      "outputs": []
    }
  ]
}