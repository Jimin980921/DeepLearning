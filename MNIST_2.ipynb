{
  "nbformat": 4,
  "nbformat_minor": 0,
  "metadata": {
    "colab": {
      "name": "MNIST_2.ipynb",
      "provenance": [],
      "collapsed_sections": [],
      "authorship_tag": "ABX9TyNTnDr1SR95zExvXi3Vy95W",
      "include_colab_link": true
    },
    "kernelspec": {
      "name": "python3",
      "display_name": "Python 3"
    }
  },
  "cells": [
    {
      "cell_type": "markdown",
      "metadata": {
        "id": "view-in-github",
        "colab_type": "text"
      },
      "source": [
        "<a href=\"https://colab.research.google.com/github/Jimin980921/DeepLearning/blob/master/MNIST_2.ipynb\" target=\"_parent\"><img src=\"https://colab.research.google.com/assets/colab-badge.svg\" alt=\"Open In Colab\"/></a>"
      ]
    },
    {
      "cell_type": "markdown",
      "metadata": {
        "id": "3buJzOAdb_0j",
        "colab_type": "text"
      },
      "source": [
        "# 데이터 불러오기"
      ]
    },
    {
      "cell_type": "code",
      "metadata": {
        "id": "PIGmZkDIxfOi",
        "colab_type": "code",
        "outputId": "63587cfe-f185-4eb1-f065-2cbcbec4561d",
        "colab": {
          "base_uri": "https://localhost:8080/",
          "height": 88
        }
      },
      "source": [
        "import tensorflow as tf\n",
        "from tensorflow.examples.tutorials.mnist import input_data\n",
        "mnist = input_data.read_data_sets('MNIST_data', one_hot=True) "
      ],
      "execution_count": 0,
      "outputs": [
        {
          "output_type": "stream",
          "text": [
            "Extracting MNIST_data/train-images-idx3-ubyte.gz\n",
            "Extracting MNIST_data/train-labels-idx1-ubyte.gz\n",
            "Extracting MNIST_data/t10k-images-idx3-ubyte.gz\n",
            "Extracting MNIST_data/t10k-labels-idx1-ubyte.gz\n"
          ],
          "name": "stdout"
        }
      ]
    },
    {
      "cell_type": "markdown",
      "metadata": {
        "id": "VSs6K14WcNcy",
        "colab_type": "text"
      },
      "source": [
        "tensorflow는 계산을 위해 고효율의 c++백엔드를 사용함. \n",
        "tensorflow는 session을 사용함.\n",
        "\n",
        "tensorflow는 먼저 그래프를 구성하고, 그래프를 세션을 통해 실행함.\n",
        "\n",
        "\n",
        "tensorflow코드를보다 유연하게 작성할 수 있게 해주는 InteractiveSession클래스를 사용함.\n",
        "이 클래스는 계산 그래프와 실행작업을 분리시켜줌."
      ]
    },
    {
      "cell_type": "code",
      "metadata": {
        "id": "ZZoITA90cEwt",
        "colab_type": "code",
        "outputId": "0990516a-5731-475e-d40b-6b4355ee77f7",
        "colab": {
          "base_uri": "https://localhost:8080/",
          "height": 72
        }
      },
      "source": [
        "sess=tf.InteractiveSession()"
      ],
      "execution_count": 0,
      "outputs": [
        {
          "output_type": "stream",
          "text": [
            "/usr/local/lib/python3.6/dist-packages/tensorflow_core/python/client/session.py:1750: UserWarning: An interactive session is already active. This can cause out-of-memory errors in some cases. You must explicitly call `InteractiveSession.close()` to release resources held by the other session(s).\n",
            "  warnings.warn('An interactive session is already active. This can '\n"
          ],
          "name": "stderr"
        }
      ]
    },
    {
      "cell_type": "markdown",
      "metadata": {
        "id": "n_K17BP6dBJH",
        "colab_type": "text"
      },
      "source": [
        "# **계산그래프**\n",
        "python에서 효율적인 수치계산을 위해,tensorflow는 상호작용하는 연산을 그래프로 묶어 그 전체를 python바깥에서 실행시키는 방법을 사용.\n"
      ]
    },
    {
      "cell_type": "markdown",
      "metadata": {
        "id": "seXLAkmadbGB",
        "colab_type": "text"
      },
      "source": [
        "# **소프트맥스 회귀(softmax regression)모델 구성**\n",
        "다층 계층의 합성곱 신경망을 구성할 것임."
      ]
    },
    {
      "cell_type": "markdown",
      "metadata": {
        "id": "cMY8jcWrdp47",
        "colab_type": "text"
      },
      "source": [
        "# **플레이스홀더(Placeholder)**\n",
        "x,y_에 특정한 값을 부여한 것이 아님.\n",
        "\n",
        "tensorflow가 계산을 실행할때, 값을 넣어줄 자리가 placeholder이다."
      ]
    },
    {
      "cell_type": "code",
      "metadata": {
        "id": "EB6XVy6Bcu6e",
        "colab_type": "code",
        "colab": {}
      },
      "source": [
        "x = tf.placeholder(tf.float32, shape=[None, 784])  \n",
        "#부동소수점실수,2차원 tensor. 784는 28*28 크기를 가진 mnist이미지를 한줄로 펼친 크기\n",
        "y_ = tf.placeholder(tf.float32, shape=[None, 10])   \n",
        "#2차원 tensor,mnist이미지의 숫자 클래스(one-hot벡터로 나타냄.)"
      ],
      "execution_count": 0,
      "outputs": []
    },
    {
      "cell_type": "markdown",
      "metadata": {
        "id": "ctCLLG77eoFV",
        "colab_type": "text"
      },
      "source": [
        "# **변수**\n",
        "가중치(w),편향(b)\n",
        "tensorflow는 이러한 변수를 다루기위해 Variable을 제공\n",
        "\n",
        "Variable이란 tensorflow의 계산 그래프안에 있는 값(계산에의해 변경되거나, 계산에 사용될 수 있음.)\n"
      ]
    },
    {
      "cell_type": "code",
      "metadata": {
        "id": "MdP239OtdzTw",
        "colab_type": "code",
        "colab": {}
      },
      "source": [
        "#Variable들은 세션이 시작되기전에 초기화되어야함.\n",
        "W = tf.Variable(tf.zeros([784,10]))\n",
        "#이미지벡터크기 784, 출력숫자클래스 10\n",
        "b = tf.Variable(tf.zeros([10]))\n",
        "#10차원 벡터"
      ],
      "execution_count": 0,
      "outputs": []
    },
    {
      "cell_type": "code",
      "metadata": {
        "id": "qNIhOm4ne891",
        "colab_type": "code",
        "colab": {}
      },
      "source": [
        "sess.run(tf.global_variables_initializer())\n",
        "#Variable들 각각에 대해 미리 지정된 초기값을 넣어주는 역할"
      ],
      "execution_count": 0,
      "outputs": []
    },
    {
      "cell_type": "markdown",
      "metadata": {
        "id": "kx6PE91Affqt",
        "colab_type": "text"
      },
      "source": [
        "# **클래스 예측 및 비용 함수**\n",
        "\n",
        "벡터화된 이미지인 x를 가중치 행렬인 W와 곱하고, 여기에 편향 b를 더한 뒤, 각각의 클래스에 대한 소프트맥스 함수의 결과를 계산"
      ]
    },
    {
      "cell_type": "code",
      "metadata": {
        "id": "0rYWwbpRfedi",
        "colab_type": "code",
        "colab": {}
      },
      "source": [
        "y=tf.nn.softmax(tf.matmul(x,W)+b)"
      ],
      "execution_count": 0,
      "outputs": []
    },
    {
      "cell_type": "code",
      "metadata": {
        "id": "BTJKFko1fyoH",
        "colab_type": "code",
        "colab": {}
      },
      "source": [
        "cross_entropy=tf.reduce_mean(-tf.reduce_sum(y_ * tf.log(y), reduction_indices=[1]))\n",
        "#손실함수는 크로스-엔트로피함수 사용\n",
        "#reduce_mean은 사용된 이미지들 각각에서 계산된 합의 평균을 구해주는 함수. y의 2번째 차원(reduction_indices=[1])의 원소들을 합함."
      ],
      "execution_count": 0,
      "outputs": []
    },
    {
      "cell_type": "markdown",
      "metadata": {
        "id": "4nzvJYPggeth",
        "colab_type": "text"
      },
      "source": [
        "# **모델 훈련시키기**\n",
        "tensorflow는 전체 계산 그래프의 정보가 입력되어있음. \n",
        "\n",
        "라이브러리가 자동으로 미분을 통해 각각 변수에대한 손실함수의 그레디언트를 계산\n",
        "\n",
        "경사하강법을 이용하여 크로스 엔트로피를 최소화할 것임."
      ]
    },
    {
      "cell_type": "code",
      "metadata": {
        "id": "MzJcfjPAgBok",
        "colab_type": "code",
        "colab": {}
      },
      "source": [
        "train_step=tf.train.GradientDescentOptimizer(0.5).minimize(cross_entropy)\n",
        "#학습속도 0.5\n",
        "#반환된 train_step은 실행되었을때, 경사하강법을 통해 각각의 매개변수 변화시킴. \n",
        "#모델을 훈련시키려면 반복해서 실행하면됨."
      ],
      "execution_count": 0,
      "outputs": []
    },
    {
      "cell_type": "code",
      "metadata": {
        "id": "BQAITud5hYVL",
        "colab_type": "code",
        "colab": {}
      },
      "source": [
        "for i in range(1000):\n",
        "  batch=mnist.train.next_batch(50)\n",
        "  #50개의 다음 훈련데이터 샘플 추출\n",
        "  train_step.run(feed_dict={x: batch[0], y_: batch[1]})\n",
        "  #train_step을 실행하여 텐서x와 y_에 훈련데이터 넣어줌.\n",
        "  #feed_dict는 계산 그래프안에 어떤 텐서도 변경가능.\n"
      ],
      "execution_count": 0,
      "outputs": []
    },
    {
      "cell_type": "markdown",
      "metadata": {
        "id": "thecmjBYiUHE",
        "colab_type": "text"
      },
      "source": [
        "# **모델 평가**\n",
        "tf.argmax로 한 차원에서 가장 큰 값의 인덱스를 반환해줌.\n",
        "\n",
        "tf.argmax(y,1)은 모델이 입력받고 가장 그럴듯하다고 생각한 레이블이고,\n",
        "\n",
        "tf.argmax(y_,1)은 실제레이블\n"
      ]
    },
    {
      "cell_type": "code",
      "metadata": {
        "id": "uNmAAjqfiR3_",
        "colab_type": "code",
        "colab": {}
      },
      "source": [
        "correct_prediction=tf.equal(tf.argmax(y,1),tf.argmax(y_,1))\n",
        "#불리언으로 이루어진 리스트 반환함. "
      ],
      "execution_count": 0,
      "outputs": []
    },
    {
      "cell_type": "code",
      "metadata": {
        "id": "6uoVPmh9iwnn",
        "colab_type": "code",
        "colab": {}
      },
      "source": [
        "accuracy=tf.reduce_mean(tf.cast(correct_prediction,tf.float32))\n",
        "#부동소수점으로 형변환하면 예측결과정확도나옴. "
      ],
      "execution_count": 0,
      "outputs": []
    },
    {
      "cell_type": "code",
      "metadata": {
        "id": "kj5qEL1tjBqL",
        "colab_type": "code",
        "outputId": "e44f61bb-6e17-4d9b-db33-5f5fb7b0d23a",
        "colab": {
          "base_uri": "https://localhost:8080/",
          "height": 35
        }
      },
      "source": [
        "print(accuracy.eval(feed_dict={x:mnist.test.images,y_:mnist.test.labels}))"
      ],
      "execution_count": 0,
      "outputs": [
        {
          "output_type": "stream",
          "text": [
            "0.8823\n"
          ],
          "name": "stdout"
        }
      ]
    },
    {
      "cell_type": "markdown",
      "metadata": {
        "id": "oiQ4tCCKkoFd",
        "colab_type": "text"
      },
      "source": [
        "# **다중 계층 합성곱 신경망**\n",
        "\n"
      ]
    },
    {
      "cell_type": "code",
      "metadata": {
        "id": "i1kXrzgkjFSC",
        "colab_type": "code",
        "colab": {}
      },
      "source": [
        "#매번 모델 만들때매다 반복\n",
        "def weight_variable(shape):\n",
        "  initial=tf.truncated_normal(shape,stddev=0.1)\n",
        "  #stddev는 표준편차를 줌.\n",
        "  return tf.Variable(initial)\n",
        "\n",
        "def bias_variable(shape):\n",
        "  initial=tf.constant(0.1,shape=shape)\n",
        "  #죽은 뉴런을 방지하기위해 편향을 작은양수(0.1)로 초기화함.\n",
        "  return tf.Variable(initial)"
      ],
      "execution_count": 0,
      "outputs": []
    },
    {
      "cell_type": "markdown",
      "metadata": {
        "id": "zOdiTacrl0Cz",
        "colab_type": "text"
      },
      "source": [
        "# **합성곱(convolution), 풀링(pooling)**\n",
        "\n",
        "합성곱:커널이동하면서 계산하는 것.\n",
        "\n",
        "풀링:특성 맵을 스캔하며 최댓값을 고르거나 평균값을 계산하는 것.\n",
        "\n",
        "strides:미끄러지는 배열의 간격을 조절하는 것.\n",
        "\n",
        "padding:원본배열의 양 끝에 빈 원소를 추가하는 것.\n",
        "\n"
      ]
    },
    {
      "cell_type": "code",
      "metadata": {
        "id": "RyCf6zOellej",
        "colab_type": "code",
        "colab": {}
      },
      "source": [
        "def conv2d(x,W):\n",
        "  return tf.nn.conv2d(x,W,strides=[1,1,1,1],padding=\"SAME\") \n",
        "  #SAME은 원본배열길이와 출력배열길이를 같게 하겠다는 의미\n",
        "\n",
        "def max_pool_2X2(x):\n",
        "  return tf.nn.max_pool(x,ksize=[1,2,2,1],strides=[1,2,2,1],padding=\"SAME\")\n",
        "  #ksize는 풀링의 크기"
      ],
      "execution_count": 0,
      "outputs": []
    },
    {
      "cell_type": "markdown",
      "metadata": {
        "id": "A9_gJVt1busd",
        "colab_type": "text"
      },
      "source": [
        "# **첫번째 합성곱 계층**\n",
        "합성곱계층에서는 5*5의 윈도우(patch)크기를 가지는 32개의 필터를 사용함\n",
        "\n",
        "[5,5,1,32]\n",
        "\n",
        "5,5는 윈도우의크기\n",
        "\n",
        "1은 입력채널의 수\n",
        "\n",
        "32는 출력채널의 수(얼마나 많은 특징을 사용할 것인가)\n",
        "\n"
      ]
    },
    {
      "cell_type": "code",
      "metadata": {
        "id": "-wYRjtcDmVWo",
        "colab_type": "code",
        "colab": {}
      },
      "source": [
        "w_conv1=weight_variable([5,5,1,32])\n",
        "b_conv1=bias_variable([32])"
      ],
      "execution_count": 0,
      "outputs": []
    },
    {
      "cell_type": "code",
      "metadata": {
        "id": "HytxH-hoccdw",
        "colab_type": "code",
        "colab": {}
      },
      "source": [
        "x_image=tf.reshape(x,[-1,28,28,1])\n",
        "#이미지를 입력하려면, x를 4차원텐서로 reshape해야함.\n",
        "#28 28은 이미지의 가로,세로길이, 1은 컬러채널의 갯수"
      ],
      "execution_count": 0,
      "outputs": []
    },
    {
      "cell_type": "code",
      "metadata": {
        "id": "4v179M70cv0B",
        "colab_type": "code",
        "colab": {}
      },
      "source": [
        "h_conv1=tf.nn.relu(conv2d(x_image,w_conv1)+b_conv1)\n",
        "#합성곱 적용후, relu함수(0보다 크면 그대로통과, 0보다 작으면 0)로 활성화\n",
        "h_pool1=max_pool_2X2(h_conv1)\n",
        "#출력값을 구하기위해 마지막으로 맥스 풀링(최대값출력)을 적용"
      ],
      "execution_count": 0,
      "outputs": []
    },
    {
      "cell_type": "markdown",
      "metadata": {
        "id": "1EHwj-mqd0wg",
        "colab_type": "text"
      },
      "source": [
        "# **두번째 합성곱 계층**\n",
        "5*5 윈도우(patch)에 64개 필터 사용"
      ]
    },
    {
      "cell_type": "code",
      "metadata": {
        "id": "wDYHLCendjvw",
        "colab_type": "code",
        "colab": {}
      },
      "source": [
        "w_conv2=weight_variable([5,5,32,64])\n",
        "b_conv2=bias_variable([64])"
      ],
      "execution_count": 0,
      "outputs": []
    },
    {
      "cell_type": "code",
      "metadata": {
        "id": "waOuEoFBeK0a",
        "colab_type": "code",
        "colab": {}
      },
      "source": [
        "h_conv2=tf.nn.relu(conv2d(h_pool1,w_conv2)+b_conv2) \n",
        "#첫번째 합성곱 계층의 결과(h_pool1)를 대입)\n",
        "h_pool2 = max_pool_2X2(h_conv2)"
      ],
      "execution_count": 0,
      "outputs": []
    },
    {
      "cell_type": "markdown",
      "metadata": {
        "id": "N6jPIUjGegFK",
        "colab_type": "text"
      },
      "source": [
        "# **완전 연결 계층**\n",
        "\n",
        "두번째 계층을 거친 뒤 이미지는 7*7로 줄어듬.(?)\n",
        "\n",
        "1024개의 뉴런을 연결되는 완전 연결 계층 구성\n",
        "\n",
        "7*7의 이미지배열을 reshpae해야하며, 완전 연결 계층에 맞는 가중치 행렬과 편향행렬을 구해야함.\n",
        "\n",
        "완전연결계층 끝에 relu함수 써야함.\n"
      ]
    },
    {
      "cell_type": "code",
      "metadata": {
        "id": "JU_5lF75ebEp",
        "colab_type": "code",
        "colab": {}
      },
      "source": [
        "w_fc1=weight_variable([7*7*64,1024])  #가중치\n",
        "b_fc1=bias_variable([1024])   #편향\n",
        "\n",
        "h_pool2_flat=tf.reshape(h_pool2,[-1,7*7*64])  #입력 reshape\n",
        "h_fc1=tf.nn.relu(tf.matmul(h_pool2_flat,w_fc1)+b_fc1)"
      ],
      "execution_count": 0,
      "outputs": []
    },
    {
      "cell_type": "markdown",
      "metadata": {
        "id": "L8g9IzUHgqeS",
        "colab_type": "text"
      },
      "source": [
        "# **드롭아웃**\n",
        "\n",
        "오버피팅을 방지하기위해 드롭아웃 적용\n",
        "\n",
        "드롭아웃이되지 않을 확률을 저장하는 placeholder만듬.(훈련에만 사용되고, 테스트에는 사용되지 않도록 만들 수 있음)\n",
        "\n",
        "tensorflow의 tf.nn.dropout은 뉴런출력을 자동으로 스케일링하므로, 추가 스케일링 필요없음.\n"
      ]
    },
    {
      "cell_type": "code",
      "metadata": {
        "id": "mdzM4T-hgemt",
        "colab_type": "code",
        "outputId": "30ba90a4-eb52-41b2-ea25-5e87406b2b29",
        "colab": {
          "base_uri": "https://localhost:8080/",
          "height": 90
        }
      },
      "source": [
        "keep_prob=tf.placeholder(tf.float32)\n",
        "h_fc1_drop=tf.nn.dropout(h_fc1,keep_prob)"
      ],
      "execution_count": 0,
      "outputs": [
        {
          "output_type": "stream",
          "text": [
            "WARNING:tensorflow:From <ipython-input-41-d47fc0bec1f9>:2: calling dropout (from tensorflow.python.ops.nn_ops) with keep_prob is deprecated and will be removed in a future version.\n",
            "Instructions for updating:\n",
            "Please use `rate` instead of `keep_prob`. Rate should be set to `rate = 1 - keep_prob`.\n"
          ],
          "name": "stdout"
        }
      ]
    },
    {
      "cell_type": "markdown",
      "metadata": {
        "id": "CE28fF38hZh8",
        "colab_type": "text"
      },
      "source": [
        "# 최종 소프트맥스 계층"
      ]
    },
    {
      "cell_type": "code",
      "metadata": {
        "id": "IupNR9WWhYD1",
        "colab_type": "code",
        "colab": {}
      },
      "source": [
        "w_fc2=weight_variable([1024,10])\n",
        "b_fc2=bias_variable([10])\n",
        "\n",
        "y_conv=tf.nn.softmax(tf.matmul(h_fc1_drop,w_fc2)+b_fc2)"
      ],
      "execution_count": 0,
      "outputs": []
    },
    {
      "cell_type": "markdown",
      "metadata": {
        "id": "xwlGTrfYhrAP",
        "colab_type": "text"
      },
      "source": [
        "# **모델 훈련 및 평가**\n",
        "\n",
        "adam최적화 알고리즘 사용"
      ]
    },
    {
      "cell_type": "code",
      "metadata": {
        "id": "hg4FK3XWhpfv",
        "colab_type": "code",
        "outputId": "03399b2a-e343-4ae7-d104-a5377da3c46c",
        "colab": {
          "base_uri": "https://localhost:8080/",
          "height": 1000
        }
      },
      "source": [
        "cross_entropy = tf.reduce_mean(-tf.reduce_sum(y_ * tf.log(y_conv), reduction_indices=[1]))\n",
        "#크로스 엔트로피 손실함수\n",
        "train_step=tf.train.AdamOptimizer(1e-4).minimize(cross_entropy)\n",
        "correct_prediction=tf.equal(tf.argmax(y_conv,1),tf.argmax(y_,1))\n",
        "#부울 값으로 이루어진 리스트.y_conv는 최종 소프트맥스 계층의 출력\n",
        "accuracy=tf.reduce_mean(tf.cast(correct_prediction,tf.float32))\n",
        "#이 값을 부동소수점 값으로 변환한 후 평균을 계산\n",
        "sess.run(tf.global_variables_initializer())\n",
        "#초기화\n",
        "\n",
        "for i in range(20000):\n",
        "  batch=mnist.train.next_batch(50)\n",
        "  #다음 배치 \n",
        "  if i%100==0:\n",
        "    train_accuracy=accuracy.eval(feed_dict={x:batch[0],y_:batch[1],keep_prob:1.0})\n",
        "    #드롭아웃이되지 않을 확률을 저장하는 placeholder=keep_prob\n",
        "    print(\"step %d, training accuracy %g\"%(i, train_accuracy))\n",
        "  train_step.run(feed_dict={x: batch[0], y_: batch[1], keep_prob: 0.5})\n",
        "  #train_step을 거침(아담). 최적화 결과 찾음.\n",
        "print(\"test accuracy %g\"%accuracy.eval(feed_dict={x: mnist.test.images, y_: mnist.test.labels, keep_prob: 1.0}))"
      ],
      "execution_count": 0,
      "outputs": [
        {
          "output_type": "stream",
          "text": [
            "step 0, training accuracy 0.06\n",
            "step 100, training accuracy 0.86\n",
            "step 200, training accuracy 0.9\n",
            "step 300, training accuracy 0.88\n",
            "step 400, training accuracy 0.84\n",
            "step 500, training accuracy 0.96\n",
            "step 600, training accuracy 0.92\n",
            "step 700, training accuracy 0.98\n",
            "step 800, training accuracy 0.96\n",
            "step 900, training accuracy 0.96\n",
            "step 1000, training accuracy 0.92\n",
            "step 1100, training accuracy 0.98\n",
            "step 1200, training accuracy 1\n",
            "step 1300, training accuracy 0.98\n",
            "step 1400, training accuracy 0.96\n",
            "step 1500, training accuracy 0.98\n",
            "step 1600, training accuracy 0.96\n",
            "step 1700, training accuracy 0.94\n",
            "step 1800, training accuracy 1\n",
            "step 1900, training accuracy 0.98\n",
            "step 2000, training accuracy 1\n",
            "step 2100, training accuracy 0.98\n",
            "step 2200, training accuracy 0.92\n",
            "step 2300, training accuracy 1\n",
            "step 2400, training accuracy 1\n",
            "step 2500, training accuracy 0.98\n",
            "step 2600, training accuracy 0.98\n",
            "step 2700, training accuracy 0.98\n",
            "step 2800, training accuracy 1\n",
            "step 2900, training accuracy 0.98\n",
            "step 3000, training accuracy 0.96\n",
            "step 3100, training accuracy 0.98\n",
            "step 3200, training accuracy 0.94\n",
            "step 3300, training accuracy 0.94\n",
            "step 3400, training accuracy 0.98\n",
            "step 3500, training accuracy 1\n",
            "step 3600, training accuracy 1\n",
            "step 3700, training accuracy 0.98\n",
            "step 3800, training accuracy 0.98\n",
            "step 3900, training accuracy 1\n",
            "step 4000, training accuracy 0.98\n",
            "step 4100, training accuracy 1\n",
            "step 4200, training accuracy 0.98\n",
            "step 4300, training accuracy 1\n",
            "step 4400, training accuracy 0.98\n",
            "step 4500, training accuracy 1\n",
            "step 4600, training accuracy 0.98\n",
            "step 4700, training accuracy 1\n",
            "step 4800, training accuracy 1\n",
            "step 4900, training accuracy 1\n",
            "step 5000, training accuracy 1\n",
            "step 5100, training accuracy 1\n",
            "step 5200, training accuracy 0.96\n",
            "step 5300, training accuracy 1\n",
            "step 5400, training accuracy 0.98\n",
            "step 5500, training accuracy 1\n",
            "step 5600, training accuracy 1\n",
            "step 5700, training accuracy 1\n",
            "step 5800, training accuracy 1\n",
            "step 5900, training accuracy 1\n",
            "step 6000, training accuracy 1\n",
            "step 6100, training accuracy 1\n",
            "step 6200, training accuracy 1\n",
            "step 6300, training accuracy 1\n",
            "step 6400, training accuracy 1\n",
            "step 6500, training accuracy 1\n",
            "step 6600, training accuracy 1\n",
            "step 6700, training accuracy 1\n",
            "step 6800, training accuracy 0.98\n",
            "step 6900, training accuracy 1\n",
            "step 7000, training accuracy 1\n",
            "step 7100, training accuracy 1\n",
            "step 7200, training accuracy 1\n",
            "step 7300, training accuracy 1\n",
            "step 7400, training accuracy 1\n",
            "step 7500, training accuracy 0.98\n",
            "step 7600, training accuracy 0.98\n",
            "step 7700, training accuracy 1\n",
            "step 7800, training accuracy 1\n",
            "step 7900, training accuracy 1\n",
            "step 8000, training accuracy 0.98\n",
            "step 8100, training accuracy 1\n",
            "step 8200, training accuracy 1\n",
            "step 8300, training accuracy 1\n",
            "step 8400, training accuracy 0.98\n",
            "step 8500, training accuracy 0.98\n",
            "step 8600, training accuracy 1\n",
            "step 8700, training accuracy 1\n",
            "step 8800, training accuracy 1\n",
            "step 8900, training accuracy 1\n",
            "step 9000, training accuracy 1\n",
            "step 9100, training accuracy 0.98\n",
            "step 9200, training accuracy 1\n",
            "step 9300, training accuracy 1\n",
            "step 9400, training accuracy 1\n",
            "step 9500, training accuracy 1\n",
            "step 9600, training accuracy 0.98\n",
            "step 9700, training accuracy 1\n",
            "step 9800, training accuracy 0.98\n",
            "step 9900, training accuracy 0.98\n",
            "step 10000, training accuracy 0.98\n",
            "step 10100, training accuracy 1\n",
            "step 10200, training accuracy 1\n",
            "step 10300, training accuracy 0.98\n",
            "step 10400, training accuracy 1\n",
            "step 10500, training accuracy 1\n",
            "step 10600, training accuracy 1\n",
            "step 10700, training accuracy 1\n",
            "step 10800, training accuracy 1\n",
            "step 10900, training accuracy 1\n",
            "step 11000, training accuracy 1\n",
            "step 11100, training accuracy 1\n",
            "step 11200, training accuracy 1\n",
            "step 11300, training accuracy 0.96\n",
            "step 11400, training accuracy 1\n",
            "step 11500, training accuracy 1\n",
            "step 11600, training accuracy 1\n",
            "step 11700, training accuracy 1\n",
            "step 11800, training accuracy 1\n",
            "step 11900, training accuracy 1\n",
            "step 12000, training accuracy 1\n",
            "step 12100, training accuracy 1\n",
            "step 12200, training accuracy 1\n",
            "step 12300, training accuracy 0.98\n",
            "step 12400, training accuracy 1\n",
            "step 12500, training accuracy 1\n",
            "step 12600, training accuracy 1\n",
            "step 12700, training accuracy 1\n",
            "step 12800, training accuracy 1\n",
            "step 12900, training accuracy 1\n",
            "step 13000, training accuracy 1\n",
            "step 13100, training accuracy 1\n",
            "step 13200, training accuracy 1\n",
            "step 13300, training accuracy 1\n",
            "step 13400, training accuracy 1\n",
            "step 13500, training accuracy 1\n",
            "step 13600, training accuracy 1\n",
            "step 13700, training accuracy 0.98\n",
            "step 13800, training accuracy 0.98\n",
            "step 13900, training accuracy 1\n",
            "step 14000, training accuracy 1\n",
            "step 14100, training accuracy 1\n",
            "step 14200, training accuracy 1\n",
            "step 14300, training accuracy 1\n",
            "step 14400, training accuracy 1\n",
            "step 14500, training accuracy 1\n",
            "step 14600, training accuracy 0.98\n",
            "step 14700, training accuracy 0.98\n",
            "step 14800, training accuracy 1\n",
            "step 14900, training accuracy 0.98\n",
            "step 15000, training accuracy 1\n",
            "step 15100, training accuracy 1\n",
            "step 15200, training accuracy 1\n",
            "step 15300, training accuracy 1\n",
            "step 15400, training accuracy 1\n",
            "step 15500, training accuracy 1\n",
            "step 15600, training accuracy 1\n",
            "step 15700, training accuracy 1\n",
            "step 15800, training accuracy 1\n",
            "step 15900, training accuracy 1\n",
            "step 16000, training accuracy 1\n",
            "step 16100, training accuracy 1\n",
            "step 16200, training accuracy 1\n",
            "step 16300, training accuracy 1\n",
            "step 16400, training accuracy 1\n",
            "step 16500, training accuracy 0.98\n",
            "step 16600, training accuracy 1\n",
            "step 16700, training accuracy 1\n",
            "step 16800, training accuracy 1\n",
            "step 16900, training accuracy 1\n",
            "step 17000, training accuracy 1\n",
            "step 17100, training accuracy 1\n",
            "step 17200, training accuracy 1\n",
            "step 17300, training accuracy 1\n",
            "step 17400, training accuracy 1\n",
            "step 17500, training accuracy 1\n",
            "step 17600, training accuracy 1\n",
            "step 17700, training accuracy 1\n",
            "step 17800, training accuracy 1\n",
            "step 17900, training accuracy 1\n",
            "step 18000, training accuracy 1\n",
            "step 18100, training accuracy 1\n",
            "step 18200, training accuracy 1\n",
            "step 18300, training accuracy 1\n",
            "step 18400, training accuracy 1\n",
            "step 18500, training accuracy 1\n",
            "step 18600, training accuracy 1\n",
            "step 18700, training accuracy 1\n",
            "step 18800, training accuracy 1\n",
            "step 18900, training accuracy 1\n",
            "step 19000, training accuracy 1\n",
            "step 19100, training accuracy 1\n",
            "step 19200, training accuracy 1\n",
            "step 19300, training accuracy 1\n",
            "step 19400, training accuracy 1\n",
            "step 19500, training accuracy 1\n",
            "step 19600, training accuracy 1\n",
            "step 19700, training accuracy 1\n",
            "step 19800, training accuracy 1\n",
            "step 19900, training accuracy 1\n",
            "test accuracy 0.9923\n"
          ],
          "name": "stdout"
        }
      ]
    },
    {
      "cell_type": "code",
      "metadata": {
        "id": "XtutU7kYkGhd",
        "colab_type": "code",
        "colab": {}
      },
      "source": [
        ""
      ],
      "execution_count": 0,
      "outputs": []
    }
  ]
}