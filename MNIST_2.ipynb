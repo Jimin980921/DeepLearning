{
  "nbformat": 4,
  "nbformat_minor": 0,
  "metadata": {
    "colab": {
      "name": "MNIST_2.ipynb",
      "provenance": [],
      "collapsed_sections": [],
      "authorship_tag": "ABX9TyNrRk4DyHVkQOglbHRaCrm9",
      "include_colab_link": true
    },
    "kernelspec": {
      "name": "python3",
      "display_name": "Python 3"
    }
  },
  "cells": [
    {
      "cell_type": "markdown",
      "metadata": {
        "id": "view-in-github",
        "colab_type": "text"
      },
      "source": [
        "<a href=\"https://colab.research.google.com/github/Jimin980921/DeepLearning/blob/master/MNIST_2.ipynb\" target=\"_parent\"><img src=\"https://colab.research.google.com/assets/colab-badge.svg\" alt=\"Open In Colab\"/></a>"
      ]
    },
    {
      "cell_type": "markdown",
      "metadata": {
        "id": "3buJzOAdb_0j",
        "colab_type": "text"
      },
      "source": [
        "# 데이터 불러오기"
      ]
    },
    {
      "cell_type": "code",
      "metadata": {
        "id": "PIGmZkDIxfOi",
        "colab_type": "code",
        "colab": {
          "base_uri": "https://localhost:8080/",
          "height": 616
        },
        "outputId": "32232d9b-fdc6-4f53-ffe8-1b755c98ced0"
      },
      "source": [
        "import tensorflow as tf\n",
        "from tensorflow.examples.tutorials.mnist import input_data\n",
        "mnist = input_data.read_data_sets('MNIST_data', one_hot=True) "
      ],
      "execution_count": 1,
      "outputs": [
        {
          "output_type": "display_data",
          "data": {
            "text/html": [
              "<p style=\"color: red;\">\n",
              "The default version of TensorFlow in Colab will soon switch to TensorFlow 2.x.<br>\n",
              "We recommend you <a href=\"https://www.tensorflow.org/guide/migrate\" target=\"_blank\">upgrade</a> now \n",
              "or ensure your notebook will continue to use TensorFlow 1.x via the <code>%tensorflow_version 1.x</code> magic:\n",
              "<a href=\"https://colab.research.google.com/notebooks/tensorflow_version.ipynb\" target=\"_blank\">more info</a>.</p>\n"
            ],
            "text/plain": [
              "<IPython.core.display.HTML object>"
            ]
          },
          "metadata": {
            "tags": []
          }
        },
        {
          "output_type": "stream",
          "text": [
            "WARNING:tensorflow:From <ipython-input-1-59efcb07063c>:3: read_data_sets (from tensorflow.contrib.learn.python.learn.datasets.mnist) is deprecated and will be removed in a future version.\n",
            "Instructions for updating:\n",
            "Please use alternatives such as official/mnist/dataset.py from tensorflow/models.\n",
            "WARNING:tensorflow:From /usr/local/lib/python3.6/dist-packages/tensorflow_core/contrib/learn/python/learn/datasets/mnist.py:260: maybe_download (from tensorflow.contrib.learn.python.learn.datasets.base) is deprecated and will be removed in a future version.\n",
            "Instructions for updating:\n",
            "Please write your own downloading logic.\n",
            "WARNING:tensorflow:From /usr/local/lib/python3.6/dist-packages/tensorflow_core/contrib/learn/python/learn/datasets/base.py:252: _internal_retry.<locals>.wrap.<locals>.wrapped_fn (from tensorflow.contrib.learn.python.learn.datasets.base) is deprecated and will be removed in a future version.\n",
            "Instructions for updating:\n",
            "Please use urllib or similar directly.\n",
            "Successfully downloaded train-images-idx3-ubyte.gz 9912422 bytes.\n",
            "WARNING:tensorflow:From /usr/local/lib/python3.6/dist-packages/tensorflow_core/contrib/learn/python/learn/datasets/mnist.py:262: extract_images (from tensorflow.contrib.learn.python.learn.datasets.mnist) is deprecated and will be removed in a future version.\n",
            "Instructions for updating:\n",
            "Please use tf.data to implement this functionality.\n",
            "Extracting MNIST_data/train-images-idx3-ubyte.gz\n",
            "Successfully downloaded train-labels-idx1-ubyte.gz 28881 bytes.\n",
            "WARNING:tensorflow:From /usr/local/lib/python3.6/dist-packages/tensorflow_core/contrib/learn/python/learn/datasets/mnist.py:267: extract_labels (from tensorflow.contrib.learn.python.learn.datasets.mnist) is deprecated and will be removed in a future version.\n",
            "Instructions for updating:\n",
            "Please use tf.data to implement this functionality.\n",
            "Extracting MNIST_data/train-labels-idx1-ubyte.gz\n",
            "WARNING:tensorflow:From /usr/local/lib/python3.6/dist-packages/tensorflow_core/contrib/learn/python/learn/datasets/mnist.py:110: dense_to_one_hot (from tensorflow.contrib.learn.python.learn.datasets.mnist) is deprecated and will be removed in a future version.\n",
            "Instructions for updating:\n",
            "Please use tf.one_hot on tensors.\n",
            "Successfully downloaded t10k-images-idx3-ubyte.gz 1648877 bytes.\n",
            "Extracting MNIST_data/t10k-images-idx3-ubyte.gz\n",
            "Successfully downloaded t10k-labels-idx1-ubyte.gz 4542 bytes.\n",
            "Extracting MNIST_data/t10k-labels-idx1-ubyte.gz\n",
            "WARNING:tensorflow:From /usr/local/lib/python3.6/dist-packages/tensorflow_core/contrib/learn/python/learn/datasets/mnist.py:290: DataSet.__init__ (from tensorflow.contrib.learn.python.learn.datasets.mnist) is deprecated and will be removed in a future version.\n",
            "Instructions for updating:\n",
            "Please use alternatives such as official/mnist/dataset.py from tensorflow/models.\n"
          ],
          "name": "stdout"
        }
      ]
    },
    {
      "cell_type": "markdown",
      "metadata": {
        "id": "VSs6K14WcNcy",
        "colab_type": "text"
      },
      "source": [
        "tensorflow는 계산을 위해 고효율의 c++백엔드를 사용함. \n",
        "tensorflow는 session을 사용함.\n",
        "\n",
        "tensorflow는 먼저 그래프를 구성하고, 그래프를 세션을 통해 실행함.\n",
        "\n",
        "\n",
        "tensorflow코드를보다 유연하게 작성할 수 있게 해주는 InteractiveSession클래스를 사용함.\n",
        "이 클래스는 계산 그래프와 실행작업을 분리시켜줌."
      ]
    },
    {
      "cell_type": "code",
      "metadata": {
        "id": "ZZoITA90cEwt",
        "colab_type": "code",
        "colab": {}
      },
      "source": [
        "sess=tf.InteractiveSession()"
      ],
      "execution_count": 0,
      "outputs": []
    },
    {
      "cell_type": "markdown",
      "metadata": {
        "id": "n_K17BP6dBJH",
        "colab_type": "text"
      },
      "source": [
        "# **계산그래프**\n",
        "python에서 효율적인 수치계산을 위해,tensorflow는 상호작용하는 연산을 그래프로 묶어 그 전체를 python바깥에서 실행시키는 방법을 사용.\n"
      ]
    },
    {
      "cell_type": "markdown",
      "metadata": {
        "id": "seXLAkmadbGB",
        "colab_type": "text"
      },
      "source": [
        "# **소프트맥스 회귀(softmax regression)모델 구성**\n",
        "다층 계층의 합성곱 신경망을 구성할 것임."
      ]
    },
    {
      "cell_type": "markdown",
      "metadata": {
        "id": "cMY8jcWrdp47",
        "colab_type": "text"
      },
      "source": [
        "# **플레이스홀더(Placeholder)**\n",
        "x,y_에 특정한 값을 부여한 것이 아님.\n",
        "\n",
        "tensorflow가 계산을 실행할때, 값을 넣어줄 자리가 placeholder이다."
      ]
    },
    {
      "cell_type": "code",
      "metadata": {
        "id": "EB6XVy6Bcu6e",
        "colab_type": "code",
        "colab": {}
      },
      "source": [
        "x = tf.placeholder(tf.float32, shape=[None, 784])  \n",
        "#부동소수점실수,2차원 tensor. 784sms 28*28 크기를 가진 mnist이미지를 한줄로 펼친 크기\n",
        "y_ = tf.placeholder(tf.float32, shape=[None, 10])   \n",
        "#2차원 tensor,mnist이미지의 숫자 클래스(one-hot벡터로 나타냄.)"
      ],
      "execution_count": 0,
      "outputs": []
    },
    {
      "cell_type": "markdown",
      "metadata": {
        "id": "ctCLLG77eoFV",
        "colab_type": "text"
      },
      "source": [
        "# **변수**\n",
        "가중치(w),편향(b)\n",
        "tensorflow는 이러한 변수를 다루기위해 Variable을 제공\n",
        "\n",
        "Variable이란 tensorflow의 계산 그래프안에 있는 값(계산에의해 변경되거나, 계산에 사용될 수 있음.)\n"
      ]
    },
    {
      "cell_type": "code",
      "metadata": {
        "id": "MdP239OtdzTw",
        "colab_type": "code",
        "colab": {}
      },
      "source": [
        "#Variable들은 세션이 시작되기전에 초기화되어야함.\n",
        "W = tf.Variable(tf.zeros([784,10]))\n",
        "#이미지벡터크기 784, 출력숫자클래스 10\n",
        "b = tf.Variable(tf.zeros([10]))\n",
        "#10차원 벡터"
      ],
      "execution_count": 0,
      "outputs": []
    },
    {
      "cell_type": "code",
      "metadata": {
        "id": "qNIhOm4ne891",
        "colab_type": "code",
        "colab": {}
      },
      "source": [
        "sess.run(tf.global_variables_initializer())\n",
        "#Variable들 각각에 대해 미리 지정된 초기값을 넣어주는 역할"
      ],
      "execution_count": 0,
      "outputs": []
    },
    {
      "cell_type": "markdown",
      "metadata": {
        "id": "kx6PE91Affqt",
        "colab_type": "text"
      },
      "source": [
        "# **클래스 예측 및 비용 함수**\n",
        "\n",
        "벡터화된 이미지인 x를 가중치 행렬인 W와 곱하고, 여기에 편향 b를 더한 뒤, 각각의 클래스에 대한 소프트맥스 함수의 결과를 계산"
      ]
    },
    {
      "cell_type": "code",
      "metadata": {
        "id": "0rYWwbpRfedi",
        "colab_type": "code",
        "colab": {}
      },
      "source": [
        "y=tf.nn.softmax(tf.matmul(x,W)+b)"
      ],
      "execution_count": 0,
      "outputs": []
    },
    {
      "cell_type": "code",
      "metadata": {
        "id": "BTJKFko1fyoH",
        "colab_type": "code",
        "colab": {}
      },
      "source": [
        "cross_entropy=tf.reduce_mean(-tf.reduce_sum(y_ * tf.log(y), reduction_indices=[1]))\n",
        "#손실함수는 크로스-엔트로피함수 사용\n",
        "#reduce_mean은 사용된 이미지들 각각에서 계산된 합의 평균을 구해주는 함수. y의 2번째 차원(reduction_indices=[1])의 원소들을 합함."
      ],
      "execution_count": 0,
      "outputs": []
    },
    {
      "cell_type": "markdown",
      "metadata": {
        "id": "4nzvJYPggeth",
        "colab_type": "text"
      },
      "source": [
        "# **모델 훈련시키기**\n",
        "tensorflow는 전체 계산 그래프의 정보가 입력되어있음. \n",
        "\n",
        "라이브러리가 자동으로 미분을 통해 각각 변수에대한 손실함수의 그레디언트를 계산\n",
        "\n",
        "경사하강법을 이용하여 크로스 엔트로피를 최소화할 것임."
      ]
    },
    {
      "cell_type": "code",
      "metadata": {
        "id": "MzJcfjPAgBok",
        "colab_type": "code",
        "colab": {}
      },
      "source": [
        "train_step=tf.train.GradientDescentOptimizer(0.5).minimize(cross_entropy)\n",
        "#학습속도 0.5\n",
        "#반환된 train_step은 실행되었을때, 경사하강법을 통해 각각의 매개변수 변화시킴. \n",
        "#모델을 훈련시키려면 반복해서 실행하면됨."
      ],
      "execution_count": 0,
      "outputs": []
    },
    {
      "cell_type": "code",
      "metadata": {
        "id": "BQAITud5hYVL",
        "colab_type": "code",
        "colab": {}
      },
      "source": [
        "for i in range(1000):\n",
        "  batch=mnist.train.next_batch(50)\n",
        "  #50개의 다음 훈련데이터 샘플 추출\n",
        "  train_step.run(feed_dict={x: batch[0], y_: batch[1]})\n",
        "  #train_step을 실행하여 텐서x와 y_에 훈련데이터 넣어줌.\n",
        "  #feed_dict는 계산 그래프안에 어떤 텐서도 변경가능.\n"
      ],
      "execution_count": 0,
      "outputs": []
    },
    {
      "cell_type": "markdown",
      "metadata": {
        "id": "thecmjBYiUHE",
        "colab_type": "text"
      },
      "source": [
        "# **모델 평가**\n",
        "tf.argmax로 한 차원에서 가장 큰 값의 인덱스를 반환해줌.\n",
        "\n",
        "tf.argmax(y,1)은 모델이 입력받고 가장 그럴듯하다고 생각한 레이블이고,\n",
        "\n",
        "tf.argmax(y_,1)은 실제레이블\n"
      ]
    },
    {
      "cell_type": "code",
      "metadata": {
        "id": "uNmAAjqfiR3_",
        "colab_type": "code",
        "colab": {}
      },
      "source": [
        "correct_prediction=tf.equal(tf.argmax(y,1),tf.argmax(y_,1))\n",
        "#불리언으로 이루어진 리스트 반환함. "
      ],
      "execution_count": 0,
      "outputs": []
    },
    {
      "cell_type": "code",
      "metadata": {
        "id": "6uoVPmh9iwnn",
        "colab_type": "code",
        "colab": {}
      },
      "source": [
        "accuracy=tf.reduce_mean(tf.cast(correct_prediction,tf.float32))\n",
        "#부동소수점으로 형변환하면 예측결과정확도나옴. "
      ],
      "execution_count": 0,
      "outputs": []
    },
    {
      "cell_type": "code",
      "metadata": {
        "id": "kj5qEL1tjBqL",
        "colab_type": "code",
        "colab": {
          "base_uri": "https://localhost:8080/",
          "height": 35
        },
        "outputId": "d1e4551c-dfc4-4910-81b6-1dcabc62ffc2"
      },
      "source": [
        "print(accuracy.eval(feed_dict={x:mnist.test.images,y_:mnist.test.labels}))"
      ],
      "execution_count": 26,
      "outputs": [
        {
          "output_type": "stream",
          "text": [
            "0.9161\n"
          ],
          "name": "stdout"
        }
      ]
    },
    {
      "cell_type": "markdown",
      "metadata": {
        "id": "oiQ4tCCKkoFd",
        "colab_type": "text"
      },
      "source": [
        "# **다중 계층 합성곱 신경망**\n",
        "\n"
      ]
    },
    {
      "cell_type": "code",
      "metadata": {
        "id": "i1kXrzgkjFSC",
        "colab_type": "code",
        "colab": {}
      },
      "source": [
        "#매번 모델 만들때매다 반복\n",
        "def weight_variable(shape):\n",
        "  initial=tf.truncated_normal(shape,stddev=0.1)\n",
        "  #stddev는 표준편차를 줌.\n",
        "  return tf.Variable(initial)\n",
        "\n",
        "def bias_variable(shape):\n",
        "  initial=tf.constant(0.1,shape=shape)\n",
        "  #죽은 뉴런을 방지하기위해 편향을 작은양수(0.1)로 초기화함.\n",
        "  return tf.Variable(initial)"
      ],
      "execution_count": 0,
      "outputs": []
    },
    {
      "cell_type": "markdown",
      "metadata": {
        "id": "zOdiTacrl0Cz",
        "colab_type": "text"
      },
      "source": [
        "# **합성곱(convolution), 풀링(pooling)**\n",
        "\n",
        "합성곱:\n",
        "\n",
        "풀링:\n",
        "\n",
        "strides:\n",
        "\n",
        "padding:\n",
        "\n"
      ]
    },
    {
      "cell_type": "code",
      "metadata": {
        "id": "RyCf6zOellej",
        "colab_type": "code",
        "colab": {}
      },
      "source": [
        "def conv2d(x,W):\n",
        "  return tf.nn.conv2d(x,W,strides=[1,1,1,1],padding=\"SAME\")\n",
        "\n",
        "def max_pool_2X2(x):\n",
        "  return tf.nn.max_pool(x,ksize=[1,2,2,1],strides=[1,2,2,1],padding=\"SAME\")"
      ],
      "execution_count": 0,
      "outputs": []
    },
    {
      "cell_type": "code",
      "metadata": {
        "id": "-wYRjtcDmVWo",
        "colab_type": "code",
        "colab": {}
      },
      "source": [
        ""
      ],
      "execution_count": 0,
      "outputs": []
    }
  ]
}